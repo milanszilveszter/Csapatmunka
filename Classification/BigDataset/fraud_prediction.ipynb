{
 "cells": [
  {
   "cell_type": "markdown",
   "source": [
    "### 1. Importing packages"
   ],
   "metadata": {
    "collapsed": false
   }
  },
  {
   "cell_type": "code",
   "execution_count": 1,
   "metadata": {
    "collapsed": false,
    "ExecuteTime": {
     "end_time": "2024-05-14T16:42:24.581494Z",
     "start_time": "2024-05-14T16:42:24.566487Z"
    }
   },
   "outputs": [],
   "source": [
    "import pandas as pd\n",
    "import numpy as np"
   ]
  },
  {
   "cell_type": "markdown",
   "source": [
    "### Reading data from CSV"
   ],
   "metadata": {
    "collapsed": false
   }
  },
  {
   "cell_type": "code",
   "outputs": [],
   "source": [
    "df1 = pd.read_csv('fraud1.csv')\n",
    "df2 = pd.read_csv('fraud2.csv')\n",
    "\n",
    "df = pd.concat([df1, df2], axis=0)"
   ],
   "metadata": {
    "collapsed": false,
    "ExecuteTime": {
     "end_time": "2024-05-14T16:42:27.106594Z",
     "start_time": "2024-05-14T16:42:24.584490Z"
    }
   },
   "execution_count": 2
  },
  {
   "cell_type": "markdown",
   "source": [
    "### 3. Explanitory data analysis"
   ],
   "metadata": {
    "collapsed": false
   }
  },
  {
   "cell_type": "code",
   "outputs": [
    {
     "data": {
      "text/plain": "   Unnamed: 0 trans_date_trans_time        cc_num  \\\n0      303314      13/10/2020 15:20  4.040100e+18   \n1      303315      13/10/2020 15:20  6.759460e+11   \n2      303316      13/10/2020 15:21  3.590740e+15   \n3      303317      13/10/2020 15:21  3.560730e+15   \n4      303318      13/10/2020 15:22  3.598220e+15   \n5      303319      13/10/2020 15:22  4.783230e+12   \n6      303320      13/10/2020 15:23  2.254800e+15   \n7      303321      13/10/2020 15:24  3.599240e+15   \n8      303322      13/10/2020 15:24  3.725090e+14   \n9      303323      13/10/2020 15:24  4.839620e+15   \n\n                         merchant        category     amt     first  \\\n0  fraud_O'Reilly, Mohr and Purdy            home   73.87   Jeffrey   \n1                fraud_Little Ltd       kids_pets   33.58     Ellen   \n2  fraud_Witting, Beer and Ernser            home   81.54  Kimberly   \n3              fraud_Botsford PLC            home    2.11    Brooke   \n4                fraud_Feil-Morar  health_fitness  108.87    Ashley   \n5         fraud_Botsford and Sons            home   49.18   Jessica   \n6         fraud_Gaylord-Powlowski            home   23.57   Barbara   \n7    fraud_Runte, Green and Emard  health_fitness   17.54   Jessica   \n8             fraud_Daugherty LLC       kids_pets   21.47   Kristen   \n9   fraud_Weber, Thiel and Hammes       kids_pets   13.08   Phillip   \n\n        last gender                         street  ...      lat      long  \\\n0      Lewis      M             24255 Bryan Square  ...  48.3396 -102.2400   \n1      Smith      F                285 George Lake  ...  40.7687  -80.3592   \n2   Gonzalez      F    72966 Shannon Pass Apt. 391  ...  34.5091  -92.4828   \n3      Smith      F      63542 Luna Brook Apt. 012  ...  31.8599 -102.7413   \n4      Lopez      F           9333 Valentine Point  ...  40.6729  -73.5365   \n5     Garcia      F         13108 Jennifer Passage  ...  38.5957  -99.5540   \n6     Nelson      F  7337 Browning Falls Suite 027  ...  30.9460  -83.2474   \n7      Smith      F             06808 Ryan Valleys  ...  36.8421  -85.5396   \n8     Hanson      F              26544 Andrea Glen  ...  42.9147  -83.4845   \n9  Robertson      M   85344 Smith Gateway Apt. 280  ...  39.0130  -86.5457   \n\n   city_pop                        job         dob  \\\n0       229              Administrator  20/03/1983   \n1     28425                 Podiatrist  09/06/2000   \n2      4074    Scientist, audiological  20/12/1975   \n3        23             Cytogeneticist  15/09/1969   \n4     34496          Librarian, public  21/10/1970   \n5       320          Film/video editor  22/04/1961   \n6     94325   Educational psychologist  08/09/1987   \n7       341    Insurance risk surveyor  19/11/1932   \n8      6951  Learning disability nurse  18/06/1985   \n9        76          Social researcher  06/05/1955   \n\n                          trans_num   unix_time  merch_lat  merch_long  \\\n0  9a8814bcec9b307013104e228d5db947  1381677631  48.255785 -101.922094   \n1  079f264af629e4b9a0182a76cc6b15e4  1381677638  41.518135  -80.197989   \n2  cdb416d7083cce6f33a73d9762a40565  1381677681  35.131969  -93.427484   \n3  5805fe539d3c922eabd6154f2c6ecc13  1381677692  32.478239 -103.531981   \n4  1ef42a2020fb9c04150276c11e54c11c  1381677731  41.611123  -73.144977   \n5  5748ce2b36bd110fa64b9f00d37d8582  1381677761  38.859725  -99.899165   \n6  afd29eea2911771eb4b02936bdd420d8  1381677783  31.687506  -83.318579   \n7  c4ba006087c0d1344e1bb50a22ca544f  1381677857  37.262278  -85.324015   \n8  5ef1b9a42d8f43283b719ec011a760e4  1381677861  43.798307  -83.859396   \n9  90e4d80eaac22700fbad7f31c6896d26  1381677873  38.537302  -86.666665   \n\n   is_fraud  \n0         0  \n1         0  \n2         0  \n3         0  \n4         0  \n5         0  \n6         0  \n7         0  \n8         0  \n9         0  \n\n[10 rows x 23 columns]",
      "text/html": "<div>\n<style scoped>\n    .dataframe tbody tr th:only-of-type {\n        vertical-align: middle;\n    }\n\n    .dataframe tbody tr th {\n        vertical-align: top;\n    }\n\n    .dataframe thead th {\n        text-align: right;\n    }\n</style>\n<table border=\"1\" class=\"dataframe\">\n  <thead>\n    <tr style=\"text-align: right;\">\n      <th></th>\n      <th>Unnamed: 0</th>\n      <th>trans_date_trans_time</th>\n      <th>cc_num</th>\n      <th>merchant</th>\n      <th>category</th>\n      <th>amt</th>\n      <th>first</th>\n      <th>last</th>\n      <th>gender</th>\n      <th>street</th>\n      <th>...</th>\n      <th>lat</th>\n      <th>long</th>\n      <th>city_pop</th>\n      <th>job</th>\n      <th>dob</th>\n      <th>trans_num</th>\n      <th>unix_time</th>\n      <th>merch_lat</th>\n      <th>merch_long</th>\n      <th>is_fraud</th>\n    </tr>\n  </thead>\n  <tbody>\n    <tr>\n      <th>0</th>\n      <td>303314</td>\n      <td>13/10/2020 15:20</td>\n      <td>4.040100e+18</td>\n      <td>fraud_O'Reilly, Mohr and Purdy</td>\n      <td>home</td>\n      <td>73.87</td>\n      <td>Jeffrey</td>\n      <td>Lewis</td>\n      <td>M</td>\n      <td>24255 Bryan Square</td>\n      <td>...</td>\n      <td>48.3396</td>\n      <td>-102.2400</td>\n      <td>229</td>\n      <td>Administrator</td>\n      <td>20/03/1983</td>\n      <td>9a8814bcec9b307013104e228d5db947</td>\n      <td>1381677631</td>\n      <td>48.255785</td>\n      <td>-101.922094</td>\n      <td>0</td>\n    </tr>\n    <tr>\n      <th>1</th>\n      <td>303315</td>\n      <td>13/10/2020 15:20</td>\n      <td>6.759460e+11</td>\n      <td>fraud_Little Ltd</td>\n      <td>kids_pets</td>\n      <td>33.58</td>\n      <td>Ellen</td>\n      <td>Smith</td>\n      <td>F</td>\n      <td>285 George Lake</td>\n      <td>...</td>\n      <td>40.7687</td>\n      <td>-80.3592</td>\n      <td>28425</td>\n      <td>Podiatrist</td>\n      <td>09/06/2000</td>\n      <td>079f264af629e4b9a0182a76cc6b15e4</td>\n      <td>1381677638</td>\n      <td>41.518135</td>\n      <td>-80.197989</td>\n      <td>0</td>\n    </tr>\n    <tr>\n      <th>2</th>\n      <td>303316</td>\n      <td>13/10/2020 15:21</td>\n      <td>3.590740e+15</td>\n      <td>fraud_Witting, Beer and Ernser</td>\n      <td>home</td>\n      <td>81.54</td>\n      <td>Kimberly</td>\n      <td>Gonzalez</td>\n      <td>F</td>\n      <td>72966 Shannon Pass Apt. 391</td>\n      <td>...</td>\n      <td>34.5091</td>\n      <td>-92.4828</td>\n      <td>4074</td>\n      <td>Scientist, audiological</td>\n      <td>20/12/1975</td>\n      <td>cdb416d7083cce6f33a73d9762a40565</td>\n      <td>1381677681</td>\n      <td>35.131969</td>\n      <td>-93.427484</td>\n      <td>0</td>\n    </tr>\n    <tr>\n      <th>3</th>\n      <td>303317</td>\n      <td>13/10/2020 15:21</td>\n      <td>3.560730e+15</td>\n      <td>fraud_Botsford PLC</td>\n      <td>home</td>\n      <td>2.11</td>\n      <td>Brooke</td>\n      <td>Smith</td>\n      <td>F</td>\n      <td>63542 Luna Brook Apt. 012</td>\n      <td>...</td>\n      <td>31.8599</td>\n      <td>-102.7413</td>\n      <td>23</td>\n      <td>Cytogeneticist</td>\n      <td>15/09/1969</td>\n      <td>5805fe539d3c922eabd6154f2c6ecc13</td>\n      <td>1381677692</td>\n      <td>32.478239</td>\n      <td>-103.531981</td>\n      <td>0</td>\n    </tr>\n    <tr>\n      <th>4</th>\n      <td>303318</td>\n      <td>13/10/2020 15:22</td>\n      <td>3.598220e+15</td>\n      <td>fraud_Feil-Morar</td>\n      <td>health_fitness</td>\n      <td>108.87</td>\n      <td>Ashley</td>\n      <td>Lopez</td>\n      <td>F</td>\n      <td>9333 Valentine Point</td>\n      <td>...</td>\n      <td>40.6729</td>\n      <td>-73.5365</td>\n      <td>34496</td>\n      <td>Librarian, public</td>\n      <td>21/10/1970</td>\n      <td>1ef42a2020fb9c04150276c11e54c11c</td>\n      <td>1381677731</td>\n      <td>41.611123</td>\n      <td>-73.144977</td>\n      <td>0</td>\n    </tr>\n    <tr>\n      <th>5</th>\n      <td>303319</td>\n      <td>13/10/2020 15:22</td>\n      <td>4.783230e+12</td>\n      <td>fraud_Botsford and Sons</td>\n      <td>home</td>\n      <td>49.18</td>\n      <td>Jessica</td>\n      <td>Garcia</td>\n      <td>F</td>\n      <td>13108 Jennifer Passage</td>\n      <td>...</td>\n      <td>38.5957</td>\n      <td>-99.5540</td>\n      <td>320</td>\n      <td>Film/video editor</td>\n      <td>22/04/1961</td>\n      <td>5748ce2b36bd110fa64b9f00d37d8582</td>\n      <td>1381677761</td>\n      <td>38.859725</td>\n      <td>-99.899165</td>\n      <td>0</td>\n    </tr>\n    <tr>\n      <th>6</th>\n      <td>303320</td>\n      <td>13/10/2020 15:23</td>\n      <td>2.254800e+15</td>\n      <td>fraud_Gaylord-Powlowski</td>\n      <td>home</td>\n      <td>23.57</td>\n      <td>Barbara</td>\n      <td>Nelson</td>\n      <td>F</td>\n      <td>7337 Browning Falls Suite 027</td>\n      <td>...</td>\n      <td>30.9460</td>\n      <td>-83.2474</td>\n      <td>94325</td>\n      <td>Educational psychologist</td>\n      <td>08/09/1987</td>\n      <td>afd29eea2911771eb4b02936bdd420d8</td>\n      <td>1381677783</td>\n      <td>31.687506</td>\n      <td>-83.318579</td>\n      <td>0</td>\n    </tr>\n    <tr>\n      <th>7</th>\n      <td>303321</td>\n      <td>13/10/2020 15:24</td>\n      <td>3.599240e+15</td>\n      <td>fraud_Runte, Green and Emard</td>\n      <td>health_fitness</td>\n      <td>17.54</td>\n      <td>Jessica</td>\n      <td>Smith</td>\n      <td>F</td>\n      <td>06808 Ryan Valleys</td>\n      <td>...</td>\n      <td>36.8421</td>\n      <td>-85.5396</td>\n      <td>341</td>\n      <td>Insurance risk surveyor</td>\n      <td>19/11/1932</td>\n      <td>c4ba006087c0d1344e1bb50a22ca544f</td>\n      <td>1381677857</td>\n      <td>37.262278</td>\n      <td>-85.324015</td>\n      <td>0</td>\n    </tr>\n    <tr>\n      <th>8</th>\n      <td>303322</td>\n      <td>13/10/2020 15:24</td>\n      <td>3.725090e+14</td>\n      <td>fraud_Daugherty LLC</td>\n      <td>kids_pets</td>\n      <td>21.47</td>\n      <td>Kristen</td>\n      <td>Hanson</td>\n      <td>F</td>\n      <td>26544 Andrea Glen</td>\n      <td>...</td>\n      <td>42.9147</td>\n      <td>-83.4845</td>\n      <td>6951</td>\n      <td>Learning disability nurse</td>\n      <td>18/06/1985</td>\n      <td>5ef1b9a42d8f43283b719ec011a760e4</td>\n      <td>1381677861</td>\n      <td>43.798307</td>\n      <td>-83.859396</td>\n      <td>0</td>\n    </tr>\n    <tr>\n      <th>9</th>\n      <td>303323</td>\n      <td>13/10/2020 15:24</td>\n      <td>4.839620e+15</td>\n      <td>fraud_Weber, Thiel and Hammes</td>\n      <td>kids_pets</td>\n      <td>13.08</td>\n      <td>Phillip</td>\n      <td>Robertson</td>\n      <td>M</td>\n      <td>85344 Smith Gateway Apt. 280</td>\n      <td>...</td>\n      <td>39.0130</td>\n      <td>-86.5457</td>\n      <td>76</td>\n      <td>Social researcher</td>\n      <td>06/05/1955</td>\n      <td>90e4d80eaac22700fbad7f31c6896d26</td>\n      <td>1381677873</td>\n      <td>38.537302</td>\n      <td>-86.666665</td>\n      <td>0</td>\n    </tr>\n  </tbody>\n</table>\n<p>10 rows × 23 columns</p>\n</div>"
     },
     "execution_count": 3,
     "metadata": {},
     "output_type": "execute_result"
    }
   ],
   "source": [
    "df.head(10)"
   ],
   "metadata": {
    "collapsed": false,
    "ExecuteTime": {
     "end_time": "2024-05-14T06:44:06.734227Z",
     "start_time": "2024-05-14T06:44:06.690228Z"
    }
   },
   "execution_count": 3
  },
  {
   "cell_type": "code",
   "outputs": [],
   "source": [
    "df = df.drop('Unnamed: 0', axis=1)"
   ],
   "metadata": {
    "collapsed": false,
    "ExecuteTime": {
     "end_time": "2024-05-14T16:42:27.216593Z",
     "start_time": "2024-05-14T16:42:27.108594Z"
    }
   },
   "execution_count": 3
  },
  {
   "cell_type": "code",
   "outputs": [
    {
     "data": {
      "text/plain": "trans_date_trans_time    0\ncc_num                   0\nmerchant                 0\ncategory                 0\namt                      0\nfirst                    0\nlast                     0\ngender                   0\nstreet                   0\ncity                     0\nstate                    0\nzip                      0\nlat                      0\nlong                     0\ncity_pop                 0\njob                      0\ndob                      0\ntrans_num                0\nunix_time                0\nmerch_lat                0\nmerch_long               0\nis_fraud                 0\ndtype: int64"
     },
     "execution_count": 7,
     "metadata": {},
     "output_type": "execute_result"
    }
   ],
   "source": [
    "df.isna().sum()"
   ],
   "metadata": {
    "collapsed": false,
    "ExecuteTime": {
     "end_time": "2024-05-13T14:41:10.029219Z",
     "start_time": "2024-05-13T14:41:09.837190Z"
    }
   },
   "execution_count": 7
  },
  {
   "cell_type": "code",
   "outputs": [
    {
     "data": {
      "text/plain": "trans_date_trans_time    0\ncc_num                   0\nmerchant                 0\ncategory                 0\namt                      0\nfirst                    0\nlast                     0\ngender                   0\nstreet                   0\ncity                     0\nstate                    0\nzip                      0\nlat                      0\nlong                     0\ncity_pop                 0\njob                      0\ndob                      0\ntrans_num                0\nunix_time                0\nmerch_lat                0\nmerch_long               0\nis_fraud                 0\ndtype: int64"
     },
     "execution_count": 8,
     "metadata": {},
     "output_type": "execute_result"
    }
   ],
   "source": [
    "df.isnull().sum()"
   ],
   "metadata": {
    "collapsed": false,
    "ExecuteTime": {
     "end_time": "2024-05-13T14:41:19.129660Z",
     "start_time": "2024-05-13T14:41:18.934660Z"
    }
   },
   "execution_count": 8
  },
  {
   "cell_type": "code",
   "outputs": [
    {
     "name": "stdout",
     "output_type": "stream",
     "text": [
      "<class 'pandas.core.frame.DataFrame'>\n",
      "Index: 555719 entries, 0 to 303313\n",
      "Data columns (total 22 columns):\n",
      " #   Column                 Non-Null Count   Dtype  \n",
      "---  ------                 --------------   -----  \n",
      " 0   trans_date_trans_time  555719 non-null  object \n",
      " 1   cc_num                 555719 non-null  float64\n",
      " 2   merchant               555719 non-null  object \n",
      " 3   category               555719 non-null  object \n",
      " 4   amt                    555719 non-null  float64\n",
      " 5   first                  555719 non-null  object \n",
      " 6   last                   555719 non-null  object \n",
      " 7   gender                 555719 non-null  object \n",
      " 8   street                 555719 non-null  object \n",
      " 9   city                   555719 non-null  object \n",
      " 10  state                  555719 non-null  object \n",
      " 11  zip                    555719 non-null  int64  \n",
      " 12  lat                    555719 non-null  float64\n",
      " 13  long                   555719 non-null  float64\n",
      " 14  city_pop               555719 non-null  int64  \n",
      " 15  job                    555719 non-null  object \n",
      " 16  dob                    555719 non-null  object \n",
      " 17  trans_num              555719 non-null  object \n",
      " 18  unix_time              555719 non-null  int64  \n",
      " 19  merch_lat              555719 non-null  float64\n",
      " 20  merch_long             555719 non-null  float64\n",
      " 21  is_fraud               555719 non-null  int64  \n",
      "dtypes: float64(6), int64(4), object(12)\n",
      "memory usage: 97.5+ MB\n"
     ]
    }
   ],
   "source": [
    "df.info()"
   ],
   "metadata": {
    "collapsed": false,
    "ExecuteTime": {
     "end_time": "2024-05-13T14:41:26.056527Z",
     "start_time": "2024-05-13T14:41:25.845978Z"
    }
   },
   "execution_count": 9
  },
  {
   "cell_type": "code",
   "outputs": [
    {
     "data": {
      "text/plain": "is_fraud\n0    553574\n1      2145\nName: count, dtype: int64"
     },
     "execution_count": 10,
     "metadata": {},
     "output_type": "execute_result"
    }
   ],
   "source": [
    "df['is_fraud'].value_counts()"
   ],
   "metadata": {
    "collapsed": false,
    "ExecuteTime": {
     "end_time": "2024-05-13T14:41:46.348155Z",
     "start_time": "2024-05-13T14:41:46.323151Z"
    }
   },
   "execution_count": 10
  },
  {
   "cell_type": "code",
   "outputs": [],
   "source": [
    "legit = df[df.is_fraud == 0]\n",
    "fraud = df[df.is_fraud == 1]"
   ],
   "metadata": {
    "collapsed": false,
    "ExecuteTime": {
     "end_time": "2024-05-14T16:42:53.007135Z",
     "start_time": "2024-05-14T16:42:52.887150Z"
    }
   },
   "execution_count": 5
  },
  {
   "cell_type": "code",
   "outputs": [],
   "source": [
    "legit_sample = legit.sample(n=2145)"
   ],
   "metadata": {
    "collapsed": false,
    "ExecuteTime": {
     "end_time": "2024-05-14T16:42:53.630134Z",
     "start_time": "2024-05-14T16:42:53.602136Z"
    }
   },
   "execution_count": 6
  },
  {
   "cell_type": "code",
   "outputs": [
    {
     "data": {
      "text/plain": "       trans_date_trans_time        cc_num               merchant  \\\n244497      18/09/2020 07:39  3.585740e+15  fraud_Rodriguez Group   \n52873       06/11/2020 08:41  6.597890e+15  fraud_Deckow-O'Conner   \n97696       25/07/2020 17:01  3.567700e+15     fraud_Kassulke PLC   \n133364      06/12/2020 02:55  3.712840e+14    fraud_Pacocha-Bauch   \n16618       20/10/2020 19:32  4.467460e+18       fraud_Schumm PLC   \n...                      ...           ...                    ...   \n301402      12/10/2020 22:41  5.456710e+15  fraud_Kirlin and Sons   \n301528      12/10/2020 23:28  3.853050e+13   fraud_Torphy-Goyette   \n301600      12/10/2020 23:57  3.853050e+13    fraud_Romaguera Ltd   \n301866      13/10/2020 02:57  4.129770e+15     fraud_Bednar Group   \n301881      13/10/2020 03:07  4.129770e+15    fraud_Flatley Group   \n\n              category      amt   first      last gender  \\\n244497   gas_transport    43.40   James    Greene      M   \n52873      grocery_pos   157.93    Bill      Lane      M   \n97696     shopping_net     3.93    John   Stevens      M   \n133364    shopping_pos     1.25  Jeremy     Moore      M   \n16618   health_fitness    14.63    Rita     Myers      F   \n...                ...      ...     ...       ...    ...   \n301402   personal_care    51.86  Pamela  Matthews      F   \n301528    shopping_pos  1030.78   Laura     Johns      F   \n301600  health_fitness    19.11   Laura     Johns      F   \n301866        misc_net   898.83  Cheryl   Ballard      F   \n301881        misc_pos   751.63  Cheryl   Ballard      F   \n\n                                  street      city  ...      lat      long  \\\n244497     082 Hernandez Bypass Apt. 886    Quanah  ...  34.2956  -99.7494   \n52873          4725 Hurst Curve Apt. 634  Holliday  ...  33.6751  -98.6576   \n97696                   428 Morgan River    Hudson  ...  42.2470  -73.7552   \n133364           574 Patricia Extensions   Lubbock  ...  33.5466 -101.8871   \n16618   75703 Hernandez Corner Suite 348     Tampa  ...  28.0600  -82.4079   \n...                                  ...       ...  ...      ...       ...   \n301402         36659 Smith Club Apt. 080     Llano  ...  36.1486 -105.6648   \n301528                  95835 Garcia Rue   Arcadia  ...  34.9572  -81.9916   \n301600                  95835 Garcia Rue   Arcadia  ...  34.9572  -81.9916   \n301866        248 James Squares Apt. 838   Halstad  ...  47.3551  -96.7980   \n301881        248 James Squares Apt. 838   Halstad  ...  47.3551  -96.7980   \n\n        city_pop                         job         dob  \\\n244497      3202           Librarian, public  18/03/1998   \n52873       2317    Chief Technology Officer  23/08/1964   \n97696      17867       Travel agency manager  29/07/1998   \n133364    254282    Doctor, general practice  29/01/1952   \n16618     717255    Waste management officer  16/09/1966   \n...          ...                         ...         ...   \n301402       247  Architectural technologist  24/10/1961   \n301528       530         Animal technologist  14/05/1989   \n301600       530         Animal technologist  14/05/1989   \n301866       771     Scientist, audiological  14/06/1972   \n301881       771     Scientist, audiological  14/06/1972   \n\n                               trans_num   unix_time  merch_lat  merch_long  \\\n244497  a2a457186209f727b504f90d27c071c0  1379489963  33.847940 -100.670553   \n52873   782a0e1966207335974b32487aad8966  1383727284  34.166490  -98.487952   \n97696   5ba2b5c1b6b6334b343152f3ead11427  1374771673  43.202965  -74.107674   \n133364  f2d8fedc30424769a38a2ae259205bba  1386298528  34.174249 -101.730996   \n16618   b3976c4d6170b1ef796e20c279178ef9  1382297532  28.844384  -81.889584   \n...                                  ...         ...        ...         ...   \n301402  1189ac7889edcffbdaf1da0f44056d73  1381617712  35.672329 -106.219095   \n301528  1faa1c90ecf2f5419c4f838fc420139d  1381620495  34.730612  -82.966095   \n301600  3c0c836563618c8a40857d8d714cabd3  1381622278  35.052178  -81.245327   \n301866  2bf5044c1b44ba912cd3700755b4eac2  1381633026  48.192149  -96.998591   \n301881  69fd58dc601de4598d514848395463b9  1381633626  46.961592  -97.504919   \n\n        is_fraud  \n244497         0  \n52873          0  \n97696          0  \n133364         0  \n16618          0  \n...          ...  \n301402         1  \n301528         1  \n301600         1  \n301866         1  \n301881         1  \n\n[4290 rows x 22 columns]",
      "text/html": "<div>\n<style scoped>\n    .dataframe tbody tr th:only-of-type {\n        vertical-align: middle;\n    }\n\n    .dataframe tbody tr th {\n        vertical-align: top;\n    }\n\n    .dataframe thead th {\n        text-align: right;\n    }\n</style>\n<table border=\"1\" class=\"dataframe\">\n  <thead>\n    <tr style=\"text-align: right;\">\n      <th></th>\n      <th>trans_date_trans_time</th>\n      <th>cc_num</th>\n      <th>merchant</th>\n      <th>category</th>\n      <th>amt</th>\n      <th>first</th>\n      <th>last</th>\n      <th>gender</th>\n      <th>street</th>\n      <th>city</th>\n      <th>...</th>\n      <th>lat</th>\n      <th>long</th>\n      <th>city_pop</th>\n      <th>job</th>\n      <th>dob</th>\n      <th>trans_num</th>\n      <th>unix_time</th>\n      <th>merch_lat</th>\n      <th>merch_long</th>\n      <th>is_fraud</th>\n    </tr>\n  </thead>\n  <tbody>\n    <tr>\n      <th>244497</th>\n      <td>18/09/2020 07:39</td>\n      <td>3.585740e+15</td>\n      <td>fraud_Rodriguez Group</td>\n      <td>gas_transport</td>\n      <td>43.40</td>\n      <td>James</td>\n      <td>Greene</td>\n      <td>M</td>\n      <td>082 Hernandez Bypass Apt. 886</td>\n      <td>Quanah</td>\n      <td>...</td>\n      <td>34.2956</td>\n      <td>-99.7494</td>\n      <td>3202</td>\n      <td>Librarian, public</td>\n      <td>18/03/1998</td>\n      <td>a2a457186209f727b504f90d27c071c0</td>\n      <td>1379489963</td>\n      <td>33.847940</td>\n      <td>-100.670553</td>\n      <td>0</td>\n    </tr>\n    <tr>\n      <th>52873</th>\n      <td>06/11/2020 08:41</td>\n      <td>6.597890e+15</td>\n      <td>fraud_Deckow-O'Conner</td>\n      <td>grocery_pos</td>\n      <td>157.93</td>\n      <td>Bill</td>\n      <td>Lane</td>\n      <td>M</td>\n      <td>4725 Hurst Curve Apt. 634</td>\n      <td>Holliday</td>\n      <td>...</td>\n      <td>33.6751</td>\n      <td>-98.6576</td>\n      <td>2317</td>\n      <td>Chief Technology Officer</td>\n      <td>23/08/1964</td>\n      <td>782a0e1966207335974b32487aad8966</td>\n      <td>1383727284</td>\n      <td>34.166490</td>\n      <td>-98.487952</td>\n      <td>0</td>\n    </tr>\n    <tr>\n      <th>97696</th>\n      <td>25/07/2020 17:01</td>\n      <td>3.567700e+15</td>\n      <td>fraud_Kassulke PLC</td>\n      <td>shopping_net</td>\n      <td>3.93</td>\n      <td>John</td>\n      <td>Stevens</td>\n      <td>M</td>\n      <td>428 Morgan River</td>\n      <td>Hudson</td>\n      <td>...</td>\n      <td>42.2470</td>\n      <td>-73.7552</td>\n      <td>17867</td>\n      <td>Travel agency manager</td>\n      <td>29/07/1998</td>\n      <td>5ba2b5c1b6b6334b343152f3ead11427</td>\n      <td>1374771673</td>\n      <td>43.202965</td>\n      <td>-74.107674</td>\n      <td>0</td>\n    </tr>\n    <tr>\n      <th>133364</th>\n      <td>06/12/2020 02:55</td>\n      <td>3.712840e+14</td>\n      <td>fraud_Pacocha-Bauch</td>\n      <td>shopping_pos</td>\n      <td>1.25</td>\n      <td>Jeremy</td>\n      <td>Moore</td>\n      <td>M</td>\n      <td>574 Patricia Extensions</td>\n      <td>Lubbock</td>\n      <td>...</td>\n      <td>33.5466</td>\n      <td>-101.8871</td>\n      <td>254282</td>\n      <td>Doctor, general practice</td>\n      <td>29/01/1952</td>\n      <td>f2d8fedc30424769a38a2ae259205bba</td>\n      <td>1386298528</td>\n      <td>34.174249</td>\n      <td>-101.730996</td>\n      <td>0</td>\n    </tr>\n    <tr>\n      <th>16618</th>\n      <td>20/10/2020 19:32</td>\n      <td>4.467460e+18</td>\n      <td>fraud_Schumm PLC</td>\n      <td>health_fitness</td>\n      <td>14.63</td>\n      <td>Rita</td>\n      <td>Myers</td>\n      <td>F</td>\n      <td>75703 Hernandez Corner Suite 348</td>\n      <td>Tampa</td>\n      <td>...</td>\n      <td>28.0600</td>\n      <td>-82.4079</td>\n      <td>717255</td>\n      <td>Waste management officer</td>\n      <td>16/09/1966</td>\n      <td>b3976c4d6170b1ef796e20c279178ef9</td>\n      <td>1382297532</td>\n      <td>28.844384</td>\n      <td>-81.889584</td>\n      <td>0</td>\n    </tr>\n    <tr>\n      <th>...</th>\n      <td>...</td>\n      <td>...</td>\n      <td>...</td>\n      <td>...</td>\n      <td>...</td>\n      <td>...</td>\n      <td>...</td>\n      <td>...</td>\n      <td>...</td>\n      <td>...</td>\n      <td>...</td>\n      <td>...</td>\n      <td>...</td>\n      <td>...</td>\n      <td>...</td>\n      <td>...</td>\n      <td>...</td>\n      <td>...</td>\n      <td>...</td>\n      <td>...</td>\n      <td>...</td>\n    </tr>\n    <tr>\n      <th>301402</th>\n      <td>12/10/2020 22:41</td>\n      <td>5.456710e+15</td>\n      <td>fraud_Kirlin and Sons</td>\n      <td>personal_care</td>\n      <td>51.86</td>\n      <td>Pamela</td>\n      <td>Matthews</td>\n      <td>F</td>\n      <td>36659 Smith Club Apt. 080</td>\n      <td>Llano</td>\n      <td>...</td>\n      <td>36.1486</td>\n      <td>-105.6648</td>\n      <td>247</td>\n      <td>Architectural technologist</td>\n      <td>24/10/1961</td>\n      <td>1189ac7889edcffbdaf1da0f44056d73</td>\n      <td>1381617712</td>\n      <td>35.672329</td>\n      <td>-106.219095</td>\n      <td>1</td>\n    </tr>\n    <tr>\n      <th>301528</th>\n      <td>12/10/2020 23:28</td>\n      <td>3.853050e+13</td>\n      <td>fraud_Torphy-Goyette</td>\n      <td>shopping_pos</td>\n      <td>1030.78</td>\n      <td>Laura</td>\n      <td>Johns</td>\n      <td>F</td>\n      <td>95835 Garcia Rue</td>\n      <td>Arcadia</td>\n      <td>...</td>\n      <td>34.9572</td>\n      <td>-81.9916</td>\n      <td>530</td>\n      <td>Animal technologist</td>\n      <td>14/05/1989</td>\n      <td>1faa1c90ecf2f5419c4f838fc420139d</td>\n      <td>1381620495</td>\n      <td>34.730612</td>\n      <td>-82.966095</td>\n      <td>1</td>\n    </tr>\n    <tr>\n      <th>301600</th>\n      <td>12/10/2020 23:57</td>\n      <td>3.853050e+13</td>\n      <td>fraud_Romaguera Ltd</td>\n      <td>health_fitness</td>\n      <td>19.11</td>\n      <td>Laura</td>\n      <td>Johns</td>\n      <td>F</td>\n      <td>95835 Garcia Rue</td>\n      <td>Arcadia</td>\n      <td>...</td>\n      <td>34.9572</td>\n      <td>-81.9916</td>\n      <td>530</td>\n      <td>Animal technologist</td>\n      <td>14/05/1989</td>\n      <td>3c0c836563618c8a40857d8d714cabd3</td>\n      <td>1381622278</td>\n      <td>35.052178</td>\n      <td>-81.245327</td>\n      <td>1</td>\n    </tr>\n    <tr>\n      <th>301866</th>\n      <td>13/10/2020 02:57</td>\n      <td>4.129770e+15</td>\n      <td>fraud_Bednar Group</td>\n      <td>misc_net</td>\n      <td>898.83</td>\n      <td>Cheryl</td>\n      <td>Ballard</td>\n      <td>F</td>\n      <td>248 James Squares Apt. 838</td>\n      <td>Halstad</td>\n      <td>...</td>\n      <td>47.3551</td>\n      <td>-96.7980</td>\n      <td>771</td>\n      <td>Scientist, audiological</td>\n      <td>14/06/1972</td>\n      <td>2bf5044c1b44ba912cd3700755b4eac2</td>\n      <td>1381633026</td>\n      <td>48.192149</td>\n      <td>-96.998591</td>\n      <td>1</td>\n    </tr>\n    <tr>\n      <th>301881</th>\n      <td>13/10/2020 03:07</td>\n      <td>4.129770e+15</td>\n      <td>fraud_Flatley Group</td>\n      <td>misc_pos</td>\n      <td>751.63</td>\n      <td>Cheryl</td>\n      <td>Ballard</td>\n      <td>F</td>\n      <td>248 James Squares Apt. 838</td>\n      <td>Halstad</td>\n      <td>...</td>\n      <td>47.3551</td>\n      <td>-96.7980</td>\n      <td>771</td>\n      <td>Scientist, audiological</td>\n      <td>14/06/1972</td>\n      <td>69fd58dc601de4598d514848395463b9</td>\n      <td>1381633626</td>\n      <td>46.961592</td>\n      <td>-97.504919</td>\n      <td>1</td>\n    </tr>\n  </tbody>\n</table>\n<p>4290 rows × 22 columns</p>\n</div>"
     },
     "execution_count": 7,
     "metadata": {},
     "output_type": "execute_result"
    }
   ],
   "source": [
    "merged_card_data = pd.concat([legit_sample, fraud], axis=0)\n",
    "merged_card_data"
   ],
   "metadata": {
    "collapsed": false,
    "ExecuteTime": {
     "end_time": "2024-05-14T16:42:54.301135Z",
     "start_time": "2024-05-14T16:42:54.231142Z"
    }
   },
   "execution_count": 7
  },
  {
   "cell_type": "code",
   "outputs": [
    {
     "data": {
      "text/plain": "is_fraud\n0    2145\n1    2145\nName: count, dtype: int64"
     },
     "execution_count": 23,
     "metadata": {},
     "output_type": "execute_result"
    }
   ],
   "source": [
    "merged_card_data['is_fraud'].value_counts()"
   ],
   "metadata": {
    "collapsed": false,
    "ExecuteTime": {
     "end_time": "2024-05-13T15:03:31.157551Z",
     "start_time": "2024-05-13T15:03:31.145554Z"
    }
   },
   "execution_count": 23
  },
  {
   "cell_type": "code",
   "outputs": [
    {
     "data": {
      "text/plain": "gender\nF    2345\nM    1945\nName: count, dtype: int64"
     },
     "execution_count": 24,
     "metadata": {},
     "output_type": "execute_result"
    }
   ],
   "source": [
    "merged_card_data['gender'].value_counts()"
   ],
   "metadata": {
    "collapsed": false,
    "ExecuteTime": {
     "end_time": "2024-05-13T15:03:32.417293Z",
     "start_time": "2024-05-13T15:03:32.397294Z"
    }
   },
   "execution_count": 24
  },
  {
   "cell_type": "code",
   "outputs": [],
   "source": [
    "merged_card_data.drop(columns = ['trans_date_trans_time', 'first', 'last', 'street', 'city_pop', 'unix_time', 'trans_num'], axis = 1, inplace = True)"
   ],
   "metadata": {
    "collapsed": false,
    "ExecuteTime": {
     "end_time": "2024-05-14T16:42:59.459312Z",
     "start_time": "2024-05-14T16:42:59.450312Z"
    }
   },
   "execution_count": 8
  },
  {
   "cell_type": "code",
   "outputs": [],
   "source": [
    "full_data = df.copy()"
   ],
   "metadata": {
    "collapsed": false,
    "ExecuteTime": {
     "end_time": "2024-05-14T16:43:00.880965Z",
     "start_time": "2024-05-14T16:43:00.713955Z"
    }
   },
   "execution_count": 9
  },
  {
   "cell_type": "code",
   "outputs": [
    {
     "data": {
      "text/plain": "              cc_num                           merchant        category  \\\n0       4.040100e+18     fraud_O'Reilly, Mohr and Purdy            home   \n1       6.759460e+11                   fraud_Little Ltd       kids_pets   \n2       3.590740e+15     fraud_Witting, Beer and Ernser            home   \n3       3.560730e+15                 fraud_Botsford PLC            home   \n4       3.598220e+15                   fraud_Feil-Morar  health_fitness   \n...              ...                                ...             ...   \n303309  3.013180e+13               fraud_Ratke and Sons  health_fitness   \n303310  5.152050e+15                fraud_Fadel-Hilpert  health_fitness   \n303311  6.011110e+15  fraud_Romaguera, Wehner and Tromp       kids_pets   \n303312  4.149640e+12             fraud_O'Hara-Wilderman     food_dining   \n303313  3.760280e+14                 fraud_Botsford PLC            home   \n\n           amt gender          city state    zip      lat      long  \\\n0        73.87      M       Palermo    ND  58769  48.3396 -102.2400   \n1        33.58      F  Beaver Falls    PA  15010  40.7687  -80.3592   \n2        81.54      F       Bauxite    AR  72011  34.5091  -92.4828   \n3         2.11      F       Notrees    TX  79759  31.8599 -102.7413   \n4       108.87      F      Bellmore    NY  11710  40.6729  -73.5365   \n...        ...    ...           ...   ...    ...      ...       ...   \n303309   63.66      F     Knoxville    TN  37932  35.9335  -84.1481   \n303310   61.52      M        Gretna    LA  70056  29.8872  -90.0331   \n303311   40.36      F    Wilmington    NC  28405  34.2651  -77.8670   \n303312   45.01      M     Cleveland    AL  35049  33.9778  -86.5598   \n303313   88.30      M     Meadville    MO  64659  39.7795  -93.3014   \n\n                                         job         dob  merch_lat  \\\n0                              Administrator  20/03/1983  48.255785   \n1                                 Podiatrist  09/06/2000  41.518135   \n2                    Scientist, audiological  20/12/1975  35.131969   \n3                             Cytogeneticist  15/09/1969  32.478239   \n4                          Librarian, public  21/10/1970  41.611123   \n...                                      ...         ...        ...   \n303309          Designer, industrial/product  22/04/1994  36.352139   \n303310                  Biomedical scientist  12/09/1972  29.731616   \n303311  English as a second language teacher  08/02/1983  33.966675   \n303312                            Aid worker  14/06/1977  34.922890   \n303313    Tourist information centre manager  23/12/1974  40.021948   \n\n        merch_long  is_fraud  \n0      -101.922094         0  \n1       -80.197989         0  \n2       -93.427484         0  \n3      -103.531981         0  \n4       -73.144977         0  \n...            ...       ...  \n303309  -84.127647         0  \n303310  -90.576940         0  \n303311  -77.918808         0  \n303312  -87.459850         0  \n303313  -93.770176         0  \n\n[555719 rows x 15 columns]",
      "text/html": "<div>\n<style scoped>\n    .dataframe tbody tr th:only-of-type {\n        vertical-align: middle;\n    }\n\n    .dataframe tbody tr th {\n        vertical-align: top;\n    }\n\n    .dataframe thead th {\n        text-align: right;\n    }\n</style>\n<table border=\"1\" class=\"dataframe\">\n  <thead>\n    <tr style=\"text-align: right;\">\n      <th></th>\n      <th>cc_num</th>\n      <th>merchant</th>\n      <th>category</th>\n      <th>amt</th>\n      <th>gender</th>\n      <th>city</th>\n      <th>state</th>\n      <th>zip</th>\n      <th>lat</th>\n      <th>long</th>\n      <th>job</th>\n      <th>dob</th>\n      <th>merch_lat</th>\n      <th>merch_long</th>\n      <th>is_fraud</th>\n    </tr>\n  </thead>\n  <tbody>\n    <tr>\n      <th>0</th>\n      <td>4.040100e+18</td>\n      <td>fraud_O'Reilly, Mohr and Purdy</td>\n      <td>home</td>\n      <td>73.87</td>\n      <td>M</td>\n      <td>Palermo</td>\n      <td>ND</td>\n      <td>58769</td>\n      <td>48.3396</td>\n      <td>-102.2400</td>\n      <td>Administrator</td>\n      <td>20/03/1983</td>\n      <td>48.255785</td>\n      <td>-101.922094</td>\n      <td>0</td>\n    </tr>\n    <tr>\n      <th>1</th>\n      <td>6.759460e+11</td>\n      <td>fraud_Little Ltd</td>\n      <td>kids_pets</td>\n      <td>33.58</td>\n      <td>F</td>\n      <td>Beaver Falls</td>\n      <td>PA</td>\n      <td>15010</td>\n      <td>40.7687</td>\n      <td>-80.3592</td>\n      <td>Podiatrist</td>\n      <td>09/06/2000</td>\n      <td>41.518135</td>\n      <td>-80.197989</td>\n      <td>0</td>\n    </tr>\n    <tr>\n      <th>2</th>\n      <td>3.590740e+15</td>\n      <td>fraud_Witting, Beer and Ernser</td>\n      <td>home</td>\n      <td>81.54</td>\n      <td>F</td>\n      <td>Bauxite</td>\n      <td>AR</td>\n      <td>72011</td>\n      <td>34.5091</td>\n      <td>-92.4828</td>\n      <td>Scientist, audiological</td>\n      <td>20/12/1975</td>\n      <td>35.131969</td>\n      <td>-93.427484</td>\n      <td>0</td>\n    </tr>\n    <tr>\n      <th>3</th>\n      <td>3.560730e+15</td>\n      <td>fraud_Botsford PLC</td>\n      <td>home</td>\n      <td>2.11</td>\n      <td>F</td>\n      <td>Notrees</td>\n      <td>TX</td>\n      <td>79759</td>\n      <td>31.8599</td>\n      <td>-102.7413</td>\n      <td>Cytogeneticist</td>\n      <td>15/09/1969</td>\n      <td>32.478239</td>\n      <td>-103.531981</td>\n      <td>0</td>\n    </tr>\n    <tr>\n      <th>4</th>\n      <td>3.598220e+15</td>\n      <td>fraud_Feil-Morar</td>\n      <td>health_fitness</td>\n      <td>108.87</td>\n      <td>F</td>\n      <td>Bellmore</td>\n      <td>NY</td>\n      <td>11710</td>\n      <td>40.6729</td>\n      <td>-73.5365</td>\n      <td>Librarian, public</td>\n      <td>21/10/1970</td>\n      <td>41.611123</td>\n      <td>-73.144977</td>\n      <td>0</td>\n    </tr>\n    <tr>\n      <th>...</th>\n      <td>...</td>\n      <td>...</td>\n      <td>...</td>\n      <td>...</td>\n      <td>...</td>\n      <td>...</td>\n      <td>...</td>\n      <td>...</td>\n      <td>...</td>\n      <td>...</td>\n      <td>...</td>\n      <td>...</td>\n      <td>...</td>\n      <td>...</td>\n      <td>...</td>\n    </tr>\n    <tr>\n      <th>303309</th>\n      <td>3.013180e+13</td>\n      <td>fraud_Ratke and Sons</td>\n      <td>health_fitness</td>\n      <td>63.66</td>\n      <td>F</td>\n      <td>Knoxville</td>\n      <td>TN</td>\n      <td>37932</td>\n      <td>35.9335</td>\n      <td>-84.1481</td>\n      <td>Designer, industrial/product</td>\n      <td>22/04/1994</td>\n      <td>36.352139</td>\n      <td>-84.127647</td>\n      <td>0</td>\n    </tr>\n    <tr>\n      <th>303310</th>\n      <td>5.152050e+15</td>\n      <td>fraud_Fadel-Hilpert</td>\n      <td>health_fitness</td>\n      <td>61.52</td>\n      <td>M</td>\n      <td>Gretna</td>\n      <td>LA</td>\n      <td>70056</td>\n      <td>29.8872</td>\n      <td>-90.0331</td>\n      <td>Biomedical scientist</td>\n      <td>12/09/1972</td>\n      <td>29.731616</td>\n      <td>-90.576940</td>\n      <td>0</td>\n    </tr>\n    <tr>\n      <th>303311</th>\n      <td>6.011110e+15</td>\n      <td>fraud_Romaguera, Wehner and Tromp</td>\n      <td>kids_pets</td>\n      <td>40.36</td>\n      <td>F</td>\n      <td>Wilmington</td>\n      <td>NC</td>\n      <td>28405</td>\n      <td>34.2651</td>\n      <td>-77.8670</td>\n      <td>English as a second language teacher</td>\n      <td>08/02/1983</td>\n      <td>33.966675</td>\n      <td>-77.918808</td>\n      <td>0</td>\n    </tr>\n    <tr>\n      <th>303312</th>\n      <td>4.149640e+12</td>\n      <td>fraud_O'Hara-Wilderman</td>\n      <td>food_dining</td>\n      <td>45.01</td>\n      <td>M</td>\n      <td>Cleveland</td>\n      <td>AL</td>\n      <td>35049</td>\n      <td>33.9778</td>\n      <td>-86.5598</td>\n      <td>Aid worker</td>\n      <td>14/06/1977</td>\n      <td>34.922890</td>\n      <td>-87.459850</td>\n      <td>0</td>\n    </tr>\n    <tr>\n      <th>303313</th>\n      <td>3.760280e+14</td>\n      <td>fraud_Botsford PLC</td>\n      <td>home</td>\n      <td>88.30</td>\n      <td>M</td>\n      <td>Meadville</td>\n      <td>MO</td>\n      <td>64659</td>\n      <td>39.7795</td>\n      <td>-93.3014</td>\n      <td>Tourist information centre manager</td>\n      <td>23/12/1974</td>\n      <td>40.021948</td>\n      <td>-93.770176</td>\n      <td>0</td>\n    </tr>\n  </tbody>\n</table>\n<p>555719 rows × 15 columns</p>\n</div>"
     },
     "execution_count": 10,
     "metadata": {},
     "output_type": "execute_result"
    }
   ],
   "source": [
    "full_data.drop(columns = ['trans_date_trans_time', 'first', 'last', 'street', 'city_pop', 'unix_time', 'trans_num'], axis = 1, inplace = True)\n",
    "full_data"
   ],
   "metadata": {
    "collapsed": false,
    "ExecuteTime": {
     "end_time": "2024-05-14T16:43:01.877055Z",
     "start_time": "2024-05-14T16:43:01.772057Z"
    }
   },
   "execution_count": 10
  },
  {
   "cell_type": "markdown",
   "source": [
    "### 4. Feature Engineering"
   ],
   "metadata": {
    "collapsed": false
   }
  },
  {
   "cell_type": "code",
   "outputs": [
    {
     "data": {
      "text/plain": "              cc_num               merchant        category      amt gender  \\\n244497  3.585740e+15  fraud_Rodriguez Group   gas_transport    43.40      M   \n52873   6.597890e+15  fraud_Deckow-O'Conner     grocery_pos   157.93      M   \n97696   3.567700e+15     fraud_Kassulke PLC    shopping_net     3.93      M   \n133364  3.712840e+14    fraud_Pacocha-Bauch    shopping_pos     1.25      M   \n16618   4.467460e+18       fraud_Schumm PLC  health_fitness    14.63      F   \n...              ...                    ...             ...      ...    ...   \n301402  5.456710e+15  fraud_Kirlin and Sons   personal_care    51.86      F   \n301528  3.853050e+13   fraud_Torphy-Goyette    shopping_pos  1030.78      F   \n301600  3.853050e+13    fraud_Romaguera Ltd  health_fitness    19.11      F   \n301866  4.129770e+15     fraud_Bednar Group        misc_net   898.83      F   \n301881  4.129770e+15    fraud_Flatley Group        misc_pos   751.63      F   \n\n            lat      long                         job         dob  merch_lat  \\\n244497  34.2956  -99.7494           Librarian, public  18/03/1998  33.847940   \n52873   33.6751  -98.6576    Chief Technology Officer  23/08/1964  34.166490   \n97696   42.2470  -73.7552       Travel agency manager  29/07/1998  43.202965   \n133364  33.5466 -101.8871    Doctor, general practice  29/01/1952  34.174249   \n16618   28.0600  -82.4079    Waste management officer  16/09/1966  28.844384   \n...         ...       ...                         ...         ...        ...   \n301402  36.1486 -105.6648  Architectural technologist  24/10/1961  35.672329   \n301528  34.9572  -81.9916         Animal technologist  14/05/1989  34.730612   \n301600  34.9572  -81.9916         Animal technologist  14/05/1989  35.052178   \n301866  47.3551  -96.7980     Scientist, audiological  14/06/1972  48.192149   \n301881  47.3551  -96.7980     Scientist, audiological  14/06/1972  46.961592   \n\n        merch_long  is_fraud             location  \n244497 -100.670553         0    Quanah, TX, 79252  \n52873   -98.487952         0  Holliday, TX, 76366  \n97696   -74.107674         0    Hudson, NY, 12534  \n133364 -101.730996         0   Lubbock, TX, 79413  \n16618   -81.889584         0     Tampa, FL, 33620  \n...            ...       ...                  ...  \n301402 -106.219095         1     Llano, NM, 87543  \n301528  -82.966095         1   Arcadia, SC, 29320  \n301600  -81.245327         1   Arcadia, SC, 29320  \n301866  -96.998591         1   Halstad, MN, 56548  \n301881  -97.504919         1   Halstad, MN, 56548  \n\n[4290 rows x 13 columns]",
      "text/html": "<div>\n<style scoped>\n    .dataframe tbody tr th:only-of-type {\n        vertical-align: middle;\n    }\n\n    .dataframe tbody tr th {\n        vertical-align: top;\n    }\n\n    .dataframe thead th {\n        text-align: right;\n    }\n</style>\n<table border=\"1\" class=\"dataframe\">\n  <thead>\n    <tr style=\"text-align: right;\">\n      <th></th>\n      <th>cc_num</th>\n      <th>merchant</th>\n      <th>category</th>\n      <th>amt</th>\n      <th>gender</th>\n      <th>lat</th>\n      <th>long</th>\n      <th>job</th>\n      <th>dob</th>\n      <th>merch_lat</th>\n      <th>merch_long</th>\n      <th>is_fraud</th>\n      <th>location</th>\n    </tr>\n  </thead>\n  <tbody>\n    <tr>\n      <th>244497</th>\n      <td>3.585740e+15</td>\n      <td>fraud_Rodriguez Group</td>\n      <td>gas_transport</td>\n      <td>43.40</td>\n      <td>M</td>\n      <td>34.2956</td>\n      <td>-99.7494</td>\n      <td>Librarian, public</td>\n      <td>18/03/1998</td>\n      <td>33.847940</td>\n      <td>-100.670553</td>\n      <td>0</td>\n      <td>Quanah, TX, 79252</td>\n    </tr>\n    <tr>\n      <th>52873</th>\n      <td>6.597890e+15</td>\n      <td>fraud_Deckow-O'Conner</td>\n      <td>grocery_pos</td>\n      <td>157.93</td>\n      <td>M</td>\n      <td>33.6751</td>\n      <td>-98.6576</td>\n      <td>Chief Technology Officer</td>\n      <td>23/08/1964</td>\n      <td>34.166490</td>\n      <td>-98.487952</td>\n      <td>0</td>\n      <td>Holliday, TX, 76366</td>\n    </tr>\n    <tr>\n      <th>97696</th>\n      <td>3.567700e+15</td>\n      <td>fraud_Kassulke PLC</td>\n      <td>shopping_net</td>\n      <td>3.93</td>\n      <td>M</td>\n      <td>42.2470</td>\n      <td>-73.7552</td>\n      <td>Travel agency manager</td>\n      <td>29/07/1998</td>\n      <td>43.202965</td>\n      <td>-74.107674</td>\n      <td>0</td>\n      <td>Hudson, NY, 12534</td>\n    </tr>\n    <tr>\n      <th>133364</th>\n      <td>3.712840e+14</td>\n      <td>fraud_Pacocha-Bauch</td>\n      <td>shopping_pos</td>\n      <td>1.25</td>\n      <td>M</td>\n      <td>33.5466</td>\n      <td>-101.8871</td>\n      <td>Doctor, general practice</td>\n      <td>29/01/1952</td>\n      <td>34.174249</td>\n      <td>-101.730996</td>\n      <td>0</td>\n      <td>Lubbock, TX, 79413</td>\n    </tr>\n    <tr>\n      <th>16618</th>\n      <td>4.467460e+18</td>\n      <td>fraud_Schumm PLC</td>\n      <td>health_fitness</td>\n      <td>14.63</td>\n      <td>F</td>\n      <td>28.0600</td>\n      <td>-82.4079</td>\n      <td>Waste management officer</td>\n      <td>16/09/1966</td>\n      <td>28.844384</td>\n      <td>-81.889584</td>\n      <td>0</td>\n      <td>Tampa, FL, 33620</td>\n    </tr>\n    <tr>\n      <th>...</th>\n      <td>...</td>\n      <td>...</td>\n      <td>...</td>\n      <td>...</td>\n      <td>...</td>\n      <td>...</td>\n      <td>...</td>\n      <td>...</td>\n      <td>...</td>\n      <td>...</td>\n      <td>...</td>\n      <td>...</td>\n      <td>...</td>\n    </tr>\n    <tr>\n      <th>301402</th>\n      <td>5.456710e+15</td>\n      <td>fraud_Kirlin and Sons</td>\n      <td>personal_care</td>\n      <td>51.86</td>\n      <td>F</td>\n      <td>36.1486</td>\n      <td>-105.6648</td>\n      <td>Architectural technologist</td>\n      <td>24/10/1961</td>\n      <td>35.672329</td>\n      <td>-106.219095</td>\n      <td>1</td>\n      <td>Llano, NM, 87543</td>\n    </tr>\n    <tr>\n      <th>301528</th>\n      <td>3.853050e+13</td>\n      <td>fraud_Torphy-Goyette</td>\n      <td>shopping_pos</td>\n      <td>1030.78</td>\n      <td>F</td>\n      <td>34.9572</td>\n      <td>-81.9916</td>\n      <td>Animal technologist</td>\n      <td>14/05/1989</td>\n      <td>34.730612</td>\n      <td>-82.966095</td>\n      <td>1</td>\n      <td>Arcadia, SC, 29320</td>\n    </tr>\n    <tr>\n      <th>301600</th>\n      <td>3.853050e+13</td>\n      <td>fraud_Romaguera Ltd</td>\n      <td>health_fitness</td>\n      <td>19.11</td>\n      <td>F</td>\n      <td>34.9572</td>\n      <td>-81.9916</td>\n      <td>Animal technologist</td>\n      <td>14/05/1989</td>\n      <td>35.052178</td>\n      <td>-81.245327</td>\n      <td>1</td>\n      <td>Arcadia, SC, 29320</td>\n    </tr>\n    <tr>\n      <th>301866</th>\n      <td>4.129770e+15</td>\n      <td>fraud_Bednar Group</td>\n      <td>misc_net</td>\n      <td>898.83</td>\n      <td>F</td>\n      <td>47.3551</td>\n      <td>-96.7980</td>\n      <td>Scientist, audiological</td>\n      <td>14/06/1972</td>\n      <td>48.192149</td>\n      <td>-96.998591</td>\n      <td>1</td>\n      <td>Halstad, MN, 56548</td>\n    </tr>\n    <tr>\n      <th>301881</th>\n      <td>4.129770e+15</td>\n      <td>fraud_Flatley Group</td>\n      <td>misc_pos</td>\n      <td>751.63</td>\n      <td>F</td>\n      <td>47.3551</td>\n      <td>-96.7980</td>\n      <td>Scientist, audiological</td>\n      <td>14/06/1972</td>\n      <td>46.961592</td>\n      <td>-97.504919</td>\n      <td>1</td>\n      <td>Halstad, MN, 56548</td>\n    </tr>\n  </tbody>\n</table>\n<p>4290 rows × 13 columns</p>\n</div>"
     },
     "execution_count": 11,
     "metadata": {},
     "output_type": "execute_result"
    }
   ],
   "source": [
    "merged_card_data['location'] = merged_card_data['city'] + ', ' + merged_card_data['state'] + ', ' + merged_card_data['zip'].astype(str)\n",
    "merged_card_data = merged_card_data.drop(['city', 'state', 'zip'], axis=1)\n",
    "merged_card_data"
   ],
   "metadata": {
    "collapsed": false,
    "ExecuteTime": {
     "end_time": "2024-05-14T16:43:04.484372Z",
     "start_time": "2024-05-14T16:43:04.440381Z"
    }
   },
   "execution_count": 11
  },
  {
   "cell_type": "code",
   "outputs": [
    {
     "data": {
      "text/plain": "              cc_num                           merchant        category  \\\n0       4.040100e+18     fraud_O'Reilly, Mohr and Purdy            home   \n1       6.759460e+11                   fraud_Little Ltd       kids_pets   \n2       3.590740e+15     fraud_Witting, Beer and Ernser            home   \n3       3.560730e+15                 fraud_Botsford PLC            home   \n4       3.598220e+15                   fraud_Feil-Morar  health_fitness   \n...              ...                                ...             ...   \n303309  3.013180e+13               fraud_Ratke and Sons  health_fitness   \n303310  5.152050e+15                fraud_Fadel-Hilpert  health_fitness   \n303311  6.011110e+15  fraud_Romaguera, Wehner and Tromp       kids_pets   \n303312  4.149640e+12             fraud_O'Hara-Wilderman     food_dining   \n303313  3.760280e+14                 fraud_Botsford PLC            home   \n\n           amt gender      lat      long  \\\n0        73.87      M  48.3396 -102.2400   \n1        33.58      F  40.7687  -80.3592   \n2        81.54      F  34.5091  -92.4828   \n3         2.11      F  31.8599 -102.7413   \n4       108.87      F  40.6729  -73.5365   \n...        ...    ...      ...       ...   \n303309   63.66      F  35.9335  -84.1481   \n303310   61.52      M  29.8872  -90.0331   \n303311   40.36      F  34.2651  -77.8670   \n303312   45.01      M  33.9778  -86.5598   \n303313   88.30      M  39.7795  -93.3014   \n\n                                         job         dob  merch_lat  \\\n0                              Administrator  20/03/1983  48.255785   \n1                                 Podiatrist  09/06/2000  41.518135   \n2                    Scientist, audiological  20/12/1975  35.131969   \n3                             Cytogeneticist  15/09/1969  32.478239   \n4                          Librarian, public  21/10/1970  41.611123   \n...                                      ...         ...        ...   \n303309          Designer, industrial/product  22/04/1994  36.352139   \n303310                  Biomedical scientist  12/09/1972  29.731616   \n303311  English as a second language teacher  08/02/1983  33.966675   \n303312                            Aid worker  14/06/1977  34.922890   \n303313    Tourist information centre manager  23/12/1974  40.021948   \n\n        merch_long  is_fraud                 location  \n0      -101.922094         0       Palermo, ND, 58769  \n1       -80.197989         0  Beaver Falls, PA, 15010  \n2       -93.427484         0       Bauxite, AR, 72011  \n3      -103.531981         0       Notrees, TX, 79759  \n4       -73.144977         0      Bellmore, NY, 11710  \n...            ...       ...                      ...  \n303309  -84.127647         0     Knoxville, TN, 37932  \n303310  -90.576940         0        Gretna, LA, 70056  \n303311  -77.918808         0    Wilmington, NC, 28405  \n303312  -87.459850         0     Cleveland, AL, 35049  \n303313  -93.770176         0     Meadville, MO, 64659  \n\n[555719 rows x 13 columns]",
      "text/html": "<div>\n<style scoped>\n    .dataframe tbody tr th:only-of-type {\n        vertical-align: middle;\n    }\n\n    .dataframe tbody tr th {\n        vertical-align: top;\n    }\n\n    .dataframe thead th {\n        text-align: right;\n    }\n</style>\n<table border=\"1\" class=\"dataframe\">\n  <thead>\n    <tr style=\"text-align: right;\">\n      <th></th>\n      <th>cc_num</th>\n      <th>merchant</th>\n      <th>category</th>\n      <th>amt</th>\n      <th>gender</th>\n      <th>lat</th>\n      <th>long</th>\n      <th>job</th>\n      <th>dob</th>\n      <th>merch_lat</th>\n      <th>merch_long</th>\n      <th>is_fraud</th>\n      <th>location</th>\n    </tr>\n  </thead>\n  <tbody>\n    <tr>\n      <th>0</th>\n      <td>4.040100e+18</td>\n      <td>fraud_O'Reilly, Mohr and Purdy</td>\n      <td>home</td>\n      <td>73.87</td>\n      <td>M</td>\n      <td>48.3396</td>\n      <td>-102.2400</td>\n      <td>Administrator</td>\n      <td>20/03/1983</td>\n      <td>48.255785</td>\n      <td>-101.922094</td>\n      <td>0</td>\n      <td>Palermo, ND, 58769</td>\n    </tr>\n    <tr>\n      <th>1</th>\n      <td>6.759460e+11</td>\n      <td>fraud_Little Ltd</td>\n      <td>kids_pets</td>\n      <td>33.58</td>\n      <td>F</td>\n      <td>40.7687</td>\n      <td>-80.3592</td>\n      <td>Podiatrist</td>\n      <td>09/06/2000</td>\n      <td>41.518135</td>\n      <td>-80.197989</td>\n      <td>0</td>\n      <td>Beaver Falls, PA, 15010</td>\n    </tr>\n    <tr>\n      <th>2</th>\n      <td>3.590740e+15</td>\n      <td>fraud_Witting, Beer and Ernser</td>\n      <td>home</td>\n      <td>81.54</td>\n      <td>F</td>\n      <td>34.5091</td>\n      <td>-92.4828</td>\n      <td>Scientist, audiological</td>\n      <td>20/12/1975</td>\n      <td>35.131969</td>\n      <td>-93.427484</td>\n      <td>0</td>\n      <td>Bauxite, AR, 72011</td>\n    </tr>\n    <tr>\n      <th>3</th>\n      <td>3.560730e+15</td>\n      <td>fraud_Botsford PLC</td>\n      <td>home</td>\n      <td>2.11</td>\n      <td>F</td>\n      <td>31.8599</td>\n      <td>-102.7413</td>\n      <td>Cytogeneticist</td>\n      <td>15/09/1969</td>\n      <td>32.478239</td>\n      <td>-103.531981</td>\n      <td>0</td>\n      <td>Notrees, TX, 79759</td>\n    </tr>\n    <tr>\n      <th>4</th>\n      <td>3.598220e+15</td>\n      <td>fraud_Feil-Morar</td>\n      <td>health_fitness</td>\n      <td>108.87</td>\n      <td>F</td>\n      <td>40.6729</td>\n      <td>-73.5365</td>\n      <td>Librarian, public</td>\n      <td>21/10/1970</td>\n      <td>41.611123</td>\n      <td>-73.144977</td>\n      <td>0</td>\n      <td>Bellmore, NY, 11710</td>\n    </tr>\n    <tr>\n      <th>...</th>\n      <td>...</td>\n      <td>...</td>\n      <td>...</td>\n      <td>...</td>\n      <td>...</td>\n      <td>...</td>\n      <td>...</td>\n      <td>...</td>\n      <td>...</td>\n      <td>...</td>\n      <td>...</td>\n      <td>...</td>\n      <td>...</td>\n    </tr>\n    <tr>\n      <th>303309</th>\n      <td>3.013180e+13</td>\n      <td>fraud_Ratke and Sons</td>\n      <td>health_fitness</td>\n      <td>63.66</td>\n      <td>F</td>\n      <td>35.9335</td>\n      <td>-84.1481</td>\n      <td>Designer, industrial/product</td>\n      <td>22/04/1994</td>\n      <td>36.352139</td>\n      <td>-84.127647</td>\n      <td>0</td>\n      <td>Knoxville, TN, 37932</td>\n    </tr>\n    <tr>\n      <th>303310</th>\n      <td>5.152050e+15</td>\n      <td>fraud_Fadel-Hilpert</td>\n      <td>health_fitness</td>\n      <td>61.52</td>\n      <td>M</td>\n      <td>29.8872</td>\n      <td>-90.0331</td>\n      <td>Biomedical scientist</td>\n      <td>12/09/1972</td>\n      <td>29.731616</td>\n      <td>-90.576940</td>\n      <td>0</td>\n      <td>Gretna, LA, 70056</td>\n    </tr>\n    <tr>\n      <th>303311</th>\n      <td>6.011110e+15</td>\n      <td>fraud_Romaguera, Wehner and Tromp</td>\n      <td>kids_pets</td>\n      <td>40.36</td>\n      <td>F</td>\n      <td>34.2651</td>\n      <td>-77.8670</td>\n      <td>English as a second language teacher</td>\n      <td>08/02/1983</td>\n      <td>33.966675</td>\n      <td>-77.918808</td>\n      <td>0</td>\n      <td>Wilmington, NC, 28405</td>\n    </tr>\n    <tr>\n      <th>303312</th>\n      <td>4.149640e+12</td>\n      <td>fraud_O'Hara-Wilderman</td>\n      <td>food_dining</td>\n      <td>45.01</td>\n      <td>M</td>\n      <td>33.9778</td>\n      <td>-86.5598</td>\n      <td>Aid worker</td>\n      <td>14/06/1977</td>\n      <td>34.922890</td>\n      <td>-87.459850</td>\n      <td>0</td>\n      <td>Cleveland, AL, 35049</td>\n    </tr>\n    <tr>\n      <th>303313</th>\n      <td>3.760280e+14</td>\n      <td>fraud_Botsford PLC</td>\n      <td>home</td>\n      <td>88.30</td>\n      <td>M</td>\n      <td>39.7795</td>\n      <td>-93.3014</td>\n      <td>Tourist information centre manager</td>\n      <td>23/12/1974</td>\n      <td>40.021948</td>\n      <td>-93.770176</td>\n      <td>0</td>\n      <td>Meadville, MO, 64659</td>\n    </tr>\n  </tbody>\n</table>\n<p>555719 rows × 13 columns</p>\n</div>"
     },
     "execution_count": 12,
     "metadata": {},
     "output_type": "execute_result"
    }
   ],
   "source": [
    "full_data['location'] = full_data['city'] + ', ' + full_data['state'] + ', ' + full_data['zip'].astype(str)\n",
    "full_data = full_data.drop(['city', 'state', 'zip'], axis=1)\n",
    "full_data"
   ],
   "metadata": {
    "collapsed": false,
    "ExecuteTime": {
     "end_time": "2024-05-14T16:43:06.089373Z",
     "start_time": "2024-05-14T16:43:05.437384Z"
    }
   },
   "execution_count": 12
  },
  {
   "cell_type": "code",
   "outputs": [
    {
     "data": {
      "text/plain": "              cc_num               merchant        category      amt gender  \\\n244497  3.585740e+15  fraud_Rodriguez Group   gas_transport    43.40      M   \n52873   6.597890e+15  fraud_Deckow-O'Conner     grocery_pos   157.93      M   \n97696   3.567700e+15     fraud_Kassulke PLC    shopping_net     3.93      M   \n133364  3.712840e+14    fraud_Pacocha-Bauch    shopping_pos     1.25      M   \n16618   4.467460e+18       fraud_Schumm PLC  health_fitness    14.63      F   \n...              ...                    ...             ...      ...    ...   \n301402  5.456710e+15  fraud_Kirlin and Sons   personal_care    51.86      F   \n301528  3.853050e+13   fraud_Torphy-Goyette    shopping_pos  1030.78      F   \n301600  3.853050e+13    fraud_Romaguera Ltd  health_fitness    19.11      F   \n301866  4.129770e+15     fraud_Bednar Group        misc_net   898.83      F   \n301881  4.129770e+15    fraud_Flatley Group        misc_pos   751.63      F   \n\n                               job         dob  merch_lat  merch_long  \\\n244497           Librarian, public  18/03/1998  33.847940 -100.670553   \n52873     Chief Technology Officer  23/08/1964  34.166490  -98.487952   \n97696        Travel agency manager  29/07/1998  43.202965  -74.107674   \n133364    Doctor, general practice  29/01/1952  34.174249 -101.730996   \n16618     Waste management officer  16/09/1966  28.844384  -81.889584   \n...                            ...         ...        ...         ...   \n301402  Architectural technologist  24/10/1961  35.672329 -106.219095   \n301528         Animal technologist  14/05/1989  34.730612  -82.966095   \n301600         Animal technologist  14/05/1989  35.052178  -81.245327   \n301866     Scientist, audiological  14/06/1972  48.192149  -96.998591   \n301881     Scientist, audiological  14/06/1972  46.961592  -97.504919   \n\n        is_fraud             location            lat_long  \n244497         0    Quanah, TX, 79252   34.2956, -99.7494  \n52873          0  Holliday, TX, 76366   33.6751, -98.6576  \n97696          0    Hudson, NY, 12534    42.247, -73.7552  \n133364         0   Lubbock, TX, 79413  33.5466, -101.8871  \n16618          0     Tampa, FL, 33620     28.06, -82.4079  \n...          ...                  ...                 ...  \n301402         1     Llano, NM, 87543  36.1486, -105.6648  \n301528         1   Arcadia, SC, 29320   34.9572, -81.9916  \n301600         1   Arcadia, SC, 29320   34.9572, -81.9916  \n301866         1   Halstad, MN, 56548    47.3551, -96.798  \n301881         1   Halstad, MN, 56548    47.3551, -96.798  \n\n[4290 rows x 12 columns]",
      "text/html": "<div>\n<style scoped>\n    .dataframe tbody tr th:only-of-type {\n        vertical-align: middle;\n    }\n\n    .dataframe tbody tr th {\n        vertical-align: top;\n    }\n\n    .dataframe thead th {\n        text-align: right;\n    }\n</style>\n<table border=\"1\" class=\"dataframe\">\n  <thead>\n    <tr style=\"text-align: right;\">\n      <th></th>\n      <th>cc_num</th>\n      <th>merchant</th>\n      <th>category</th>\n      <th>amt</th>\n      <th>gender</th>\n      <th>job</th>\n      <th>dob</th>\n      <th>merch_lat</th>\n      <th>merch_long</th>\n      <th>is_fraud</th>\n      <th>location</th>\n      <th>lat_long</th>\n    </tr>\n  </thead>\n  <tbody>\n    <tr>\n      <th>244497</th>\n      <td>3.585740e+15</td>\n      <td>fraud_Rodriguez Group</td>\n      <td>gas_transport</td>\n      <td>43.40</td>\n      <td>M</td>\n      <td>Librarian, public</td>\n      <td>18/03/1998</td>\n      <td>33.847940</td>\n      <td>-100.670553</td>\n      <td>0</td>\n      <td>Quanah, TX, 79252</td>\n      <td>34.2956, -99.7494</td>\n    </tr>\n    <tr>\n      <th>52873</th>\n      <td>6.597890e+15</td>\n      <td>fraud_Deckow-O'Conner</td>\n      <td>grocery_pos</td>\n      <td>157.93</td>\n      <td>M</td>\n      <td>Chief Technology Officer</td>\n      <td>23/08/1964</td>\n      <td>34.166490</td>\n      <td>-98.487952</td>\n      <td>0</td>\n      <td>Holliday, TX, 76366</td>\n      <td>33.6751, -98.6576</td>\n    </tr>\n    <tr>\n      <th>97696</th>\n      <td>3.567700e+15</td>\n      <td>fraud_Kassulke PLC</td>\n      <td>shopping_net</td>\n      <td>3.93</td>\n      <td>M</td>\n      <td>Travel agency manager</td>\n      <td>29/07/1998</td>\n      <td>43.202965</td>\n      <td>-74.107674</td>\n      <td>0</td>\n      <td>Hudson, NY, 12534</td>\n      <td>42.247, -73.7552</td>\n    </tr>\n    <tr>\n      <th>133364</th>\n      <td>3.712840e+14</td>\n      <td>fraud_Pacocha-Bauch</td>\n      <td>shopping_pos</td>\n      <td>1.25</td>\n      <td>M</td>\n      <td>Doctor, general practice</td>\n      <td>29/01/1952</td>\n      <td>34.174249</td>\n      <td>-101.730996</td>\n      <td>0</td>\n      <td>Lubbock, TX, 79413</td>\n      <td>33.5466, -101.8871</td>\n    </tr>\n    <tr>\n      <th>16618</th>\n      <td>4.467460e+18</td>\n      <td>fraud_Schumm PLC</td>\n      <td>health_fitness</td>\n      <td>14.63</td>\n      <td>F</td>\n      <td>Waste management officer</td>\n      <td>16/09/1966</td>\n      <td>28.844384</td>\n      <td>-81.889584</td>\n      <td>0</td>\n      <td>Tampa, FL, 33620</td>\n      <td>28.06, -82.4079</td>\n    </tr>\n    <tr>\n      <th>...</th>\n      <td>...</td>\n      <td>...</td>\n      <td>...</td>\n      <td>...</td>\n      <td>...</td>\n      <td>...</td>\n      <td>...</td>\n      <td>...</td>\n      <td>...</td>\n      <td>...</td>\n      <td>...</td>\n      <td>...</td>\n    </tr>\n    <tr>\n      <th>301402</th>\n      <td>5.456710e+15</td>\n      <td>fraud_Kirlin and Sons</td>\n      <td>personal_care</td>\n      <td>51.86</td>\n      <td>F</td>\n      <td>Architectural technologist</td>\n      <td>24/10/1961</td>\n      <td>35.672329</td>\n      <td>-106.219095</td>\n      <td>1</td>\n      <td>Llano, NM, 87543</td>\n      <td>36.1486, -105.6648</td>\n    </tr>\n    <tr>\n      <th>301528</th>\n      <td>3.853050e+13</td>\n      <td>fraud_Torphy-Goyette</td>\n      <td>shopping_pos</td>\n      <td>1030.78</td>\n      <td>F</td>\n      <td>Animal technologist</td>\n      <td>14/05/1989</td>\n      <td>34.730612</td>\n      <td>-82.966095</td>\n      <td>1</td>\n      <td>Arcadia, SC, 29320</td>\n      <td>34.9572, -81.9916</td>\n    </tr>\n    <tr>\n      <th>301600</th>\n      <td>3.853050e+13</td>\n      <td>fraud_Romaguera Ltd</td>\n      <td>health_fitness</td>\n      <td>19.11</td>\n      <td>F</td>\n      <td>Animal technologist</td>\n      <td>14/05/1989</td>\n      <td>35.052178</td>\n      <td>-81.245327</td>\n      <td>1</td>\n      <td>Arcadia, SC, 29320</td>\n      <td>34.9572, -81.9916</td>\n    </tr>\n    <tr>\n      <th>301866</th>\n      <td>4.129770e+15</td>\n      <td>fraud_Bednar Group</td>\n      <td>misc_net</td>\n      <td>898.83</td>\n      <td>F</td>\n      <td>Scientist, audiological</td>\n      <td>14/06/1972</td>\n      <td>48.192149</td>\n      <td>-96.998591</td>\n      <td>1</td>\n      <td>Halstad, MN, 56548</td>\n      <td>47.3551, -96.798</td>\n    </tr>\n    <tr>\n      <th>301881</th>\n      <td>4.129770e+15</td>\n      <td>fraud_Flatley Group</td>\n      <td>misc_pos</td>\n      <td>751.63</td>\n      <td>F</td>\n      <td>Scientist, audiological</td>\n      <td>14/06/1972</td>\n      <td>46.961592</td>\n      <td>-97.504919</td>\n      <td>1</td>\n      <td>Halstad, MN, 56548</td>\n      <td>47.3551, -96.798</td>\n    </tr>\n  </tbody>\n</table>\n<p>4290 rows × 12 columns</p>\n</div>"
     },
     "execution_count": 13,
     "metadata": {},
     "output_type": "execute_result"
    }
   ],
   "source": [
    "merged_card_data['lat_long'] = merged_card_data['lat'].astype(str) + ', ' + merged_card_data['long'].astype(str)\n",
    "merged_card_data = merged_card_data.drop(['lat', 'long'], axis=1)\n",
    "merged_card_data"
   ],
   "metadata": {
    "collapsed": false,
    "ExecuteTime": {
     "end_time": "2024-05-14T16:43:06.136371Z",
     "start_time": "2024-05-14T16:43:06.092373Z"
    }
   },
   "execution_count": 13
  },
  {
   "cell_type": "code",
   "outputs": [],
   "source": [
    "full_data['lat_long'] = full_data['lat'].astype(str) + ', ' + full_data['long'].astype(str)\n",
    "full_data = full_data.drop(['lat', 'long'], axis=1)"
   ],
   "metadata": {
    "collapsed": false,
    "ExecuteTime": {
     "end_time": "2024-05-14T16:43:08.803384Z",
     "start_time": "2024-05-14T16:43:07.766380Z"
    }
   },
   "execution_count": 14
  },
  {
   "cell_type": "code",
   "outputs": [
    {
     "data": {
      "text/plain": "              cc_num               merchant        category      amt gender  \\\n244497  3.585740e+15  fraud_Rodriguez Group   gas_transport    43.40      M   \n52873   6.597890e+15  fraud_Deckow-O'Conner     grocery_pos   157.93      M   \n97696   3.567700e+15     fraud_Kassulke PLC    shopping_net     3.93      M   \n133364  3.712840e+14    fraud_Pacocha-Bauch    shopping_pos     1.25      M   \n16618   4.467460e+18       fraud_Schumm PLC  health_fitness    14.63      F   \n...              ...                    ...             ...      ...    ...   \n301402  5.456710e+15  fraud_Kirlin and Sons   personal_care    51.86      F   \n301528  3.853050e+13   fraud_Torphy-Goyette    shopping_pos  1030.78      F   \n301600  3.853050e+13    fraud_Romaguera Ltd  health_fitness    19.11      F   \n301866  4.129770e+15     fraud_Bednar Group        misc_net   898.83      F   \n301881  4.129770e+15    fraud_Flatley Group        misc_pos   751.63      F   \n\n                               job         dob  is_fraud             location  \\\n244497           Librarian, public  18/03/1998         0    Quanah, TX, 79252   \n52873     Chief Technology Officer  23/08/1964         0  Holliday, TX, 76366   \n97696        Travel agency manager  29/07/1998         0    Hudson, NY, 12534   \n133364    Doctor, general practice  29/01/1952         0   Lubbock, TX, 79413   \n16618     Waste management officer  16/09/1966         0     Tampa, FL, 33620   \n...                            ...         ...       ...                  ...   \n301402  Architectural technologist  24/10/1961         1     Llano, NM, 87543   \n301528         Animal technologist  14/05/1989         1   Arcadia, SC, 29320   \n301600         Animal technologist  14/05/1989         1   Arcadia, SC, 29320   \n301866     Scientist, audiological  14/06/1972         1   Halstad, MN, 56548   \n301881     Scientist, audiological  14/06/1972         1   Halstad, MN, 56548   \n\n                  lat_long       merchant_lat_long  \n244497   34.2956, -99.7494   33.84794, -100.670553  \n52873    33.6751, -98.6576    34.16649, -98.487952  \n97696     42.247, -73.7552   43.202965, -74.107674  \n133364  33.5466, -101.8871  34.174249, -101.730996  \n16618      28.06, -82.4079   28.844384, -81.889584  \n...                    ...                     ...  \n301402  36.1486, -105.6648  35.672329, -106.219095  \n301528   34.9572, -81.9916   34.730612, -82.966095  \n301600   34.9572, -81.9916   35.052178, -81.245327  \n301866    47.3551, -96.798   48.192149, -96.998591  \n301881    47.3551, -96.798   46.961592, -97.504919  \n\n[4290 rows x 11 columns]",
      "text/html": "<div>\n<style scoped>\n    .dataframe tbody tr th:only-of-type {\n        vertical-align: middle;\n    }\n\n    .dataframe tbody tr th {\n        vertical-align: top;\n    }\n\n    .dataframe thead th {\n        text-align: right;\n    }\n</style>\n<table border=\"1\" class=\"dataframe\">\n  <thead>\n    <tr style=\"text-align: right;\">\n      <th></th>\n      <th>cc_num</th>\n      <th>merchant</th>\n      <th>category</th>\n      <th>amt</th>\n      <th>gender</th>\n      <th>job</th>\n      <th>dob</th>\n      <th>is_fraud</th>\n      <th>location</th>\n      <th>lat_long</th>\n      <th>merchant_lat_long</th>\n    </tr>\n  </thead>\n  <tbody>\n    <tr>\n      <th>244497</th>\n      <td>3.585740e+15</td>\n      <td>fraud_Rodriguez Group</td>\n      <td>gas_transport</td>\n      <td>43.40</td>\n      <td>M</td>\n      <td>Librarian, public</td>\n      <td>18/03/1998</td>\n      <td>0</td>\n      <td>Quanah, TX, 79252</td>\n      <td>34.2956, -99.7494</td>\n      <td>33.84794, -100.670553</td>\n    </tr>\n    <tr>\n      <th>52873</th>\n      <td>6.597890e+15</td>\n      <td>fraud_Deckow-O'Conner</td>\n      <td>grocery_pos</td>\n      <td>157.93</td>\n      <td>M</td>\n      <td>Chief Technology Officer</td>\n      <td>23/08/1964</td>\n      <td>0</td>\n      <td>Holliday, TX, 76366</td>\n      <td>33.6751, -98.6576</td>\n      <td>34.16649, -98.487952</td>\n    </tr>\n    <tr>\n      <th>97696</th>\n      <td>3.567700e+15</td>\n      <td>fraud_Kassulke PLC</td>\n      <td>shopping_net</td>\n      <td>3.93</td>\n      <td>M</td>\n      <td>Travel agency manager</td>\n      <td>29/07/1998</td>\n      <td>0</td>\n      <td>Hudson, NY, 12534</td>\n      <td>42.247, -73.7552</td>\n      <td>43.202965, -74.107674</td>\n    </tr>\n    <tr>\n      <th>133364</th>\n      <td>3.712840e+14</td>\n      <td>fraud_Pacocha-Bauch</td>\n      <td>shopping_pos</td>\n      <td>1.25</td>\n      <td>M</td>\n      <td>Doctor, general practice</td>\n      <td>29/01/1952</td>\n      <td>0</td>\n      <td>Lubbock, TX, 79413</td>\n      <td>33.5466, -101.8871</td>\n      <td>34.174249, -101.730996</td>\n    </tr>\n    <tr>\n      <th>16618</th>\n      <td>4.467460e+18</td>\n      <td>fraud_Schumm PLC</td>\n      <td>health_fitness</td>\n      <td>14.63</td>\n      <td>F</td>\n      <td>Waste management officer</td>\n      <td>16/09/1966</td>\n      <td>0</td>\n      <td>Tampa, FL, 33620</td>\n      <td>28.06, -82.4079</td>\n      <td>28.844384, -81.889584</td>\n    </tr>\n    <tr>\n      <th>...</th>\n      <td>...</td>\n      <td>...</td>\n      <td>...</td>\n      <td>...</td>\n      <td>...</td>\n      <td>...</td>\n      <td>...</td>\n      <td>...</td>\n      <td>...</td>\n      <td>...</td>\n      <td>...</td>\n    </tr>\n    <tr>\n      <th>301402</th>\n      <td>5.456710e+15</td>\n      <td>fraud_Kirlin and Sons</td>\n      <td>personal_care</td>\n      <td>51.86</td>\n      <td>F</td>\n      <td>Architectural technologist</td>\n      <td>24/10/1961</td>\n      <td>1</td>\n      <td>Llano, NM, 87543</td>\n      <td>36.1486, -105.6648</td>\n      <td>35.672329, -106.219095</td>\n    </tr>\n    <tr>\n      <th>301528</th>\n      <td>3.853050e+13</td>\n      <td>fraud_Torphy-Goyette</td>\n      <td>shopping_pos</td>\n      <td>1030.78</td>\n      <td>F</td>\n      <td>Animal technologist</td>\n      <td>14/05/1989</td>\n      <td>1</td>\n      <td>Arcadia, SC, 29320</td>\n      <td>34.9572, -81.9916</td>\n      <td>34.730612, -82.966095</td>\n    </tr>\n    <tr>\n      <th>301600</th>\n      <td>3.853050e+13</td>\n      <td>fraud_Romaguera Ltd</td>\n      <td>health_fitness</td>\n      <td>19.11</td>\n      <td>F</td>\n      <td>Animal technologist</td>\n      <td>14/05/1989</td>\n      <td>1</td>\n      <td>Arcadia, SC, 29320</td>\n      <td>34.9572, -81.9916</td>\n      <td>35.052178, -81.245327</td>\n    </tr>\n    <tr>\n      <th>301866</th>\n      <td>4.129770e+15</td>\n      <td>fraud_Bednar Group</td>\n      <td>misc_net</td>\n      <td>898.83</td>\n      <td>F</td>\n      <td>Scientist, audiological</td>\n      <td>14/06/1972</td>\n      <td>1</td>\n      <td>Halstad, MN, 56548</td>\n      <td>47.3551, -96.798</td>\n      <td>48.192149, -96.998591</td>\n    </tr>\n    <tr>\n      <th>301881</th>\n      <td>4.129770e+15</td>\n      <td>fraud_Flatley Group</td>\n      <td>misc_pos</td>\n      <td>751.63</td>\n      <td>F</td>\n      <td>Scientist, audiological</td>\n      <td>14/06/1972</td>\n      <td>1</td>\n      <td>Halstad, MN, 56548</td>\n      <td>47.3551, -96.798</td>\n      <td>46.961592, -97.504919</td>\n    </tr>\n  </tbody>\n</table>\n<p>4290 rows × 11 columns</p>\n</div>"
     },
     "execution_count": 15,
     "metadata": {},
     "output_type": "execute_result"
    }
   ],
   "source": [
    "merged_card_data['merchant_lat_long'] = merged_card_data['merch_lat'].astype(str) + ', ' + merged_card_data['merch_long'].astype(str)\n",
    "merged_card_data = merged_card_data.drop(['merch_lat', 'merch_long'], axis=1)\n",
    "merged_card_data"
   ],
   "metadata": {
    "collapsed": false,
    "ExecuteTime": {
     "end_time": "2024-05-14T16:43:08.850371Z",
     "start_time": "2024-05-14T16:43:08.805379Z"
    }
   },
   "execution_count": 15
  },
  {
   "cell_type": "code",
   "outputs": [],
   "source": [
    "full_data['merchant_lat_long'] = full_data['merch_lat'].astype(str) + ', ' + full_data['merch_long'].astype(str)\n",
    "full_data = full_data.drop(['merch_lat', 'merch_long'], axis=1)"
   ],
   "metadata": {
    "collapsed": false,
    "ExecuteTime": {
     "end_time": "2024-05-14T16:43:11.608450Z",
     "start_time": "2024-05-14T16:43:10.659440Z"
    }
   },
   "execution_count": 16
  },
  {
   "cell_type": "markdown",
   "source": [
    "### 5. Label Encoding"
   ],
   "metadata": {
    "collapsed": false
   }
  },
  {
   "cell_type": "code",
   "outputs": [],
   "source": [
    "from sklearn.preprocessing import LabelEncoder\n",
    "\n",
    "columns_to_encode = ['cc_num', 'merchant', 'category', 'gender', 'job', 'dob', 'location', 'lat_long', 'merchant_lat_long']\n",
    "\n",
    "label_encoders = {col: LabelEncoder() for col in columns_to_encode}\n",
    "\n",
    "# Apply label encoding to specified columns\n",
    "for col in columns_to_encode:\n",
    "    merged_card_data[col] = label_encoders[col].fit_transform(merged_card_data[col])\n",
    "    full_data[col] = label_encoders[col].fit_transform(full_data[col])\n",
    "\n",
    "#full_data"
   ],
   "metadata": {
    "collapsed": false,
    "ExecuteTime": {
     "end_time": "2024-05-14T16:43:19.174803Z",
     "start_time": "2024-05-14T16:43:15.954806Z"
    }
   },
   "execution_count": 17
  },
  {
   "cell_type": "markdown",
   "source": [
    "### 6. Machine Learning"
   ],
   "metadata": {
    "collapsed": false
   }
  },
  {
   "cell_type": "code",
   "outputs": [
    {
     "name": "stdout",
     "output_type": "stream",
     "text": [
      "(3432, 10) (858, 10) (3432,) (858,)\n"
     ]
    }
   ],
   "source": [
    "from sklearn.model_selection import train_test_split, StratifiedKFold\n",
    "\n",
    "X = merged_card_data.drop(columns = 'is_fraud', axis = 1)\n",
    "y = merged_card_data['is_fraud']\n",
    "\n",
    "X_train, X_test, y_train, y_test = train_test_split(X, y, random_state=42, test_size=.2)\n",
    "\n",
    "print(X_train.shape, X_test.shape, y_train.shape, y_test.shape)"
   ],
   "metadata": {
    "collapsed": false,
    "ExecuteTime": {
     "end_time": "2024-05-14T15:45:37.048163Z",
     "start_time": "2024-05-14T15:45:36.682852Z"
    }
   },
   "execution_count": 12
  },
  {
   "cell_type": "code",
   "outputs": [
    {
     "name": "stdout",
     "output_type": "stream",
     "text": [
      "is_fraud\n",
      "0    110746\n",
      "1       398\n",
      "Name: count, dtype: int64\n",
      "(444575, 10) (111144, 10) (444575,) (111144,)\n"
     ]
    }
   ],
   "source": [
    "from sklearn.model_selection import train_test_split\n",
    "\n",
    "X = full_data.drop(columns = 'is_fraud', axis = 1)\n",
    "y = full_data['is_fraud']\n",
    "\n",
    "X_train, X_test, y_train, y_test = train_test_split(X, y, random_state=42, test_size=.2)\n",
    "\n",
    "print(y_test.value_counts())\n",
    "print(X_train.shape, X_test.shape, y_train.shape, y_test.shape)"
   ],
   "metadata": {
    "collapsed": false,
    "ExecuteTime": {
     "end_time": "2024-05-14T16:45:02.653463Z",
     "start_time": "2024-05-14T16:45:02.444468Z"
    }
   },
   "execution_count": 18
  },
  {
   "cell_type": "code",
   "outputs": [
    {
     "name": "stdout",
     "output_type": "stream",
     "text": [
      "(555719, 10) (444575, 10) (111144, 10)\n"
     ]
    }
   ],
   "source": [
    "from sklearn.preprocessing import StandardScaler\n",
    "\n",
    "scaler = StandardScaler()\n",
    "\n",
    "X_train_scaled = scaler.fit_transform(X_train)\n",
    "X_test_scaled = scaler.transform(X_test)\n",
    "print(X.shape, X_train_scaled.shape, X_test_scaled.shape)"
   ],
   "metadata": {
    "collapsed": false,
    "ExecuteTime": {
     "end_time": "2024-05-14T16:45:13.924578Z",
     "start_time": "2024-05-14T16:45:13.798578Z"
    }
   },
   "execution_count": 19
  },
  {
   "cell_type": "markdown",
   "source": [
    "### Logistic Regression"
   ],
   "metadata": {
    "collapsed": false
   }
  },
  {
   "cell_type": "code",
   "outputs": [
    {
     "name": "stdout",
     "output_type": "stream",
     "text": [
      "Default parameters: {'C': 1.0, 'class_weight': None, 'dual': False, 'fit_intercept': True, 'intercept_scaling': 1, 'l1_ratio': None, 'max_iter': 100, 'multi_class': 'auto', 'n_jobs': None, 'penalty': 'l2', 'random_state': None, 'solver': 'lbfgs', 'tol': 0.0001, 'verbose': 0, 'warm_start': False}\n",
      "Accuracy: 100.0 %\n"
     ]
    }
   ],
   "source": [
    "from sklearn.linear_model import LogisticRegression\n",
    "\n",
    "lr = LogisticRegression()\n",
    "\n",
    "lr.fit(X_train_scaled, y_train)\n",
    "print(f'Default parameters: {lr.get_params()}')\n",
    "print(f'Accuracy: {round(lr.score(X_test_scaled, y_test),2)*100} %')\n",
    "\n",
    "# Sampled dataset:\n",
    "# Accuracy: 87.0 %\n",
    "\n",
    "# Full dataset:\n",
    "# Accuracy: 100%"
   ],
   "metadata": {
    "collapsed": false,
    "ExecuteTime": {
     "end_time": "2024-05-14T16:10:01.749918Z",
     "start_time": "2024-05-14T16:10:01.163914Z"
    }
   },
   "execution_count": 51
  },
  {
   "cell_type": "code",
   "outputs": [
    {
     "ename": "KeyboardInterrupt",
     "evalue": "",
     "output_type": "error",
     "traceback": [
      "\u001B[1;31m---------------------------------------------------------------------------\u001B[0m",
      "\u001B[1;31mKeyboardInterrupt\u001B[0m                         Traceback (most recent call last)",
      "Cell \u001B[1;32mIn[52], line 13\u001B[0m\n\u001B[0;32m     10\u001B[0m logistic_grid_search \u001B[38;5;241m=\u001B[39m GridSearchCV(lr, param_grid\u001B[38;5;241m=\u001B[39mlogistic_param_grid, cv\u001B[38;5;241m=\u001B[39m\u001B[38;5;241m5\u001B[39m, n_jobs\u001B[38;5;241m=\u001B[39m\u001B[38;5;241m-\u001B[39m\u001B[38;5;241m1\u001B[39m)\n\u001B[0;32m     12\u001B[0m \u001B[38;5;66;03m# Fit model using GridSearchCV\u001B[39;00m\n\u001B[1;32m---> 13\u001B[0m \u001B[43mlogistic_grid_search\u001B[49m\u001B[38;5;241;43m.\u001B[39;49m\u001B[43mfit\u001B[49m\u001B[43m(\u001B[49m\u001B[43mX_train_scaled\u001B[49m\u001B[43m,\u001B[49m\u001B[43m \u001B[49m\u001B[43my_train\u001B[49m\u001B[43m)\u001B[49m\n\u001B[0;32m     15\u001B[0m \u001B[38;5;28mprint\u001B[39m(\u001B[38;5;124m\"\u001B[39m\u001B[38;5;124mLogistic Regression Best Parameters (GridSearchCV):\u001B[39m\u001B[38;5;124m\"\u001B[39m, logistic_grid_search\u001B[38;5;241m.\u001B[39mbest_params_)\n\u001B[0;32m     17\u001B[0m logistic_cv_score \u001B[38;5;241m=\u001B[39m logistic_grid_search\u001B[38;5;241m.\u001B[39mbest_score_\n",
      "File \u001B[1;32m~\\.conda\\envs\\ML_Projectwork\\lib\\site-packages\\sklearn\\base.py:1152\u001B[0m, in \u001B[0;36m_fit_context.<locals>.decorator.<locals>.wrapper\u001B[1;34m(estimator, *args, **kwargs)\u001B[0m\n\u001B[0;32m   1145\u001B[0m     estimator\u001B[38;5;241m.\u001B[39m_validate_params()\n\u001B[0;32m   1147\u001B[0m \u001B[38;5;28;01mwith\u001B[39;00m config_context(\n\u001B[0;32m   1148\u001B[0m     skip_parameter_validation\u001B[38;5;241m=\u001B[39m(\n\u001B[0;32m   1149\u001B[0m         prefer_skip_nested_validation \u001B[38;5;129;01mor\u001B[39;00m global_skip_validation\n\u001B[0;32m   1150\u001B[0m     )\n\u001B[0;32m   1151\u001B[0m ):\n\u001B[1;32m-> 1152\u001B[0m     \u001B[38;5;28;01mreturn\u001B[39;00m \u001B[43mfit_method\u001B[49m\u001B[43m(\u001B[49m\u001B[43mestimator\u001B[49m\u001B[43m,\u001B[49m\u001B[43m \u001B[49m\u001B[38;5;241;43m*\u001B[39;49m\u001B[43margs\u001B[49m\u001B[43m,\u001B[49m\u001B[43m \u001B[49m\u001B[38;5;241;43m*\u001B[39;49m\u001B[38;5;241;43m*\u001B[39;49m\u001B[43mkwargs\u001B[49m\u001B[43m)\u001B[49m\n",
      "File \u001B[1;32m~\\.conda\\envs\\ML_Projectwork\\lib\\site-packages\\sklearn\\model_selection\\_search.py:898\u001B[0m, in \u001B[0;36mBaseSearchCV.fit\u001B[1;34m(self, X, y, groups, **fit_params)\u001B[0m\n\u001B[0;32m    892\u001B[0m     results \u001B[38;5;241m=\u001B[39m \u001B[38;5;28mself\u001B[39m\u001B[38;5;241m.\u001B[39m_format_results(\n\u001B[0;32m    893\u001B[0m         all_candidate_params, n_splits, all_out, all_more_results\n\u001B[0;32m    894\u001B[0m     )\n\u001B[0;32m    896\u001B[0m     \u001B[38;5;28;01mreturn\u001B[39;00m results\n\u001B[1;32m--> 898\u001B[0m \u001B[38;5;28;43mself\u001B[39;49m\u001B[38;5;241;43m.\u001B[39;49m\u001B[43m_run_search\u001B[49m\u001B[43m(\u001B[49m\u001B[43mevaluate_candidates\u001B[49m\u001B[43m)\u001B[49m\n\u001B[0;32m    900\u001B[0m \u001B[38;5;66;03m# multimetric is determined here because in the case of a callable\u001B[39;00m\n\u001B[0;32m    901\u001B[0m \u001B[38;5;66;03m# self.scoring the return type is only known after calling\u001B[39;00m\n\u001B[0;32m    902\u001B[0m first_test_score \u001B[38;5;241m=\u001B[39m all_out[\u001B[38;5;241m0\u001B[39m][\u001B[38;5;124m\"\u001B[39m\u001B[38;5;124mtest_scores\u001B[39m\u001B[38;5;124m\"\u001B[39m]\n",
      "File \u001B[1;32m~\\.conda\\envs\\ML_Projectwork\\lib\\site-packages\\sklearn\\model_selection\\_search.py:1422\u001B[0m, in \u001B[0;36mGridSearchCV._run_search\u001B[1;34m(self, evaluate_candidates)\u001B[0m\n\u001B[0;32m   1420\u001B[0m \u001B[38;5;28;01mdef\u001B[39;00m \u001B[38;5;21m_run_search\u001B[39m(\u001B[38;5;28mself\u001B[39m, evaluate_candidates):\n\u001B[0;32m   1421\u001B[0m \u001B[38;5;250m    \u001B[39m\u001B[38;5;124;03m\"\"\"Search all candidates in param_grid\"\"\"\u001B[39;00m\n\u001B[1;32m-> 1422\u001B[0m     \u001B[43mevaluate_candidates\u001B[49m\u001B[43m(\u001B[49m\u001B[43mParameterGrid\u001B[49m\u001B[43m(\u001B[49m\u001B[38;5;28;43mself\u001B[39;49m\u001B[38;5;241;43m.\u001B[39;49m\u001B[43mparam_grid\u001B[49m\u001B[43m)\u001B[49m\u001B[43m)\u001B[49m\n",
      "File \u001B[1;32m~\\.conda\\envs\\ML_Projectwork\\lib\\site-packages\\sklearn\\model_selection\\_search.py:845\u001B[0m, in \u001B[0;36mBaseSearchCV.fit.<locals>.evaluate_candidates\u001B[1;34m(candidate_params, cv, more_results)\u001B[0m\n\u001B[0;32m    837\u001B[0m \u001B[38;5;28;01mif\u001B[39;00m \u001B[38;5;28mself\u001B[39m\u001B[38;5;241m.\u001B[39mverbose \u001B[38;5;241m>\u001B[39m \u001B[38;5;241m0\u001B[39m:\n\u001B[0;32m    838\u001B[0m     \u001B[38;5;28mprint\u001B[39m(\n\u001B[0;32m    839\u001B[0m         \u001B[38;5;124m\"\u001B[39m\u001B[38;5;124mFitting \u001B[39m\u001B[38;5;132;01m{0}\u001B[39;00m\u001B[38;5;124m folds for each of \u001B[39m\u001B[38;5;132;01m{1}\u001B[39;00m\u001B[38;5;124m candidates,\u001B[39m\u001B[38;5;124m\"\u001B[39m\n\u001B[0;32m    840\u001B[0m         \u001B[38;5;124m\"\u001B[39m\u001B[38;5;124m totalling \u001B[39m\u001B[38;5;132;01m{2}\u001B[39;00m\u001B[38;5;124m fits\u001B[39m\u001B[38;5;124m\"\u001B[39m\u001B[38;5;241m.\u001B[39mformat(\n\u001B[0;32m    841\u001B[0m             n_splits, n_candidates, n_candidates \u001B[38;5;241m*\u001B[39m n_splits\n\u001B[0;32m    842\u001B[0m         )\n\u001B[0;32m    843\u001B[0m     )\n\u001B[1;32m--> 845\u001B[0m out \u001B[38;5;241m=\u001B[39m \u001B[43mparallel\u001B[49m\u001B[43m(\u001B[49m\n\u001B[0;32m    846\u001B[0m \u001B[43m    \u001B[49m\u001B[43mdelayed\u001B[49m\u001B[43m(\u001B[49m\u001B[43m_fit_and_score\u001B[49m\u001B[43m)\u001B[49m\u001B[43m(\u001B[49m\n\u001B[0;32m    847\u001B[0m \u001B[43m        \u001B[49m\u001B[43mclone\u001B[49m\u001B[43m(\u001B[49m\u001B[43mbase_estimator\u001B[49m\u001B[43m)\u001B[49m\u001B[43m,\u001B[49m\n\u001B[0;32m    848\u001B[0m \u001B[43m        \u001B[49m\u001B[43mX\u001B[49m\u001B[43m,\u001B[49m\n\u001B[0;32m    849\u001B[0m \u001B[43m        \u001B[49m\u001B[43my\u001B[49m\u001B[43m,\u001B[49m\n\u001B[0;32m    850\u001B[0m \u001B[43m        \u001B[49m\u001B[43mtrain\u001B[49m\u001B[38;5;241;43m=\u001B[39;49m\u001B[43mtrain\u001B[49m\u001B[43m,\u001B[49m\n\u001B[0;32m    851\u001B[0m \u001B[43m        \u001B[49m\u001B[43mtest\u001B[49m\u001B[38;5;241;43m=\u001B[39;49m\u001B[43mtest\u001B[49m\u001B[43m,\u001B[49m\n\u001B[0;32m    852\u001B[0m \u001B[43m        \u001B[49m\u001B[43mparameters\u001B[49m\u001B[38;5;241;43m=\u001B[39;49m\u001B[43mparameters\u001B[49m\u001B[43m,\u001B[49m\n\u001B[0;32m    853\u001B[0m \u001B[43m        \u001B[49m\u001B[43msplit_progress\u001B[49m\u001B[38;5;241;43m=\u001B[39;49m\u001B[43m(\u001B[49m\u001B[43msplit_idx\u001B[49m\u001B[43m,\u001B[49m\u001B[43m \u001B[49m\u001B[43mn_splits\u001B[49m\u001B[43m)\u001B[49m\u001B[43m,\u001B[49m\n\u001B[0;32m    854\u001B[0m \u001B[43m        \u001B[49m\u001B[43mcandidate_progress\u001B[49m\u001B[38;5;241;43m=\u001B[39;49m\u001B[43m(\u001B[49m\u001B[43mcand_idx\u001B[49m\u001B[43m,\u001B[49m\u001B[43m \u001B[49m\u001B[43mn_candidates\u001B[49m\u001B[43m)\u001B[49m\u001B[43m,\u001B[49m\n\u001B[0;32m    855\u001B[0m \u001B[43m        \u001B[49m\u001B[38;5;241;43m*\u001B[39;49m\u001B[38;5;241;43m*\u001B[39;49m\u001B[43mfit_and_score_kwargs\u001B[49m\u001B[43m,\u001B[49m\n\u001B[0;32m    856\u001B[0m \u001B[43m    \u001B[49m\u001B[43m)\u001B[49m\n\u001B[0;32m    857\u001B[0m \u001B[43m    \u001B[49m\u001B[38;5;28;43;01mfor\u001B[39;49;00m\u001B[43m \u001B[49m\u001B[43m(\u001B[49m\u001B[43mcand_idx\u001B[49m\u001B[43m,\u001B[49m\u001B[43m \u001B[49m\u001B[43mparameters\u001B[49m\u001B[43m)\u001B[49m\u001B[43m,\u001B[49m\u001B[43m \u001B[49m\u001B[43m(\u001B[49m\u001B[43msplit_idx\u001B[49m\u001B[43m,\u001B[49m\u001B[43m \u001B[49m\u001B[43m(\u001B[49m\u001B[43mtrain\u001B[49m\u001B[43m,\u001B[49m\u001B[43m \u001B[49m\u001B[43mtest\u001B[49m\u001B[43m)\u001B[49m\u001B[43m)\u001B[49m\u001B[43m \u001B[49m\u001B[38;5;129;43;01min\u001B[39;49;00m\u001B[43m \u001B[49m\u001B[43mproduct\u001B[49m\u001B[43m(\u001B[49m\n\u001B[0;32m    858\u001B[0m \u001B[43m        \u001B[49m\u001B[38;5;28;43menumerate\u001B[39;49m\u001B[43m(\u001B[49m\u001B[43mcandidate_params\u001B[49m\u001B[43m)\u001B[49m\u001B[43m,\u001B[49m\u001B[43m \u001B[49m\u001B[38;5;28;43menumerate\u001B[39;49m\u001B[43m(\u001B[49m\u001B[43mcv\u001B[49m\u001B[38;5;241;43m.\u001B[39;49m\u001B[43msplit\u001B[49m\u001B[43m(\u001B[49m\u001B[43mX\u001B[49m\u001B[43m,\u001B[49m\u001B[43m \u001B[49m\u001B[43my\u001B[49m\u001B[43m,\u001B[49m\u001B[43m \u001B[49m\u001B[43mgroups\u001B[49m\u001B[43m)\u001B[49m\u001B[43m)\u001B[49m\n\u001B[0;32m    859\u001B[0m \u001B[43m    \u001B[49m\u001B[43m)\u001B[49m\n\u001B[0;32m    860\u001B[0m \u001B[43m\u001B[49m\u001B[43m)\u001B[49m\n\u001B[0;32m    862\u001B[0m \u001B[38;5;28;01mif\u001B[39;00m \u001B[38;5;28mlen\u001B[39m(out) \u001B[38;5;241m<\u001B[39m \u001B[38;5;241m1\u001B[39m:\n\u001B[0;32m    863\u001B[0m     \u001B[38;5;28;01mraise\u001B[39;00m \u001B[38;5;167;01mValueError\u001B[39;00m(\n\u001B[0;32m    864\u001B[0m         \u001B[38;5;124m\"\u001B[39m\u001B[38;5;124mNo fits were performed. \u001B[39m\u001B[38;5;124m\"\u001B[39m\n\u001B[0;32m    865\u001B[0m         \u001B[38;5;124m\"\u001B[39m\u001B[38;5;124mWas the CV iterator empty? \u001B[39m\u001B[38;5;124m\"\u001B[39m\n\u001B[0;32m    866\u001B[0m         \u001B[38;5;124m\"\u001B[39m\u001B[38;5;124mWere there no candidates?\u001B[39m\u001B[38;5;124m\"\u001B[39m\n\u001B[0;32m    867\u001B[0m     )\n",
      "File \u001B[1;32m~\\.conda\\envs\\ML_Projectwork\\lib\\site-packages\\sklearn\\utils\\parallel.py:65\u001B[0m, in \u001B[0;36mParallel.__call__\u001B[1;34m(self, iterable)\u001B[0m\n\u001B[0;32m     60\u001B[0m config \u001B[38;5;241m=\u001B[39m get_config()\n\u001B[0;32m     61\u001B[0m iterable_with_config \u001B[38;5;241m=\u001B[39m (\n\u001B[0;32m     62\u001B[0m     (_with_config(delayed_func, config), args, kwargs)\n\u001B[0;32m     63\u001B[0m     \u001B[38;5;28;01mfor\u001B[39;00m delayed_func, args, kwargs \u001B[38;5;129;01min\u001B[39;00m iterable\n\u001B[0;32m     64\u001B[0m )\n\u001B[1;32m---> 65\u001B[0m \u001B[38;5;28;01mreturn\u001B[39;00m \u001B[38;5;28;43msuper\u001B[39;49m\u001B[43m(\u001B[49m\u001B[43m)\u001B[49m\u001B[38;5;241;43m.\u001B[39;49m\u001B[38;5;21;43m__call__\u001B[39;49m\u001B[43m(\u001B[49m\u001B[43miterable_with_config\u001B[49m\u001B[43m)\u001B[49m\n",
      "File \u001B[1;32m~\\.conda\\envs\\ML_Projectwork\\lib\\site-packages\\joblib\\parallel.py:2007\u001B[0m, in \u001B[0;36mParallel.__call__\u001B[1;34m(self, iterable)\u001B[0m\n\u001B[0;32m   2001\u001B[0m \u001B[38;5;66;03m# The first item from the output is blank, but it makes the interpreter\u001B[39;00m\n\u001B[0;32m   2002\u001B[0m \u001B[38;5;66;03m# progress until it enters the Try/Except block of the generator and\u001B[39;00m\n\u001B[0;32m   2003\u001B[0m \u001B[38;5;66;03m# reach the first `yield` statement. This starts the aynchronous\u001B[39;00m\n\u001B[0;32m   2004\u001B[0m \u001B[38;5;66;03m# dispatch of the tasks to the workers.\u001B[39;00m\n\u001B[0;32m   2005\u001B[0m \u001B[38;5;28mnext\u001B[39m(output)\n\u001B[1;32m-> 2007\u001B[0m \u001B[38;5;28;01mreturn\u001B[39;00m output \u001B[38;5;28;01mif\u001B[39;00m \u001B[38;5;28mself\u001B[39m\u001B[38;5;241m.\u001B[39mreturn_generator \u001B[38;5;28;01melse\u001B[39;00m \u001B[38;5;28;43mlist\u001B[39;49m\u001B[43m(\u001B[49m\u001B[43moutput\u001B[49m\u001B[43m)\u001B[49m\n",
      "File \u001B[1;32m~\\.conda\\envs\\ML_Projectwork\\lib\\site-packages\\joblib\\parallel.py:1650\u001B[0m, in \u001B[0;36mParallel._get_outputs\u001B[1;34m(self, iterator, pre_dispatch)\u001B[0m\n\u001B[0;32m   1647\u001B[0m     \u001B[38;5;28;01myield\u001B[39;00m\n\u001B[0;32m   1649\u001B[0m     \u001B[38;5;28;01mwith\u001B[39;00m \u001B[38;5;28mself\u001B[39m\u001B[38;5;241m.\u001B[39m_backend\u001B[38;5;241m.\u001B[39mretrieval_context():\n\u001B[1;32m-> 1650\u001B[0m         \u001B[38;5;28;01myield from\u001B[39;00m \u001B[38;5;28mself\u001B[39m\u001B[38;5;241m.\u001B[39m_retrieve()\n\u001B[0;32m   1652\u001B[0m \u001B[38;5;28;01mexcept\u001B[39;00m \u001B[38;5;167;01mGeneratorExit\u001B[39;00m:\n\u001B[0;32m   1653\u001B[0m     \u001B[38;5;66;03m# The generator has been garbage collected before being fully\u001B[39;00m\n\u001B[0;32m   1654\u001B[0m     \u001B[38;5;66;03m# consumed. This aborts the remaining tasks if possible and warn\u001B[39;00m\n\u001B[0;32m   1655\u001B[0m     \u001B[38;5;66;03m# the user if necessary.\u001B[39;00m\n\u001B[0;32m   1656\u001B[0m     \u001B[38;5;28mself\u001B[39m\u001B[38;5;241m.\u001B[39m_exception \u001B[38;5;241m=\u001B[39m \u001B[38;5;28;01mTrue\u001B[39;00m\n",
      "File \u001B[1;32m~\\.conda\\envs\\ML_Projectwork\\lib\\site-packages\\joblib\\parallel.py:1762\u001B[0m, in \u001B[0;36mParallel._retrieve\u001B[1;34m(self)\u001B[0m\n\u001B[0;32m   1757\u001B[0m \u001B[38;5;66;03m# If the next job is not ready for retrieval yet, we just wait for\u001B[39;00m\n\u001B[0;32m   1758\u001B[0m \u001B[38;5;66;03m# async callbacks to progress.\u001B[39;00m\n\u001B[0;32m   1759\u001B[0m \u001B[38;5;28;01mif\u001B[39;00m ((\u001B[38;5;28mlen\u001B[39m(\u001B[38;5;28mself\u001B[39m\u001B[38;5;241m.\u001B[39m_jobs) \u001B[38;5;241m==\u001B[39m \u001B[38;5;241m0\u001B[39m) \u001B[38;5;129;01mor\u001B[39;00m\n\u001B[0;32m   1760\u001B[0m     (\u001B[38;5;28mself\u001B[39m\u001B[38;5;241m.\u001B[39m_jobs[\u001B[38;5;241m0\u001B[39m]\u001B[38;5;241m.\u001B[39mget_status(\n\u001B[0;32m   1761\u001B[0m         timeout\u001B[38;5;241m=\u001B[39m\u001B[38;5;28mself\u001B[39m\u001B[38;5;241m.\u001B[39mtimeout) \u001B[38;5;241m==\u001B[39m TASK_PENDING)):\n\u001B[1;32m-> 1762\u001B[0m     \u001B[43mtime\u001B[49m\u001B[38;5;241;43m.\u001B[39;49m\u001B[43msleep\u001B[49m\u001B[43m(\u001B[49m\u001B[38;5;241;43m0.01\u001B[39;49m\u001B[43m)\u001B[49m\n\u001B[0;32m   1763\u001B[0m     \u001B[38;5;28;01mcontinue\u001B[39;00m\n\u001B[0;32m   1765\u001B[0m \u001B[38;5;66;03m# We need to be careful: the job list can be filling up as\u001B[39;00m\n\u001B[0;32m   1766\u001B[0m \u001B[38;5;66;03m# we empty it and Python list are not thread-safe by\u001B[39;00m\n\u001B[0;32m   1767\u001B[0m \u001B[38;5;66;03m# default hence the use of the lock\u001B[39;00m\n",
      "\u001B[1;31mKeyboardInterrupt\u001B[0m: "
     ]
    }
   ],
   "source": [
    "from sklearn.model_selection import GridSearchCV\n",
    "\n",
    "logistic_param_grid = {\n",
    "    'penalty': ['l1', 'l2'],\n",
    "    'C': np.logspace(-6, 6, 13),\n",
    "    'solver': ['liblinear', 'saga']\n",
    "}\n",
    "\n",
    "# GridSearchCV for model using the full hyperparameter grid\n",
    "logistic_grid_search = GridSearchCV(lr, param_grid=logistic_param_grid, cv=5, n_jobs=-1)\n",
    "\n",
    "# Fit model using GridSearchCV\n",
    "logistic_grid_search.fit(X_train_scaled, y_train)\n",
    "\n",
    "print(\"Logistic Regression Best Parameters (GridSearchCV):\", logistic_grid_search.best_params_)\n",
    "\n",
    "logistic_cv_score = logistic_grid_search.best_score_\n",
    "print(f\"Logistic Regression Best Score: {round(logistic_cv_score * 100, 2)}\")\n",
    "\n",
    "# Sampled dataset result:\n",
    "# Logistic Regression Best Parameters (GridSearchCV): {'C': 0.01, 'penalty': 'l1', 'solver': 'saga'}\n",
    "# Logistic Regression Best Score: 85.11"
   ],
   "metadata": {
    "collapsed": false,
    "ExecuteTime": {
     "end_time": "2024-05-14T16:15:29.756071Z",
     "start_time": "2024-05-14T16:10:12.223744Z"
    }
   },
   "execution_count": 52
  },
  {
   "cell_type": "markdown",
   "source": [
    "### SVM"
   ],
   "metadata": {
    "collapsed": false
   }
  },
  {
   "cell_type": "code",
   "outputs": [],
   "source": [
    "from sklearn import svm\n",
    "\n",
    "svm = svm.SVC()\n",
    "\n",
    "svm.fit(X_train_scaled, y_train)\n",
    "print(f'Default parameters: {svm.get_params()}')\n",
    "print(f'Accuracy: {round(svm.score(X_test_scaled, y_test),2)*100}%')\n",
    "\n",
    "# Sampled result:\n",
    "# Accuracy: 88.0%"
   ],
   "metadata": {
    "collapsed": false,
    "is_executing": true,
    "ExecuteTime": {
     "start_time": "2024-05-14T16:21:11.985558Z"
    }
   },
   "execution_count": null
  },
  {
   "cell_type": "code",
   "outputs": [],
   "source": [
    "svm_param_grid = {\n",
    "    'C': [0.1, 1, 10, 100],\n",
    "    'gamma': [0.01, 0.1, 1, 'scale', 'auto'],\n",
    "    'kernel': ['linear', 'rbf', 'poly', 'sigmoid']\n",
    "}\n",
    "\n",
    "svm_grid_search = GridSearchCV(svm, param_grid=svm_param_grid, cv=5, n_jobs=-1)\n",
    "svm_grid_search.fit(X_train_scaled, y_train)\n",
    "print(\"SVM Best Parameters (GridSearchCV):\", svm_grid_search.best_params_)\n",
    "\n",
    "svm_cv_score = svm_grid_search.best_score_\n",
    "print(f\"SVM Best Score: {round(svm_cv_score * 100, 2)}\")\n",
    "\n",
    "# 2h 27m\n",
    "# SVM Best Parameters (GridSearchCV): {'C': 100, 'gamma': 0.01, 'kernel': 'rbf'}\n",
    "# SVM Best Score: 85.2"
   ],
   "metadata": {
    "collapsed": false
   },
   "execution_count": null
  },
  {
   "cell_type": "markdown",
   "source": [
    "### Decision Tree"
   ],
   "metadata": {
    "collapsed": false
   }
  },
  {
   "cell_type": "code",
   "outputs": [
    {
     "name": "stdout",
     "output_type": "stream",
     "text": [
      "Default parameters: {'ccp_alpha': 0.0, 'class_weight': None, 'criterion': 'gini', 'max_depth': None, 'max_features': None, 'max_leaf_nodes': None, 'min_impurity_decrease': 0.0, 'min_samples_leaf': 1, 'min_samples_split': 2, 'min_weight_fraction_leaf': 0.0, 'random_state': None, 'splitter': 'best'}\n",
      "Accuracy: 100.0 %\n"
     ]
    }
   ],
   "source": [
    "from sklearn.tree import DecisionTreeClassifier\n",
    "\n",
    "dt = DecisionTreeClassifier()\n",
    "\n",
    "dt.fit(X_train_scaled, y_train)\n",
    "print(f'Default parameters: {dt.get_params()}')\n",
    "print(f'Accuracy: {round(dt.score(X_test_scaled, y_test),2)*100} %')\n",
    "\n",
    "# Sampled result:\n",
    "# Accuracy: 88.0%\n",
    "# Full result:\n",
    "# Accuracy: 100.0%"
   ],
   "metadata": {
    "collapsed": false,
    "ExecuteTime": {
     "end_time": "2024-05-14T16:45:57.048985Z",
     "start_time": "2024-05-14T16:45:52.605975Z"
    }
   },
   "execution_count": 20
  },
  {
   "cell_type": "code",
   "outputs": [
    {
     "name": "stdout",
     "output_type": "stream",
     "text": [
      "Decision Tree Best Parameters (GridSearchCV): {'criterion': 'entropy', 'max_depth': 10, 'max_features': None, 'min_samples_leaf': 1, 'min_samples_split': 20}\n",
      "Decision Tree Best Score: 94.06\n"
     ]
    }
   ],
   "source": [
    "dt_param_grid = {\n",
    "    'criterion': ['gini', 'entropy'],\n",
    "    'max_depth': [None, 10, 20, 30, 40, 50],\n",
    "    'min_samples_split': [2, 5, 10, 20],\n",
    "    'min_samples_leaf': [1, 2, 5, 10],\n",
    "    'max_features': [None, 'sqrt', 'log2']\n",
    "}\n",
    "\n",
    "dt_grid_search = GridSearchCV(dt, param_grid=dt_param_grid, cv=5, n_jobs=-1)\n",
    "dt_grid_search.fit(X_train_scaled, y_train)\n",
    "print(\"Decision Tree Best Parameters (GridSearchCV):\", dt_grid_search.best_params_)\n",
    "\n",
    "dt_cv_score = dt_grid_search.best_score_\n",
    "print(f\"Decision Tree Best Score: {round(dt_cv_score * 100, 2)}\")\n",
    "\n",
    "# Decision Tree Best Parameters (GridSearchCV): {'criterion': 'entropy', 'max_depth': 40, 'max_features': None, 'min_samples_leaf': 5, 'min_samples_split': 20}\n",
    "# Decision Tree Best Score: 94.06"
   ],
   "metadata": {
    "collapsed": false,
    "ExecuteTime": {
     "end_time": "2024-05-14T15:52:19.846624Z",
     "start_time": "2024-05-14T15:52:12.343571Z"
    }
   },
   "execution_count": 25
  },
  {
   "cell_type": "markdown",
   "source": [
    "### Random Forest"
   ],
   "metadata": {
    "collapsed": false
   }
  },
  {
   "cell_type": "code",
   "outputs": [
    {
     "name": "stdout",
     "output_type": "stream",
     "text": [
      "Default parameters: {'bootstrap': True, 'ccp_alpha': 0.0, 'class_weight': None, 'criterion': 'gini', 'max_depth': None, 'max_features': 'sqrt', 'max_leaf_nodes': None, 'max_samples': None, 'min_impurity_decrease': 0.0, 'min_samples_leaf': 1, 'min_samples_split': 2, 'min_weight_fraction_leaf': 0.0, 'n_estimators': 100, 'n_jobs': None, 'oob_score': False, 'random_state': 42, 'verbose': 0, 'warm_start': False}\n",
      "Accuracy: 100.0 %\n"
     ]
    }
   ],
   "source": [
    "from sklearn.ensemble import RandomForestClassifier\n",
    "\n",
    "rf = RandomForestClassifier(n_estimators=100, random_state=42) # n_estimators=100, random_state=42\n",
    "\n",
    "rf.fit(X_train_scaled, y_train)\n",
    "print(f'Default parameters: {rf.get_params()}')\n",
    "print(f'Accuracy: {round(rf.score(X_test_scaled, y_test),2)*100} %')\n",
    "\n",
    "# Sampled result:\n",
    "# Accuracy: 96.0%\n",
    "# Full result:\n",
    "# Accuracy: 100.0%"
   ],
   "metadata": {
    "collapsed": false,
    "ExecuteTime": {
     "end_time": "2024-05-14T16:48:33.981791Z",
     "start_time": "2024-05-14T16:46:21.045571Z"
    }
   },
   "execution_count": 21
  },
  {
   "cell_type": "code",
   "outputs": [
    {
     "name": "stdout",
     "output_type": "stream",
     "text": [
      "Random Forest Best Parameters (RandomizedSearchCV): {'n_estimators': 300, 'min_samples_split': 5, 'min_samples_leaf': 1, 'max_features': None, 'max_depth': 10, 'bootstrap': True}\n",
      "Random Forest Best Parameters (GridSearchCV): {'bootstrap': True, 'max_depth': 20, 'max_features': None, 'min_samples_leaf': 1, 'min_samples_split': 5, 'n_estimators': 300}\n",
      "Random Forest Best Score: 95.45\n"
     ]
    }
   ],
   "source": [
    "from sklearn.model_selection import StratifiedKFold\n",
    "\n",
    "rf = RandomForestClassifier()\n",
    "\n",
    "s_kfold = StratifiedKFold(n_splits=5, shuffle=True, random_state=42)\n",
    "\n",
    "rf_param_grid = {\n",
    "    'n_estimators': [100, 200, 300],\n",
    "    'max_features': [None, 'sqrt', 'log2'], \n",
    "    'max_depth': [None, 10, 20, 30],  \n",
    "    'min_samples_split': [2, 5, 10],  \n",
    "    'min_samples_leaf': [1, 2, 4],  \n",
    "    'bootstrap': [True, False]  \n",
    "}\n",
    "\n",
    "rf_grid_search = GridSearchCV(rf, param_grid=rf_param_grid, cv=s_kfold, n_jobs=-1)\n",
    "rf_grid_search.fit(X_train_scaled, y_train)\n",
    "print(\"Random Forest Best Parameters (GridSearchCV):\", rf_grid_search.best_params_)\n",
    "\n",
    "rf_cv_score = rf_grid_search.best_score_\n",
    "print(f\"Random Forest Best Score: {round(rf_cv_score * 100, 2)}\")\n",
    "\n",
    "# Random Forest Best Parameters (GridSearchCV): {'bootstrap': True, 'max_depth': 20, 'max_features': None, 'min_samples_leaf': 1, 'min_samples_split': 5, 'n_estimators': 300}\n",
    "# Random Forest Best Score: 95.45"
   ],
   "metadata": {
    "collapsed": false,
    "ExecuteTime": {
     "end_time": "2024-05-13T15:56:09.651633Z",
     "start_time": "2024-05-13T15:34:41.862206Z"
    }
   },
   "execution_count": 42
  },
  {
   "cell_type": "markdown",
   "source": [
    "### KNN"
   ],
   "metadata": {
    "collapsed": false
   }
  },
  {
   "cell_type": "code",
   "outputs": [
    {
     "name": "stdout",
     "output_type": "stream",
     "text": [
      "1. iteration accuracy: 99.66%\n",
      "2. iteration accuracy: 99.71%\n"
     ]
    },
    {
     "ename": "KeyboardInterrupt",
     "evalue": "",
     "output_type": "error",
     "traceback": [
      "\u001B[1;31m---------------------------------------------------------------------------\u001B[0m",
      "\u001B[1;31mKeyboardInterrupt\u001B[0m                         Traceback (most recent call last)",
      "Cell \u001B[1;32mIn[22], line 11\u001B[0m\n\u001B[0;32m      8\u001B[0m knn \u001B[38;5;241m=\u001B[39m KNeighborsClassifier(n_neighbors\u001B[38;5;241m=\u001B[39mi)\n\u001B[0;32m      9\u001B[0m knn\u001B[38;5;241m.\u001B[39mfit(X_train_scaled, y_train)\n\u001B[1;32m---> 11\u001B[0m score \u001B[38;5;241m=\u001B[39m \u001B[43mknn\u001B[49m\u001B[38;5;241;43m.\u001B[39;49m\u001B[43mscore\u001B[49m\u001B[43m(\u001B[49m\u001B[43mX_test_scaled\u001B[49m\u001B[43m,\u001B[49m\u001B[43m \u001B[49m\u001B[43my_test\u001B[49m\u001B[43m)\u001B[49m\n\u001B[0;32m     12\u001B[0m \u001B[38;5;28mprint\u001B[39m(\u001B[38;5;124mf\u001B[39m\u001B[38;5;124m\"\u001B[39m\u001B[38;5;132;01m{\u001B[39;00mi\u001B[38;5;132;01m}\u001B[39;00m\u001B[38;5;124m. iteration accuracy: \u001B[39m\u001B[38;5;132;01m{\u001B[39;00m\u001B[38;5;28mround\u001B[39m(score\u001B[38;5;241m*\u001B[39m\u001B[38;5;241m100\u001B[39m,\u001B[38;5;250m \u001B[39m\u001B[38;5;241m2\u001B[39m)\u001B[38;5;132;01m}\u001B[39;00m\u001B[38;5;124m%\u001B[39m\u001B[38;5;124m\"\u001B[39m)\n\u001B[0;32m     14\u001B[0m \u001B[38;5;28;01mif\u001B[39;00m score \u001B[38;5;241m>\u001B[39m best_score:\n",
      "File \u001B[1;32m~\\.conda\\envs\\ML_Projectwork\\lib\\site-packages\\sklearn\\base.py:706\u001B[0m, in \u001B[0;36mClassifierMixin.score\u001B[1;34m(self, X, y, sample_weight)\u001B[0m\n\u001B[0;32m    681\u001B[0m \u001B[38;5;250m\u001B[39m\u001B[38;5;124;03m\"\"\"\u001B[39;00m\n\u001B[0;32m    682\u001B[0m \u001B[38;5;124;03mReturn the mean accuracy on the given test data and labels.\u001B[39;00m\n\u001B[0;32m    683\u001B[0m \n\u001B[1;32m   (...)\u001B[0m\n\u001B[0;32m    702\u001B[0m \u001B[38;5;124;03m    Mean accuracy of ``self.predict(X)`` w.r.t. `y`.\u001B[39;00m\n\u001B[0;32m    703\u001B[0m \u001B[38;5;124;03m\"\"\"\u001B[39;00m\n\u001B[0;32m    704\u001B[0m \u001B[38;5;28;01mfrom\u001B[39;00m \u001B[38;5;21;01m.\u001B[39;00m\u001B[38;5;21;01mmetrics\u001B[39;00m \u001B[38;5;28;01mimport\u001B[39;00m accuracy_score\n\u001B[1;32m--> 706\u001B[0m \u001B[38;5;28;01mreturn\u001B[39;00m accuracy_score(y, \u001B[38;5;28;43mself\u001B[39;49m\u001B[38;5;241;43m.\u001B[39;49m\u001B[43mpredict\u001B[49m\u001B[43m(\u001B[49m\u001B[43mX\u001B[49m\u001B[43m)\u001B[49m, sample_weight\u001B[38;5;241m=\u001B[39msample_weight)\n",
      "File \u001B[1;32m~\\.conda\\envs\\ML_Projectwork\\lib\\site-packages\\sklearn\\neighbors\\_classification.py:266\u001B[0m, in \u001B[0;36mKNeighborsClassifier.predict\u001B[1;34m(self, X)\u001B[0m\n\u001B[0;32m    263\u001B[0m         \u001B[38;5;28;01mreturn\u001B[39;00m \u001B[38;5;28mself\u001B[39m\u001B[38;5;241m.\u001B[39mclasses_[np\u001B[38;5;241m.\u001B[39margmax(probabilities, axis\u001B[38;5;241m=\u001B[39m\u001B[38;5;241m1\u001B[39m)]\n\u001B[0;32m    264\u001B[0m     \u001B[38;5;66;03m# In that case, we do not need the distances to perform\u001B[39;00m\n\u001B[0;32m    265\u001B[0m     \u001B[38;5;66;03m# the weighting so we do not compute them.\u001B[39;00m\n\u001B[1;32m--> 266\u001B[0m     neigh_ind \u001B[38;5;241m=\u001B[39m \u001B[38;5;28;43mself\u001B[39;49m\u001B[38;5;241;43m.\u001B[39;49m\u001B[43mkneighbors\u001B[49m\u001B[43m(\u001B[49m\u001B[43mX\u001B[49m\u001B[43m,\u001B[49m\u001B[43m \u001B[49m\u001B[43mreturn_distance\u001B[49m\u001B[38;5;241;43m=\u001B[39;49m\u001B[38;5;28;43;01mFalse\u001B[39;49;00m\u001B[43m)\u001B[49m\n\u001B[0;32m    267\u001B[0m     neigh_dist \u001B[38;5;241m=\u001B[39m \u001B[38;5;28;01mNone\u001B[39;00m\n\u001B[0;32m    268\u001B[0m \u001B[38;5;28;01melse\u001B[39;00m:\n",
      "File \u001B[1;32m~\\.conda\\envs\\ML_Projectwork\\lib\\site-packages\\sklearn\\neighbors\\_base.py:877\u001B[0m, in \u001B[0;36mKNeighborsMixin.kneighbors\u001B[1;34m(self, X, n_neighbors, return_distance)\u001B[0m\n\u001B[0;32m    871\u001B[0m     \u001B[38;5;28;01mif\u001B[39;00m issparse(X):\n\u001B[0;32m    872\u001B[0m         \u001B[38;5;28;01mraise\u001B[39;00m \u001B[38;5;167;01mValueError\u001B[39;00m(\n\u001B[0;32m    873\u001B[0m             \u001B[38;5;124m\"\u001B[39m\u001B[38;5;132;01m%s\u001B[39;00m\u001B[38;5;124m does not work with sparse matrices. Densify the data, \u001B[39m\u001B[38;5;124m\"\u001B[39m\n\u001B[0;32m    874\u001B[0m             \u001B[38;5;124m\"\u001B[39m\u001B[38;5;124mor set algorithm=\u001B[39m\u001B[38;5;124m'\u001B[39m\u001B[38;5;124mbrute\u001B[39m\u001B[38;5;124m'\u001B[39m\u001B[38;5;124m\"\u001B[39m\n\u001B[0;32m    875\u001B[0m             \u001B[38;5;241m%\u001B[39m \u001B[38;5;28mself\u001B[39m\u001B[38;5;241m.\u001B[39m_fit_method\n\u001B[0;32m    876\u001B[0m         )\n\u001B[1;32m--> 877\u001B[0m     chunked_results \u001B[38;5;241m=\u001B[39m \u001B[43mParallel\u001B[49m\u001B[43m(\u001B[49m\u001B[43mn_jobs\u001B[49m\u001B[43m,\u001B[49m\u001B[43m \u001B[49m\u001B[43mprefer\u001B[49m\u001B[38;5;241;43m=\u001B[39;49m\u001B[38;5;124;43m\"\u001B[39;49m\u001B[38;5;124;43mthreads\u001B[39;49m\u001B[38;5;124;43m\"\u001B[39;49m\u001B[43m)\u001B[49m\u001B[43m(\u001B[49m\n\u001B[0;32m    878\u001B[0m \u001B[43m        \u001B[49m\u001B[43mdelayed\u001B[49m\u001B[43m(\u001B[49m\u001B[43m_tree_query_parallel_helper\u001B[49m\u001B[43m)\u001B[49m\u001B[43m(\u001B[49m\n\u001B[0;32m    879\u001B[0m \u001B[43m            \u001B[49m\u001B[38;5;28;43mself\u001B[39;49m\u001B[38;5;241;43m.\u001B[39;49m\u001B[43m_tree\u001B[49m\u001B[43m,\u001B[49m\u001B[43m \u001B[49m\u001B[43mX\u001B[49m\u001B[43m[\u001B[49m\u001B[43ms\u001B[49m\u001B[43m]\u001B[49m\u001B[43m,\u001B[49m\u001B[43m \u001B[49m\u001B[43mn_neighbors\u001B[49m\u001B[43m,\u001B[49m\u001B[43m \u001B[49m\u001B[43mreturn_distance\u001B[49m\n\u001B[0;32m    880\u001B[0m \u001B[43m        \u001B[49m\u001B[43m)\u001B[49m\n\u001B[0;32m    881\u001B[0m \u001B[43m        \u001B[49m\u001B[38;5;28;43;01mfor\u001B[39;49;00m\u001B[43m \u001B[49m\u001B[43ms\u001B[49m\u001B[43m \u001B[49m\u001B[38;5;129;43;01min\u001B[39;49;00m\u001B[43m \u001B[49m\u001B[43mgen_even_slices\u001B[49m\u001B[43m(\u001B[49m\u001B[43mX\u001B[49m\u001B[38;5;241;43m.\u001B[39;49m\u001B[43mshape\u001B[49m\u001B[43m[\u001B[49m\u001B[38;5;241;43m0\u001B[39;49m\u001B[43m]\u001B[49m\u001B[43m,\u001B[49m\u001B[43m \u001B[49m\u001B[43mn_jobs\u001B[49m\u001B[43m)\u001B[49m\n\u001B[0;32m    882\u001B[0m \u001B[43m    \u001B[49m\u001B[43m)\u001B[49m\n\u001B[0;32m    883\u001B[0m \u001B[38;5;28;01melse\u001B[39;00m:\n\u001B[0;32m    884\u001B[0m     \u001B[38;5;28;01mraise\u001B[39;00m \u001B[38;5;167;01mValueError\u001B[39;00m(\u001B[38;5;124m\"\u001B[39m\u001B[38;5;124minternal: _fit_method not recognized\u001B[39m\u001B[38;5;124m\"\u001B[39m)\n",
      "File \u001B[1;32m~\\.conda\\envs\\ML_Projectwork\\lib\\site-packages\\sklearn\\utils\\parallel.py:65\u001B[0m, in \u001B[0;36mParallel.__call__\u001B[1;34m(self, iterable)\u001B[0m\n\u001B[0;32m     60\u001B[0m config \u001B[38;5;241m=\u001B[39m get_config()\n\u001B[0;32m     61\u001B[0m iterable_with_config \u001B[38;5;241m=\u001B[39m (\n\u001B[0;32m     62\u001B[0m     (_with_config(delayed_func, config), args, kwargs)\n\u001B[0;32m     63\u001B[0m     \u001B[38;5;28;01mfor\u001B[39;00m delayed_func, args, kwargs \u001B[38;5;129;01min\u001B[39;00m iterable\n\u001B[0;32m     64\u001B[0m )\n\u001B[1;32m---> 65\u001B[0m \u001B[38;5;28;01mreturn\u001B[39;00m \u001B[38;5;28;43msuper\u001B[39;49m\u001B[43m(\u001B[49m\u001B[43m)\u001B[49m\u001B[38;5;241;43m.\u001B[39;49m\u001B[38;5;21;43m__call__\u001B[39;49m\u001B[43m(\u001B[49m\u001B[43miterable_with_config\u001B[49m\u001B[43m)\u001B[49m\n",
      "File \u001B[1;32m~\\.conda\\envs\\ML_Projectwork\\lib\\site-packages\\joblib\\parallel.py:1918\u001B[0m, in \u001B[0;36mParallel.__call__\u001B[1;34m(self, iterable)\u001B[0m\n\u001B[0;32m   1916\u001B[0m     output \u001B[38;5;241m=\u001B[39m \u001B[38;5;28mself\u001B[39m\u001B[38;5;241m.\u001B[39m_get_sequential_output(iterable)\n\u001B[0;32m   1917\u001B[0m     \u001B[38;5;28mnext\u001B[39m(output)\n\u001B[1;32m-> 1918\u001B[0m     \u001B[38;5;28;01mreturn\u001B[39;00m output \u001B[38;5;28;01mif\u001B[39;00m \u001B[38;5;28mself\u001B[39m\u001B[38;5;241m.\u001B[39mreturn_generator \u001B[38;5;28;01melse\u001B[39;00m \u001B[38;5;28;43mlist\u001B[39;49m\u001B[43m(\u001B[49m\u001B[43moutput\u001B[49m\u001B[43m)\u001B[49m\n\u001B[0;32m   1920\u001B[0m \u001B[38;5;66;03m# Let's create an ID that uniquely identifies the current call. If the\u001B[39;00m\n\u001B[0;32m   1921\u001B[0m \u001B[38;5;66;03m# call is interrupted early and that the same instance is immediately\u001B[39;00m\n\u001B[0;32m   1922\u001B[0m \u001B[38;5;66;03m# re-used, this id will be used to prevent workers that were\u001B[39;00m\n\u001B[0;32m   1923\u001B[0m \u001B[38;5;66;03m# concurrently finalizing a task from the previous call to run the\u001B[39;00m\n\u001B[0;32m   1924\u001B[0m \u001B[38;5;66;03m# callback.\u001B[39;00m\n\u001B[0;32m   1925\u001B[0m \u001B[38;5;28;01mwith\u001B[39;00m \u001B[38;5;28mself\u001B[39m\u001B[38;5;241m.\u001B[39m_lock:\n",
      "File \u001B[1;32m~\\.conda\\envs\\ML_Projectwork\\lib\\site-packages\\joblib\\parallel.py:1847\u001B[0m, in \u001B[0;36mParallel._get_sequential_output\u001B[1;34m(self, iterable)\u001B[0m\n\u001B[0;32m   1845\u001B[0m \u001B[38;5;28mself\u001B[39m\u001B[38;5;241m.\u001B[39mn_dispatched_batches \u001B[38;5;241m+\u001B[39m\u001B[38;5;241m=\u001B[39m \u001B[38;5;241m1\u001B[39m\n\u001B[0;32m   1846\u001B[0m \u001B[38;5;28mself\u001B[39m\u001B[38;5;241m.\u001B[39mn_dispatched_tasks \u001B[38;5;241m+\u001B[39m\u001B[38;5;241m=\u001B[39m \u001B[38;5;241m1\u001B[39m\n\u001B[1;32m-> 1847\u001B[0m res \u001B[38;5;241m=\u001B[39m \u001B[43mfunc\u001B[49m\u001B[43m(\u001B[49m\u001B[38;5;241;43m*\u001B[39;49m\u001B[43margs\u001B[49m\u001B[43m,\u001B[49m\u001B[43m \u001B[49m\u001B[38;5;241;43m*\u001B[39;49m\u001B[38;5;241;43m*\u001B[39;49m\u001B[43mkwargs\u001B[49m\u001B[43m)\u001B[49m\n\u001B[0;32m   1848\u001B[0m \u001B[38;5;28mself\u001B[39m\u001B[38;5;241m.\u001B[39mn_completed_tasks \u001B[38;5;241m+\u001B[39m\u001B[38;5;241m=\u001B[39m \u001B[38;5;241m1\u001B[39m\n\u001B[0;32m   1849\u001B[0m \u001B[38;5;28mself\u001B[39m\u001B[38;5;241m.\u001B[39mprint_progress()\n",
      "File \u001B[1;32m~\\.conda\\envs\\ML_Projectwork\\lib\\site-packages\\sklearn\\utils\\parallel.py:127\u001B[0m, in \u001B[0;36m_FuncWrapper.__call__\u001B[1;34m(self, *args, **kwargs)\u001B[0m\n\u001B[0;32m    125\u001B[0m     config \u001B[38;5;241m=\u001B[39m {}\n\u001B[0;32m    126\u001B[0m \u001B[38;5;28;01mwith\u001B[39;00m config_context(\u001B[38;5;241m*\u001B[39m\u001B[38;5;241m*\u001B[39mconfig):\n\u001B[1;32m--> 127\u001B[0m     \u001B[38;5;28;01mreturn\u001B[39;00m \u001B[38;5;28;43mself\u001B[39;49m\u001B[38;5;241;43m.\u001B[39;49m\u001B[43mfunction\u001B[49m\u001B[43m(\u001B[49m\u001B[38;5;241;43m*\u001B[39;49m\u001B[43margs\u001B[49m\u001B[43m,\u001B[49m\u001B[43m \u001B[49m\u001B[38;5;241;43m*\u001B[39;49m\u001B[38;5;241;43m*\u001B[39;49m\u001B[43mkwargs\u001B[49m\u001B[43m)\u001B[49m\n",
      "File \u001B[1;32m~\\.conda\\envs\\ML_Projectwork\\lib\\site-packages\\sklearn\\neighbors\\_base.py:683\u001B[0m, in \u001B[0;36m_tree_query_parallel_helper\u001B[1;34m(tree, *args, **kwargs)\u001B[0m\n\u001B[0;32m    677\u001B[0m \u001B[38;5;28;01mdef\u001B[39;00m \u001B[38;5;21m_tree_query_parallel_helper\u001B[39m(tree, \u001B[38;5;241m*\u001B[39margs, \u001B[38;5;241m*\u001B[39m\u001B[38;5;241m*\u001B[39mkwargs):\n\u001B[0;32m    678\u001B[0m \u001B[38;5;250m    \u001B[39m\u001B[38;5;124;03m\"\"\"Helper for the Parallel calls in KNeighborsMixin.kneighbors.\u001B[39;00m\n\u001B[0;32m    679\u001B[0m \n\u001B[0;32m    680\u001B[0m \u001B[38;5;124;03m    The Cython method tree.query is not directly picklable by cloudpickle\u001B[39;00m\n\u001B[0;32m    681\u001B[0m \u001B[38;5;124;03m    under PyPy.\u001B[39;00m\n\u001B[0;32m    682\u001B[0m \u001B[38;5;124;03m    \"\"\"\u001B[39;00m\n\u001B[1;32m--> 683\u001B[0m     \u001B[38;5;28;01mreturn\u001B[39;00m \u001B[43mtree\u001B[49m\u001B[38;5;241;43m.\u001B[39;49m\u001B[43mquery\u001B[49m\u001B[43m(\u001B[49m\u001B[38;5;241;43m*\u001B[39;49m\u001B[43margs\u001B[49m\u001B[43m,\u001B[49m\u001B[43m \u001B[49m\u001B[38;5;241;43m*\u001B[39;49m\u001B[38;5;241;43m*\u001B[39;49m\u001B[43mkwargs\u001B[49m\u001B[43m)\u001B[49m\n",
      "\u001B[1;31mKeyboardInterrupt\u001B[0m: "
     ]
    }
   ],
   "source": [
    "from sklearn.neighbors import KNeighborsClassifier\n",
    "\n",
    "knn = KNeighborsClassifier()\n",
    "\n",
    "best_K_value = 0\n",
    "best_score=0\n",
    "for i in range(1,20):\n",
    "    knn = KNeighborsClassifier(n_neighbors=i)\n",
    "    knn.fit(X_train_scaled, y_train)\n",
    "\n",
    "    score = knn.score(X_test_scaled, y_test)\n",
    "    print(f\"{i}. iteration accuracy: {round(score*100, 2)}%\")\n",
    "\n",
    "    if score > best_score:\n",
    "        best_score = score\n",
    "        best_K_value = i\n",
    "\n",
    "print(f'\\nDefault parameters: {knn.get_params()}')\n",
    "print(f\"\\nBest KNN Value: {best_K_value}\")\n",
    "print(f\"Accuracy: {round(best_score * 100, 2)}%\")"
   ],
   "metadata": {
    "collapsed": false,
    "ExecuteTime": {
     "end_time": "2024-05-14T16:49:51.387339Z",
     "start_time": "2024-05-14T16:49:08.831336Z"
    }
   },
   "execution_count": 22
  },
  {
   "cell_type": "code",
   "outputs": [
    {
     "name": "stdout",
     "output_type": "stream",
     "text": [
      "KNN Best Parameters (GridSearchCV): {'metric': 'manhattan', 'n_neighbors': 19, 'weights': 'distance'}\n",
      "KNN Best Score: 85.49\n"
     ]
    }
   ],
   "source": [
    "knn_param_grid = {\n",
    "    'n_neighbors': [3, 5, 7, 8, 10, 15, 17, 19, 21, 23, 24, 25, 26, 27, 28, 29],\n",
    "    'weights': ['uniform', 'distance'],\n",
    "    'metric': ['euclidean', 'manhattan', 'chebyshev']\n",
    "}\n",
    "\n",
    "svm_grid_search = GridSearchCV(knn, param_grid=knn_param_grid, cv=5, n_jobs=-1)\n",
    "svm_grid_search.fit(X_train_scaled, y_train)\n",
    "\n",
    "print(\"KNN Best Parameters (GridSearchCV):\", svm_grid_search.best_params_)\n",
    "\n",
    "svm_cv_score = svm_grid_search.best_score_\n",
    "print(f\"KNN Best Score: {round(svm_cv_score * 100, 2)}\")"
   ],
   "metadata": {
    "collapsed": false,
    "ExecuteTime": {
     "end_time": "2024-05-14T15:57:23.689573Z",
     "start_time": "2024-05-14T15:57:20.100574Z"
    }
   },
   "execution_count": 35
  },
  {
   "cell_type": "markdown",
   "source": [
    "### Naive Bayes"
   ],
   "metadata": {
    "collapsed": false
   }
  },
  {
   "cell_type": "code",
   "outputs": [
    {
     "name": "stdout",
     "output_type": "stream",
     "text": [
      "Default parameters: {'priors': None, 'var_smoothing': 5.336699231206313e-06}\n",
      "Accuracy: 99.0 %\n"
     ]
    }
   ],
   "source": [
    "from sklearn.naive_bayes import GaussianNB\n",
    "\n",
    "nb = GaussianNB(var_smoothing=5.336699231206313e-06)\n",
    "\n",
    "nb.fit(X_train_scaled, y_train)\n",
    "print(f'Default parameters: {nb.get_params()}')\n",
    "print(f'Accuracy: {round(nb.score(X_test_scaled, y_test),2)*100} %')\n",
    "\n",
    "# Sampled 2145:\n",
    "# Accuracy: 84.0 %\n",
    "# Full:\n",
    "# 99.0%"
   ],
   "metadata": {
    "collapsed": false,
    "ExecuteTime": {
     "end_time": "2024-05-14T16:51:33.429123Z",
     "start_time": "2024-05-14T16:51:33.260964Z"
    }
   },
   "execution_count": 24
  },
  {
   "cell_type": "code",
   "outputs": [
    {
     "name": "stdout",
     "output_type": "stream",
     "text": [
      "Naive Bayes Best Parameters (GridSearchCV): {'var_smoothing': 5.336699231206313e-06}\n",
      "Naive Bayes Best Score: 84.41\n"
     ]
    }
   ],
   "source": [
    "nb_param_grid = {\n",
    "    'var_smoothing': np.logspace(0, -9, num=100)\n",
    "}\n",
    "\n",
    "nb_grid_search = GridSearchCV(nb, param_grid=nb_param_grid, cv=s_kfold, n_jobs=-1)\n",
    "nb_grid_search.fit(X_train_scaled, y_train)\n",
    "print(\"Naive Bayes Best Parameters (GridSearchCV):\", nb_grid_search.best_params_)\n",
    "\n",
    "nb_cv_score = nb_grid_search.best_score_\n",
    "print(f\"Naive Bayes Best Score: {round(nb_cv_score * 100, 2)}\")"
   ],
   "metadata": {
    "collapsed": false,
    "ExecuteTime": {
     "end_time": "2024-05-13T19:58:52.204952Z",
     "start_time": "2024-05-13T19:58:48.118183Z"
    }
   },
   "execution_count": 74
  }
 ],
 "metadata": {
  "kernelspec": {
   "display_name": "Python 3",
   "language": "python",
   "name": "python3"
  },
  "language_info": {
   "codemirror_mode": {
    "name": "ipython",
    "version": 3
   },
   "file_extension": ".py",
   "mimetype": "text/x-python",
   "name": "python",
   "nbconvert_exporter": "python",
   "pygments_lexer": "ipython3",
   "version": "3.12.1"
  }
 },
 "nbformat": 4,
 "nbformat_minor": 2
}
