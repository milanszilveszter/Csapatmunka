{
 "cells": [
  {
   "cell_type": "markdown",
   "source": [
    "### 1. Importing packages"
   ],
   "metadata": {
    "collapsed": false
   }
  },
  {
   "cell_type": "code",
   "execution_count": 2,
   "metadata": {
    "collapsed": false,
    "ExecuteTime": {
     "end_time": "2024-05-13T14:38:42.679951Z",
     "start_time": "2024-05-13T14:38:42.664951Z"
    }
   },
   "outputs": [],
   "source": [
    "import pandas as pd\n",
    "import numpy as np"
   ]
  },
  {
   "cell_type": "markdown",
   "source": [
    "### Reading data from CSV"
   ],
   "metadata": {
    "collapsed": false
   }
  },
  {
   "cell_type": "code",
   "outputs": [],
   "source": [
    "df1 = pd.read_csv('fraud1.csv')\n",
    "df2 = pd.read_csv('fraud2.csv')\n",
    "\n",
    "df = pd.concat([df1, df2], axis=0)"
   ],
   "metadata": {
    "collapsed": false,
    "ExecuteTime": {
     "end_time": "2024-05-13T14:40:17.693561Z",
     "start_time": "2024-05-13T14:40:15.290626Z"
    }
   },
   "execution_count": 3
  },
  {
   "cell_type": "markdown",
   "source": [
    "### 3. Explanitory data analysis"
   ],
   "metadata": {
    "collapsed": false
   }
  },
  {
   "cell_type": "code",
   "outputs": [
    {
     "data": {
      "text/plain": "   Unnamed: 0 trans_date_trans_time        cc_num  \\\n0      303314      13/10/2020 15:20  4.040100e+18   \n1      303315      13/10/2020 15:20  6.759460e+11   \n2      303316      13/10/2020 15:21  3.590740e+15   \n3      303317      13/10/2020 15:21  3.560730e+15   \n4      303318      13/10/2020 15:22  3.598220e+15   \n5      303319      13/10/2020 15:22  4.783230e+12   \n6      303320      13/10/2020 15:23  2.254800e+15   \n7      303321      13/10/2020 15:24  3.599240e+15   \n8      303322      13/10/2020 15:24  3.725090e+14   \n9      303323      13/10/2020 15:24  4.839620e+15   \n\n                         merchant        category     amt     first  \\\n0  fraud_O'Reilly, Mohr and Purdy            home   73.87   Jeffrey   \n1                fraud_Little Ltd       kids_pets   33.58     Ellen   \n2  fraud_Witting, Beer and Ernser            home   81.54  Kimberly   \n3              fraud_Botsford PLC            home    2.11    Brooke   \n4                fraud_Feil-Morar  health_fitness  108.87    Ashley   \n5         fraud_Botsford and Sons            home   49.18   Jessica   \n6         fraud_Gaylord-Powlowski            home   23.57   Barbara   \n7    fraud_Runte, Green and Emard  health_fitness   17.54   Jessica   \n8             fraud_Daugherty LLC       kids_pets   21.47   Kristen   \n9   fraud_Weber, Thiel and Hammes       kids_pets   13.08   Phillip   \n\n        last gender                         street  ...      lat      long  \\\n0      Lewis      M             24255 Bryan Square  ...  48.3396 -102.2400   \n1      Smith      F                285 George Lake  ...  40.7687  -80.3592   \n2   Gonzalez      F    72966 Shannon Pass Apt. 391  ...  34.5091  -92.4828   \n3      Smith      F      63542 Luna Brook Apt. 012  ...  31.8599 -102.7413   \n4      Lopez      F           9333 Valentine Point  ...  40.6729  -73.5365   \n5     Garcia      F         13108 Jennifer Passage  ...  38.5957  -99.5540   \n6     Nelson      F  7337 Browning Falls Suite 027  ...  30.9460  -83.2474   \n7      Smith      F             06808 Ryan Valleys  ...  36.8421  -85.5396   \n8     Hanson      F              26544 Andrea Glen  ...  42.9147  -83.4845   \n9  Robertson      M   85344 Smith Gateway Apt. 280  ...  39.0130  -86.5457   \n\n   city_pop                        job         dob  \\\n0       229              Administrator  20/03/1983   \n1     28425                 Podiatrist  09/06/2000   \n2      4074    Scientist, audiological  20/12/1975   \n3        23             Cytogeneticist  15/09/1969   \n4     34496          Librarian, public  21/10/1970   \n5       320          Film/video editor  22/04/1961   \n6     94325   Educational psychologist  08/09/1987   \n7       341    Insurance risk surveyor  19/11/1932   \n8      6951  Learning disability nurse  18/06/1985   \n9        76          Social researcher  06/05/1955   \n\n                          trans_num   unix_time  merch_lat  merch_long  \\\n0  9a8814bcec9b307013104e228d5db947  1381677631  48.255785 -101.922094   \n1  079f264af629e4b9a0182a76cc6b15e4  1381677638  41.518135  -80.197989   \n2  cdb416d7083cce6f33a73d9762a40565  1381677681  35.131969  -93.427484   \n3  5805fe539d3c922eabd6154f2c6ecc13  1381677692  32.478239 -103.531981   \n4  1ef42a2020fb9c04150276c11e54c11c  1381677731  41.611123  -73.144977   \n5  5748ce2b36bd110fa64b9f00d37d8582  1381677761  38.859725  -99.899165   \n6  afd29eea2911771eb4b02936bdd420d8  1381677783  31.687506  -83.318579   \n7  c4ba006087c0d1344e1bb50a22ca544f  1381677857  37.262278  -85.324015   \n8  5ef1b9a42d8f43283b719ec011a760e4  1381677861  43.798307  -83.859396   \n9  90e4d80eaac22700fbad7f31c6896d26  1381677873  38.537302  -86.666665   \n\n   is_fraud  \n0         0  \n1         0  \n2         0  \n3         0  \n4         0  \n5         0  \n6         0  \n7         0  \n8         0  \n9         0  \n\n[10 rows x 23 columns]",
      "text/html": "<div>\n<style scoped>\n    .dataframe tbody tr th:only-of-type {\n        vertical-align: middle;\n    }\n\n    .dataframe tbody tr th {\n        vertical-align: top;\n    }\n\n    .dataframe thead th {\n        text-align: right;\n    }\n</style>\n<table border=\"1\" class=\"dataframe\">\n  <thead>\n    <tr style=\"text-align: right;\">\n      <th></th>\n      <th>Unnamed: 0</th>\n      <th>trans_date_trans_time</th>\n      <th>cc_num</th>\n      <th>merchant</th>\n      <th>category</th>\n      <th>amt</th>\n      <th>first</th>\n      <th>last</th>\n      <th>gender</th>\n      <th>street</th>\n      <th>...</th>\n      <th>lat</th>\n      <th>long</th>\n      <th>city_pop</th>\n      <th>job</th>\n      <th>dob</th>\n      <th>trans_num</th>\n      <th>unix_time</th>\n      <th>merch_lat</th>\n      <th>merch_long</th>\n      <th>is_fraud</th>\n    </tr>\n  </thead>\n  <tbody>\n    <tr>\n      <th>0</th>\n      <td>303314</td>\n      <td>13/10/2020 15:20</td>\n      <td>4.040100e+18</td>\n      <td>fraud_O'Reilly, Mohr and Purdy</td>\n      <td>home</td>\n      <td>73.87</td>\n      <td>Jeffrey</td>\n      <td>Lewis</td>\n      <td>M</td>\n      <td>24255 Bryan Square</td>\n      <td>...</td>\n      <td>48.3396</td>\n      <td>-102.2400</td>\n      <td>229</td>\n      <td>Administrator</td>\n      <td>20/03/1983</td>\n      <td>9a8814bcec9b307013104e228d5db947</td>\n      <td>1381677631</td>\n      <td>48.255785</td>\n      <td>-101.922094</td>\n      <td>0</td>\n    </tr>\n    <tr>\n      <th>1</th>\n      <td>303315</td>\n      <td>13/10/2020 15:20</td>\n      <td>6.759460e+11</td>\n      <td>fraud_Little Ltd</td>\n      <td>kids_pets</td>\n      <td>33.58</td>\n      <td>Ellen</td>\n      <td>Smith</td>\n      <td>F</td>\n      <td>285 George Lake</td>\n      <td>...</td>\n      <td>40.7687</td>\n      <td>-80.3592</td>\n      <td>28425</td>\n      <td>Podiatrist</td>\n      <td>09/06/2000</td>\n      <td>079f264af629e4b9a0182a76cc6b15e4</td>\n      <td>1381677638</td>\n      <td>41.518135</td>\n      <td>-80.197989</td>\n      <td>0</td>\n    </tr>\n    <tr>\n      <th>2</th>\n      <td>303316</td>\n      <td>13/10/2020 15:21</td>\n      <td>3.590740e+15</td>\n      <td>fraud_Witting, Beer and Ernser</td>\n      <td>home</td>\n      <td>81.54</td>\n      <td>Kimberly</td>\n      <td>Gonzalez</td>\n      <td>F</td>\n      <td>72966 Shannon Pass Apt. 391</td>\n      <td>...</td>\n      <td>34.5091</td>\n      <td>-92.4828</td>\n      <td>4074</td>\n      <td>Scientist, audiological</td>\n      <td>20/12/1975</td>\n      <td>cdb416d7083cce6f33a73d9762a40565</td>\n      <td>1381677681</td>\n      <td>35.131969</td>\n      <td>-93.427484</td>\n      <td>0</td>\n    </tr>\n    <tr>\n      <th>3</th>\n      <td>303317</td>\n      <td>13/10/2020 15:21</td>\n      <td>3.560730e+15</td>\n      <td>fraud_Botsford PLC</td>\n      <td>home</td>\n      <td>2.11</td>\n      <td>Brooke</td>\n      <td>Smith</td>\n      <td>F</td>\n      <td>63542 Luna Brook Apt. 012</td>\n      <td>...</td>\n      <td>31.8599</td>\n      <td>-102.7413</td>\n      <td>23</td>\n      <td>Cytogeneticist</td>\n      <td>15/09/1969</td>\n      <td>5805fe539d3c922eabd6154f2c6ecc13</td>\n      <td>1381677692</td>\n      <td>32.478239</td>\n      <td>-103.531981</td>\n      <td>0</td>\n    </tr>\n    <tr>\n      <th>4</th>\n      <td>303318</td>\n      <td>13/10/2020 15:22</td>\n      <td>3.598220e+15</td>\n      <td>fraud_Feil-Morar</td>\n      <td>health_fitness</td>\n      <td>108.87</td>\n      <td>Ashley</td>\n      <td>Lopez</td>\n      <td>F</td>\n      <td>9333 Valentine Point</td>\n      <td>...</td>\n      <td>40.6729</td>\n      <td>-73.5365</td>\n      <td>34496</td>\n      <td>Librarian, public</td>\n      <td>21/10/1970</td>\n      <td>1ef42a2020fb9c04150276c11e54c11c</td>\n      <td>1381677731</td>\n      <td>41.611123</td>\n      <td>-73.144977</td>\n      <td>0</td>\n    </tr>\n    <tr>\n      <th>5</th>\n      <td>303319</td>\n      <td>13/10/2020 15:22</td>\n      <td>4.783230e+12</td>\n      <td>fraud_Botsford and Sons</td>\n      <td>home</td>\n      <td>49.18</td>\n      <td>Jessica</td>\n      <td>Garcia</td>\n      <td>F</td>\n      <td>13108 Jennifer Passage</td>\n      <td>...</td>\n      <td>38.5957</td>\n      <td>-99.5540</td>\n      <td>320</td>\n      <td>Film/video editor</td>\n      <td>22/04/1961</td>\n      <td>5748ce2b36bd110fa64b9f00d37d8582</td>\n      <td>1381677761</td>\n      <td>38.859725</td>\n      <td>-99.899165</td>\n      <td>0</td>\n    </tr>\n    <tr>\n      <th>6</th>\n      <td>303320</td>\n      <td>13/10/2020 15:23</td>\n      <td>2.254800e+15</td>\n      <td>fraud_Gaylord-Powlowski</td>\n      <td>home</td>\n      <td>23.57</td>\n      <td>Barbara</td>\n      <td>Nelson</td>\n      <td>F</td>\n      <td>7337 Browning Falls Suite 027</td>\n      <td>...</td>\n      <td>30.9460</td>\n      <td>-83.2474</td>\n      <td>94325</td>\n      <td>Educational psychologist</td>\n      <td>08/09/1987</td>\n      <td>afd29eea2911771eb4b02936bdd420d8</td>\n      <td>1381677783</td>\n      <td>31.687506</td>\n      <td>-83.318579</td>\n      <td>0</td>\n    </tr>\n    <tr>\n      <th>7</th>\n      <td>303321</td>\n      <td>13/10/2020 15:24</td>\n      <td>3.599240e+15</td>\n      <td>fraud_Runte, Green and Emard</td>\n      <td>health_fitness</td>\n      <td>17.54</td>\n      <td>Jessica</td>\n      <td>Smith</td>\n      <td>F</td>\n      <td>06808 Ryan Valleys</td>\n      <td>...</td>\n      <td>36.8421</td>\n      <td>-85.5396</td>\n      <td>341</td>\n      <td>Insurance risk surveyor</td>\n      <td>19/11/1932</td>\n      <td>c4ba006087c0d1344e1bb50a22ca544f</td>\n      <td>1381677857</td>\n      <td>37.262278</td>\n      <td>-85.324015</td>\n      <td>0</td>\n    </tr>\n    <tr>\n      <th>8</th>\n      <td>303322</td>\n      <td>13/10/2020 15:24</td>\n      <td>3.725090e+14</td>\n      <td>fraud_Daugherty LLC</td>\n      <td>kids_pets</td>\n      <td>21.47</td>\n      <td>Kristen</td>\n      <td>Hanson</td>\n      <td>F</td>\n      <td>26544 Andrea Glen</td>\n      <td>...</td>\n      <td>42.9147</td>\n      <td>-83.4845</td>\n      <td>6951</td>\n      <td>Learning disability nurse</td>\n      <td>18/06/1985</td>\n      <td>5ef1b9a42d8f43283b719ec011a760e4</td>\n      <td>1381677861</td>\n      <td>43.798307</td>\n      <td>-83.859396</td>\n      <td>0</td>\n    </tr>\n    <tr>\n      <th>9</th>\n      <td>303323</td>\n      <td>13/10/2020 15:24</td>\n      <td>4.839620e+15</td>\n      <td>fraud_Weber, Thiel and Hammes</td>\n      <td>kids_pets</td>\n      <td>13.08</td>\n      <td>Phillip</td>\n      <td>Robertson</td>\n      <td>M</td>\n      <td>85344 Smith Gateway Apt. 280</td>\n      <td>...</td>\n      <td>39.0130</td>\n      <td>-86.5457</td>\n      <td>76</td>\n      <td>Social researcher</td>\n      <td>06/05/1955</td>\n      <td>90e4d80eaac22700fbad7f31c6896d26</td>\n      <td>1381677873</td>\n      <td>38.537302</td>\n      <td>-86.666665</td>\n      <td>0</td>\n    </tr>\n  </tbody>\n</table>\n<p>10 rows × 23 columns</p>\n</div>"
     },
     "execution_count": 4,
     "metadata": {},
     "output_type": "execute_result"
    }
   ],
   "source": [
    "df.head(10)"
   ],
   "metadata": {
    "collapsed": false,
    "ExecuteTime": {
     "end_time": "2024-05-13T14:40:21.562820Z",
     "start_time": "2024-05-13T14:40:21.518821Z"
    }
   },
   "execution_count": 4
  },
  {
   "cell_type": "code",
   "outputs": [],
   "source": [
    "df = df.drop('Unnamed: 0', axis=1)"
   ],
   "metadata": {
    "collapsed": false,
    "ExecuteTime": {
     "end_time": "2024-05-13T14:41:04.965464Z",
     "start_time": "2024-05-13T14:41:04.883464Z"
    }
   },
   "execution_count": 6
  },
  {
   "cell_type": "code",
   "outputs": [
    {
     "data": {
      "text/plain": "trans_date_trans_time    0\ncc_num                   0\nmerchant                 0\ncategory                 0\namt                      0\nfirst                    0\nlast                     0\ngender                   0\nstreet                   0\ncity                     0\nstate                    0\nzip                      0\nlat                      0\nlong                     0\ncity_pop                 0\njob                      0\ndob                      0\ntrans_num                0\nunix_time                0\nmerch_lat                0\nmerch_long               0\nis_fraud                 0\ndtype: int64"
     },
     "execution_count": 7,
     "metadata": {},
     "output_type": "execute_result"
    }
   ],
   "source": [
    "df.isna().sum()"
   ],
   "metadata": {
    "collapsed": false,
    "ExecuteTime": {
     "end_time": "2024-05-13T14:41:10.029219Z",
     "start_time": "2024-05-13T14:41:09.837190Z"
    }
   },
   "execution_count": 7
  },
  {
   "cell_type": "code",
   "outputs": [
    {
     "data": {
      "text/plain": "trans_date_trans_time    0\ncc_num                   0\nmerchant                 0\ncategory                 0\namt                      0\nfirst                    0\nlast                     0\ngender                   0\nstreet                   0\ncity                     0\nstate                    0\nzip                      0\nlat                      0\nlong                     0\ncity_pop                 0\njob                      0\ndob                      0\ntrans_num                0\nunix_time                0\nmerch_lat                0\nmerch_long               0\nis_fraud                 0\ndtype: int64"
     },
     "execution_count": 8,
     "metadata": {},
     "output_type": "execute_result"
    }
   ],
   "source": [
    "df.isnull().sum()"
   ],
   "metadata": {
    "collapsed": false,
    "ExecuteTime": {
     "end_time": "2024-05-13T14:41:19.129660Z",
     "start_time": "2024-05-13T14:41:18.934660Z"
    }
   },
   "execution_count": 8
  },
  {
   "cell_type": "code",
   "outputs": [
    {
     "name": "stdout",
     "output_type": "stream",
     "text": [
      "<class 'pandas.core.frame.DataFrame'>\n",
      "Index: 555719 entries, 0 to 303313\n",
      "Data columns (total 22 columns):\n",
      " #   Column                 Non-Null Count   Dtype  \n",
      "---  ------                 --------------   -----  \n",
      " 0   trans_date_trans_time  555719 non-null  object \n",
      " 1   cc_num                 555719 non-null  float64\n",
      " 2   merchant               555719 non-null  object \n",
      " 3   category               555719 non-null  object \n",
      " 4   amt                    555719 non-null  float64\n",
      " 5   first                  555719 non-null  object \n",
      " 6   last                   555719 non-null  object \n",
      " 7   gender                 555719 non-null  object \n",
      " 8   street                 555719 non-null  object \n",
      " 9   city                   555719 non-null  object \n",
      " 10  state                  555719 non-null  object \n",
      " 11  zip                    555719 non-null  int64  \n",
      " 12  lat                    555719 non-null  float64\n",
      " 13  long                   555719 non-null  float64\n",
      " 14  city_pop               555719 non-null  int64  \n",
      " 15  job                    555719 non-null  object \n",
      " 16  dob                    555719 non-null  object \n",
      " 17  trans_num              555719 non-null  object \n",
      " 18  unix_time              555719 non-null  int64  \n",
      " 19  merch_lat              555719 non-null  float64\n",
      " 20  merch_long             555719 non-null  float64\n",
      " 21  is_fraud               555719 non-null  int64  \n",
      "dtypes: float64(6), int64(4), object(12)\n",
      "memory usage: 97.5+ MB\n"
     ]
    }
   ],
   "source": [
    "df.info()"
   ],
   "metadata": {
    "collapsed": false,
    "ExecuteTime": {
     "end_time": "2024-05-13T14:41:26.056527Z",
     "start_time": "2024-05-13T14:41:25.845978Z"
    }
   },
   "execution_count": 9
  },
  {
   "cell_type": "code",
   "outputs": [
    {
     "data": {
      "text/plain": "is_fraud\n0    553574\n1      2145\nName: count, dtype: int64"
     },
     "execution_count": 10,
     "metadata": {},
     "output_type": "execute_result"
    }
   ],
   "source": [
    "df['is_fraud'].value_counts()"
   ],
   "metadata": {
    "collapsed": false,
    "ExecuteTime": {
     "end_time": "2024-05-13T14:41:46.348155Z",
     "start_time": "2024-05-13T14:41:46.323151Z"
    }
   },
   "execution_count": 10
  },
  {
   "cell_type": "code",
   "outputs": [],
   "source": [
    "legit = df[df.is_fraud == 0]\n",
    "fraud = df[df.is_fraud == 1]"
   ],
   "metadata": {
    "collapsed": false,
    "ExecuteTime": {
     "end_time": "2024-05-13T15:03:27.279268Z",
     "start_time": "2024-05-13T15:03:27.146658Z"
    }
   },
   "execution_count": 20
  },
  {
   "cell_type": "code",
   "outputs": [],
   "source": [
    "legit_sample = legit.sample(n=2145)"
   ],
   "metadata": {
    "collapsed": false,
    "ExecuteTime": {
     "end_time": "2024-05-13T15:03:27.912260Z",
     "start_time": "2024-05-13T15:03:27.883258Z"
    }
   },
   "execution_count": 21
  },
  {
   "cell_type": "code",
   "outputs": [
    {
     "data": {
      "text/plain": "       trans_date_trans_time        cc_num                       merchant  \\\n54045       06/11/2020 22:14  3.024890e+13          fraud_Leffler-Goldner   \n184963      16/12/2020 20:00  2.512310e+15              fraud_Bode-Rempel   \n139741      09/08/2020 12:56  2.288810e+15  fraud_Weber, Thiel and Hammes   \n6173        16/10/2020 20:45  4.900630e+12             fraud_Schaefer Ltd   \n62953       10/11/2020 07:20  3.040430e+13          fraud_VonRueden Group   \n...                      ...           ...                            ...   \n301402      12/10/2020 22:41  5.456710e+15          fraud_Kirlin and Sons   \n301528      12/10/2020 23:28  3.853050e+13           fraud_Torphy-Goyette   \n301600      12/10/2020 23:57  3.853050e+13            fraud_Romaguera Ltd   \n301866      13/10/2020 02:57  4.129770e+15             fraud_Bednar Group   \n301881      13/10/2020 03:07  4.129770e+15            fraud_Flatley Group   \n\n              category      amt     first       last gender  \\\n54045    personal_care     7.62   Michael  Rodriguez      M   \n184963       kids_pets    71.57      John  Mccormick      M   \n139741       kids_pets    59.39   Barbara     Norman      F   \n6173         kids_pets   110.21   Michael    Johnson      M   \n62953      grocery_net    38.00  Savannah      Lewis      F   \n...                ...      ...       ...        ...    ...   \n301402   personal_care    51.86    Pamela   Matthews      F   \n301528    shopping_pos  1030.78     Laura      Johns      F   \n301600  health_fitness    19.11     Laura      Johns      F   \n301866        misc_net   898.83    Cheryl    Ballard      F   \n301881        misc_pos   751.63    Cheryl    Ballard      F   \n\n                             street             city  ...      lat      long  \\\n54045      172 Paula Inlet Apt. 650     Cross Plains  ...  32.1482  -99.1872   \n184963  79414 Clark Lakes Suite 966           Warren  ...  42.5164  -82.9832   \n139741        6278 Stephanie Unions    New York City  ...  40.8265  -73.9383   \n6173            094 Owens Underpass          Norwalk  ...  33.9056 -118.0818   \n62953            537 Walker Freeway  North Tonawanda  ...  43.0498  -78.8510   \n...                             ...              ...  ...      ...       ...   \n301402    36659 Smith Club Apt. 080            Llano  ...  36.1486 -105.6648   \n301528             95835 Garcia Rue          Arcadia  ...  34.9572  -81.9916   \n301600             95835 Garcia Rue          Arcadia  ...  34.9572  -81.9916   \n301866   248 James Squares Apt. 838          Halstad  ...  47.3551  -96.7980   \n301881   248 James Squares Apt. 838          Halstad  ...  47.3551  -96.7980   \n\n        city_pop                         job         dob  \\\n54045       1897     Chief Operating Officer  19/04/1953   \n184963    134056             Producer, radio  08/10/1956   \n139741   1577385                   Herbalist  29/08/1981   \n6173      105549                 Firefighter  22/09/1973   \n62953      45100            Ambulance person  25/10/1993   \n...          ...                         ...         ...   \n301402       247  Architectural technologist  24/10/1961   \n301528       530         Animal technologist  14/05/1989   \n301600       530         Animal technologist  14/05/1989   \n301866       771     Scientist, audiological  14/06/1972   \n301881       771     Scientist, audiological  14/06/1972   \n\n                               trans_num   unix_time  merch_lat  merch_long  \\\n54045   026548f16f750d9036d901eab1e9b0f1  1383776084  31.910447  -99.266128   \n184963  16c24980cc96dcc78736f2154b0ee466  1387224059  42.539658  -83.027475   \n139741  378c8d3aeba8654dcd850582352bc3dc  1376053015  41.727911  -74.250244   \n6173    64b8707a805a803e46c8f3ad5ddde732  1381956308  33.381859 -117.883768   \n62953   2b0f1e140070d65faf0dd1f9141e4f56  1384068013  42.176651  -78.544658   \n...                                  ...         ...        ...         ...   \n301402  1189ac7889edcffbdaf1da0f44056d73  1381617712  35.672329 -106.219095   \n301528  1faa1c90ecf2f5419c4f838fc420139d  1381620495  34.730612  -82.966095   \n301600  3c0c836563618c8a40857d8d714cabd3  1381622278  35.052178  -81.245327   \n301866  2bf5044c1b44ba912cd3700755b4eac2  1381633026  48.192149  -96.998591   \n301881  69fd58dc601de4598d514848395463b9  1381633626  46.961592  -97.504919   \n\n        is_fraud  \n54045          0  \n184963         0  \n139741         0  \n6173           0  \n62953          0  \n...          ...  \n301402         1  \n301528         1  \n301600         1  \n301866         1  \n301881         1  \n\n[4290 rows x 22 columns]",
      "text/html": "<div>\n<style scoped>\n    .dataframe tbody tr th:only-of-type {\n        vertical-align: middle;\n    }\n\n    .dataframe tbody tr th {\n        vertical-align: top;\n    }\n\n    .dataframe thead th {\n        text-align: right;\n    }\n</style>\n<table border=\"1\" class=\"dataframe\">\n  <thead>\n    <tr style=\"text-align: right;\">\n      <th></th>\n      <th>trans_date_trans_time</th>\n      <th>cc_num</th>\n      <th>merchant</th>\n      <th>category</th>\n      <th>amt</th>\n      <th>first</th>\n      <th>last</th>\n      <th>gender</th>\n      <th>street</th>\n      <th>city</th>\n      <th>...</th>\n      <th>lat</th>\n      <th>long</th>\n      <th>city_pop</th>\n      <th>job</th>\n      <th>dob</th>\n      <th>trans_num</th>\n      <th>unix_time</th>\n      <th>merch_lat</th>\n      <th>merch_long</th>\n      <th>is_fraud</th>\n    </tr>\n  </thead>\n  <tbody>\n    <tr>\n      <th>54045</th>\n      <td>06/11/2020 22:14</td>\n      <td>3.024890e+13</td>\n      <td>fraud_Leffler-Goldner</td>\n      <td>personal_care</td>\n      <td>7.62</td>\n      <td>Michael</td>\n      <td>Rodriguez</td>\n      <td>M</td>\n      <td>172 Paula Inlet Apt. 650</td>\n      <td>Cross Plains</td>\n      <td>...</td>\n      <td>32.1482</td>\n      <td>-99.1872</td>\n      <td>1897</td>\n      <td>Chief Operating Officer</td>\n      <td>19/04/1953</td>\n      <td>026548f16f750d9036d901eab1e9b0f1</td>\n      <td>1383776084</td>\n      <td>31.910447</td>\n      <td>-99.266128</td>\n      <td>0</td>\n    </tr>\n    <tr>\n      <th>184963</th>\n      <td>16/12/2020 20:00</td>\n      <td>2.512310e+15</td>\n      <td>fraud_Bode-Rempel</td>\n      <td>kids_pets</td>\n      <td>71.57</td>\n      <td>John</td>\n      <td>Mccormick</td>\n      <td>M</td>\n      <td>79414 Clark Lakes Suite 966</td>\n      <td>Warren</td>\n      <td>...</td>\n      <td>42.5164</td>\n      <td>-82.9832</td>\n      <td>134056</td>\n      <td>Producer, radio</td>\n      <td>08/10/1956</td>\n      <td>16c24980cc96dcc78736f2154b0ee466</td>\n      <td>1387224059</td>\n      <td>42.539658</td>\n      <td>-83.027475</td>\n      <td>0</td>\n    </tr>\n    <tr>\n      <th>139741</th>\n      <td>09/08/2020 12:56</td>\n      <td>2.288810e+15</td>\n      <td>fraud_Weber, Thiel and Hammes</td>\n      <td>kids_pets</td>\n      <td>59.39</td>\n      <td>Barbara</td>\n      <td>Norman</td>\n      <td>F</td>\n      <td>6278 Stephanie Unions</td>\n      <td>New York City</td>\n      <td>...</td>\n      <td>40.8265</td>\n      <td>-73.9383</td>\n      <td>1577385</td>\n      <td>Herbalist</td>\n      <td>29/08/1981</td>\n      <td>378c8d3aeba8654dcd850582352bc3dc</td>\n      <td>1376053015</td>\n      <td>41.727911</td>\n      <td>-74.250244</td>\n      <td>0</td>\n    </tr>\n    <tr>\n      <th>6173</th>\n      <td>16/10/2020 20:45</td>\n      <td>4.900630e+12</td>\n      <td>fraud_Schaefer Ltd</td>\n      <td>kids_pets</td>\n      <td>110.21</td>\n      <td>Michael</td>\n      <td>Johnson</td>\n      <td>M</td>\n      <td>094 Owens Underpass</td>\n      <td>Norwalk</td>\n      <td>...</td>\n      <td>33.9056</td>\n      <td>-118.0818</td>\n      <td>105549</td>\n      <td>Firefighter</td>\n      <td>22/09/1973</td>\n      <td>64b8707a805a803e46c8f3ad5ddde732</td>\n      <td>1381956308</td>\n      <td>33.381859</td>\n      <td>-117.883768</td>\n      <td>0</td>\n    </tr>\n    <tr>\n      <th>62953</th>\n      <td>10/11/2020 07:20</td>\n      <td>3.040430e+13</td>\n      <td>fraud_VonRueden Group</td>\n      <td>grocery_net</td>\n      <td>38.00</td>\n      <td>Savannah</td>\n      <td>Lewis</td>\n      <td>F</td>\n      <td>537 Walker Freeway</td>\n      <td>North Tonawanda</td>\n      <td>...</td>\n      <td>43.0498</td>\n      <td>-78.8510</td>\n      <td>45100</td>\n      <td>Ambulance person</td>\n      <td>25/10/1993</td>\n      <td>2b0f1e140070d65faf0dd1f9141e4f56</td>\n      <td>1384068013</td>\n      <td>42.176651</td>\n      <td>-78.544658</td>\n      <td>0</td>\n    </tr>\n    <tr>\n      <th>...</th>\n      <td>...</td>\n      <td>...</td>\n      <td>...</td>\n      <td>...</td>\n      <td>...</td>\n      <td>...</td>\n      <td>...</td>\n      <td>...</td>\n      <td>...</td>\n      <td>...</td>\n      <td>...</td>\n      <td>...</td>\n      <td>...</td>\n      <td>...</td>\n      <td>...</td>\n      <td>...</td>\n      <td>...</td>\n      <td>...</td>\n      <td>...</td>\n      <td>...</td>\n      <td>...</td>\n    </tr>\n    <tr>\n      <th>301402</th>\n      <td>12/10/2020 22:41</td>\n      <td>5.456710e+15</td>\n      <td>fraud_Kirlin and Sons</td>\n      <td>personal_care</td>\n      <td>51.86</td>\n      <td>Pamela</td>\n      <td>Matthews</td>\n      <td>F</td>\n      <td>36659 Smith Club Apt. 080</td>\n      <td>Llano</td>\n      <td>...</td>\n      <td>36.1486</td>\n      <td>-105.6648</td>\n      <td>247</td>\n      <td>Architectural technologist</td>\n      <td>24/10/1961</td>\n      <td>1189ac7889edcffbdaf1da0f44056d73</td>\n      <td>1381617712</td>\n      <td>35.672329</td>\n      <td>-106.219095</td>\n      <td>1</td>\n    </tr>\n    <tr>\n      <th>301528</th>\n      <td>12/10/2020 23:28</td>\n      <td>3.853050e+13</td>\n      <td>fraud_Torphy-Goyette</td>\n      <td>shopping_pos</td>\n      <td>1030.78</td>\n      <td>Laura</td>\n      <td>Johns</td>\n      <td>F</td>\n      <td>95835 Garcia Rue</td>\n      <td>Arcadia</td>\n      <td>...</td>\n      <td>34.9572</td>\n      <td>-81.9916</td>\n      <td>530</td>\n      <td>Animal technologist</td>\n      <td>14/05/1989</td>\n      <td>1faa1c90ecf2f5419c4f838fc420139d</td>\n      <td>1381620495</td>\n      <td>34.730612</td>\n      <td>-82.966095</td>\n      <td>1</td>\n    </tr>\n    <tr>\n      <th>301600</th>\n      <td>12/10/2020 23:57</td>\n      <td>3.853050e+13</td>\n      <td>fraud_Romaguera Ltd</td>\n      <td>health_fitness</td>\n      <td>19.11</td>\n      <td>Laura</td>\n      <td>Johns</td>\n      <td>F</td>\n      <td>95835 Garcia Rue</td>\n      <td>Arcadia</td>\n      <td>...</td>\n      <td>34.9572</td>\n      <td>-81.9916</td>\n      <td>530</td>\n      <td>Animal technologist</td>\n      <td>14/05/1989</td>\n      <td>3c0c836563618c8a40857d8d714cabd3</td>\n      <td>1381622278</td>\n      <td>35.052178</td>\n      <td>-81.245327</td>\n      <td>1</td>\n    </tr>\n    <tr>\n      <th>301866</th>\n      <td>13/10/2020 02:57</td>\n      <td>4.129770e+15</td>\n      <td>fraud_Bednar Group</td>\n      <td>misc_net</td>\n      <td>898.83</td>\n      <td>Cheryl</td>\n      <td>Ballard</td>\n      <td>F</td>\n      <td>248 James Squares Apt. 838</td>\n      <td>Halstad</td>\n      <td>...</td>\n      <td>47.3551</td>\n      <td>-96.7980</td>\n      <td>771</td>\n      <td>Scientist, audiological</td>\n      <td>14/06/1972</td>\n      <td>2bf5044c1b44ba912cd3700755b4eac2</td>\n      <td>1381633026</td>\n      <td>48.192149</td>\n      <td>-96.998591</td>\n      <td>1</td>\n    </tr>\n    <tr>\n      <th>301881</th>\n      <td>13/10/2020 03:07</td>\n      <td>4.129770e+15</td>\n      <td>fraud_Flatley Group</td>\n      <td>misc_pos</td>\n      <td>751.63</td>\n      <td>Cheryl</td>\n      <td>Ballard</td>\n      <td>F</td>\n      <td>248 James Squares Apt. 838</td>\n      <td>Halstad</td>\n      <td>...</td>\n      <td>47.3551</td>\n      <td>-96.7980</td>\n      <td>771</td>\n      <td>Scientist, audiological</td>\n      <td>14/06/1972</td>\n      <td>69fd58dc601de4598d514848395463b9</td>\n      <td>1381633626</td>\n      <td>46.961592</td>\n      <td>-97.504919</td>\n      <td>1</td>\n    </tr>\n  </tbody>\n</table>\n<p>4290 rows × 22 columns</p>\n</div>"
     },
     "execution_count": 22,
     "metadata": {},
     "output_type": "execute_result"
    }
   ],
   "source": [
    "merged_card_data = pd.concat([legit_sample, fraud], axis=0)\n",
    "merged_card_data"
   ],
   "metadata": {
    "collapsed": false,
    "ExecuteTime": {
     "end_time": "2024-05-13T15:03:28.578260Z",
     "start_time": "2024-05-13T15:03:28.534257Z"
    }
   },
   "execution_count": 22
  },
  {
   "cell_type": "code",
   "outputs": [
    {
     "data": {
      "text/plain": "is_fraud\n0    2145\n1    2145\nName: count, dtype: int64"
     },
     "execution_count": 23,
     "metadata": {},
     "output_type": "execute_result"
    }
   ],
   "source": [
    "merged_card_data['is_fraud'].value_counts()"
   ],
   "metadata": {
    "collapsed": false,
    "ExecuteTime": {
     "end_time": "2024-05-13T15:03:31.157551Z",
     "start_time": "2024-05-13T15:03:31.145554Z"
    }
   },
   "execution_count": 23
  },
  {
   "cell_type": "code",
   "outputs": [
    {
     "data": {
      "text/plain": "gender\nF    2345\nM    1945\nName: count, dtype: int64"
     },
     "execution_count": 24,
     "metadata": {},
     "output_type": "execute_result"
    }
   ],
   "source": [
    "merged_card_data['gender'].value_counts()"
   ],
   "metadata": {
    "collapsed": false,
    "ExecuteTime": {
     "end_time": "2024-05-13T15:03:32.417293Z",
     "start_time": "2024-05-13T15:03:32.397294Z"
    }
   },
   "execution_count": 24
  },
  {
   "cell_type": "code",
   "outputs": [],
   "source": [
    "merged_card_data.drop(columns = ['trans_date_trans_time', 'first', 'last', 'street', 'city_pop', 'unix_time', 'trans_num'], axis = 1, inplace = True)"
   ],
   "metadata": {
    "collapsed": false,
    "ExecuteTime": {
     "end_time": "2024-05-13T15:03:33.798893Z",
     "start_time": "2024-05-13T15:03:33.776894Z"
    }
   },
   "execution_count": 25
  },
  {
   "cell_type": "code",
   "outputs": [
    {
     "data": {
      "text/plain": "(4290, 15)"
     },
     "execution_count": 26,
     "metadata": {},
     "output_type": "execute_result"
    }
   ],
   "source": [
    "merged_card_data.shape"
   ],
   "metadata": {
    "collapsed": false,
    "ExecuteTime": {
     "end_time": "2024-05-13T15:03:35.108115Z",
     "start_time": "2024-05-13T15:03:35.091117Z"
    }
   },
   "execution_count": 26
  },
  {
   "cell_type": "code",
   "outputs": [
    {
     "data": {
      "text/plain": "              cc_num                       merchant        category      amt  \\\n54045   3.024890e+13          fraud_Leffler-Goldner   personal_care     7.62   \n184963  2.512310e+15              fraud_Bode-Rempel       kids_pets    71.57   \n139741  2.288810e+15  fraud_Weber, Thiel and Hammes       kids_pets    59.39   \n6173    4.900630e+12             fraud_Schaefer Ltd       kids_pets   110.21   \n62953   3.040430e+13          fraud_VonRueden Group     grocery_net    38.00   \n...              ...                            ...             ...      ...   \n301402  5.456710e+15          fraud_Kirlin and Sons   personal_care    51.86   \n301528  3.853050e+13           fraud_Torphy-Goyette    shopping_pos  1030.78   \n301600  3.853050e+13            fraud_Romaguera Ltd  health_fitness    19.11   \n301866  4.129770e+15             fraud_Bednar Group        misc_net   898.83   \n301881  4.129770e+15            fraud_Flatley Group        misc_pos   751.63   \n\n       gender             city state    zip      lat      long  \\\n54045       M     Cross Plains    TX  76443  32.1482  -99.1872   \n184963      M           Warren    MI  48088  42.5164  -82.9832   \n139741      F    New York City    NY  10039  40.8265  -73.9383   \n6173        M          Norwalk    CA  90650  33.9056 -118.0818   \n62953       F  North Tonawanda    NY  14120  43.0498  -78.8510   \n...       ...              ...   ...    ...      ...       ...   \n301402      F            Llano    NM  87543  36.1486 -105.6648   \n301528      F          Arcadia    SC  29320  34.9572  -81.9916   \n301600      F          Arcadia    SC  29320  34.9572  -81.9916   \n301866      F          Halstad    MN  56548  47.3551  -96.7980   \n301881      F          Halstad    MN  56548  47.3551  -96.7980   \n\n                               job         dob  merch_lat  merch_long  \\\n54045      Chief Operating Officer  19/04/1953  31.910447  -99.266128   \n184963             Producer, radio  08/10/1956  42.539658  -83.027475   \n139741                   Herbalist  29/08/1981  41.727911  -74.250244   \n6173                   Firefighter  22/09/1973  33.381859 -117.883768   \n62953             Ambulance person  25/10/1993  42.176651  -78.544658   \n...                            ...         ...        ...         ...   \n301402  Architectural technologist  24/10/1961  35.672329 -106.219095   \n301528         Animal technologist  14/05/1989  34.730612  -82.966095   \n301600         Animal technologist  14/05/1989  35.052178  -81.245327   \n301866     Scientist, audiological  14/06/1972  48.192149  -96.998591   \n301881     Scientist, audiological  14/06/1972  46.961592  -97.504919   \n\n        is_fraud  \n54045          0  \n184963         0  \n139741         0  \n6173           0  \n62953          0  \n...          ...  \n301402         1  \n301528         1  \n301600         1  \n301866         1  \n301881         1  \n\n[4290 rows x 15 columns]",
      "text/html": "<div>\n<style scoped>\n    .dataframe tbody tr th:only-of-type {\n        vertical-align: middle;\n    }\n\n    .dataframe tbody tr th {\n        vertical-align: top;\n    }\n\n    .dataframe thead th {\n        text-align: right;\n    }\n</style>\n<table border=\"1\" class=\"dataframe\">\n  <thead>\n    <tr style=\"text-align: right;\">\n      <th></th>\n      <th>cc_num</th>\n      <th>merchant</th>\n      <th>category</th>\n      <th>amt</th>\n      <th>gender</th>\n      <th>city</th>\n      <th>state</th>\n      <th>zip</th>\n      <th>lat</th>\n      <th>long</th>\n      <th>job</th>\n      <th>dob</th>\n      <th>merch_lat</th>\n      <th>merch_long</th>\n      <th>is_fraud</th>\n    </tr>\n  </thead>\n  <tbody>\n    <tr>\n      <th>54045</th>\n      <td>3.024890e+13</td>\n      <td>fraud_Leffler-Goldner</td>\n      <td>personal_care</td>\n      <td>7.62</td>\n      <td>M</td>\n      <td>Cross Plains</td>\n      <td>TX</td>\n      <td>76443</td>\n      <td>32.1482</td>\n      <td>-99.1872</td>\n      <td>Chief Operating Officer</td>\n      <td>19/04/1953</td>\n      <td>31.910447</td>\n      <td>-99.266128</td>\n      <td>0</td>\n    </tr>\n    <tr>\n      <th>184963</th>\n      <td>2.512310e+15</td>\n      <td>fraud_Bode-Rempel</td>\n      <td>kids_pets</td>\n      <td>71.57</td>\n      <td>M</td>\n      <td>Warren</td>\n      <td>MI</td>\n      <td>48088</td>\n      <td>42.5164</td>\n      <td>-82.9832</td>\n      <td>Producer, radio</td>\n      <td>08/10/1956</td>\n      <td>42.539658</td>\n      <td>-83.027475</td>\n      <td>0</td>\n    </tr>\n    <tr>\n      <th>139741</th>\n      <td>2.288810e+15</td>\n      <td>fraud_Weber, Thiel and Hammes</td>\n      <td>kids_pets</td>\n      <td>59.39</td>\n      <td>F</td>\n      <td>New York City</td>\n      <td>NY</td>\n      <td>10039</td>\n      <td>40.8265</td>\n      <td>-73.9383</td>\n      <td>Herbalist</td>\n      <td>29/08/1981</td>\n      <td>41.727911</td>\n      <td>-74.250244</td>\n      <td>0</td>\n    </tr>\n    <tr>\n      <th>6173</th>\n      <td>4.900630e+12</td>\n      <td>fraud_Schaefer Ltd</td>\n      <td>kids_pets</td>\n      <td>110.21</td>\n      <td>M</td>\n      <td>Norwalk</td>\n      <td>CA</td>\n      <td>90650</td>\n      <td>33.9056</td>\n      <td>-118.0818</td>\n      <td>Firefighter</td>\n      <td>22/09/1973</td>\n      <td>33.381859</td>\n      <td>-117.883768</td>\n      <td>0</td>\n    </tr>\n    <tr>\n      <th>62953</th>\n      <td>3.040430e+13</td>\n      <td>fraud_VonRueden Group</td>\n      <td>grocery_net</td>\n      <td>38.00</td>\n      <td>F</td>\n      <td>North Tonawanda</td>\n      <td>NY</td>\n      <td>14120</td>\n      <td>43.0498</td>\n      <td>-78.8510</td>\n      <td>Ambulance person</td>\n      <td>25/10/1993</td>\n      <td>42.176651</td>\n      <td>-78.544658</td>\n      <td>0</td>\n    </tr>\n    <tr>\n      <th>...</th>\n      <td>...</td>\n      <td>...</td>\n      <td>...</td>\n      <td>...</td>\n      <td>...</td>\n      <td>...</td>\n      <td>...</td>\n      <td>...</td>\n      <td>...</td>\n      <td>...</td>\n      <td>...</td>\n      <td>...</td>\n      <td>...</td>\n      <td>...</td>\n      <td>...</td>\n    </tr>\n    <tr>\n      <th>301402</th>\n      <td>5.456710e+15</td>\n      <td>fraud_Kirlin and Sons</td>\n      <td>personal_care</td>\n      <td>51.86</td>\n      <td>F</td>\n      <td>Llano</td>\n      <td>NM</td>\n      <td>87543</td>\n      <td>36.1486</td>\n      <td>-105.6648</td>\n      <td>Architectural technologist</td>\n      <td>24/10/1961</td>\n      <td>35.672329</td>\n      <td>-106.219095</td>\n      <td>1</td>\n    </tr>\n    <tr>\n      <th>301528</th>\n      <td>3.853050e+13</td>\n      <td>fraud_Torphy-Goyette</td>\n      <td>shopping_pos</td>\n      <td>1030.78</td>\n      <td>F</td>\n      <td>Arcadia</td>\n      <td>SC</td>\n      <td>29320</td>\n      <td>34.9572</td>\n      <td>-81.9916</td>\n      <td>Animal technologist</td>\n      <td>14/05/1989</td>\n      <td>34.730612</td>\n      <td>-82.966095</td>\n      <td>1</td>\n    </tr>\n    <tr>\n      <th>301600</th>\n      <td>3.853050e+13</td>\n      <td>fraud_Romaguera Ltd</td>\n      <td>health_fitness</td>\n      <td>19.11</td>\n      <td>F</td>\n      <td>Arcadia</td>\n      <td>SC</td>\n      <td>29320</td>\n      <td>34.9572</td>\n      <td>-81.9916</td>\n      <td>Animal technologist</td>\n      <td>14/05/1989</td>\n      <td>35.052178</td>\n      <td>-81.245327</td>\n      <td>1</td>\n    </tr>\n    <tr>\n      <th>301866</th>\n      <td>4.129770e+15</td>\n      <td>fraud_Bednar Group</td>\n      <td>misc_net</td>\n      <td>898.83</td>\n      <td>F</td>\n      <td>Halstad</td>\n      <td>MN</td>\n      <td>56548</td>\n      <td>47.3551</td>\n      <td>-96.7980</td>\n      <td>Scientist, audiological</td>\n      <td>14/06/1972</td>\n      <td>48.192149</td>\n      <td>-96.998591</td>\n      <td>1</td>\n    </tr>\n    <tr>\n      <th>301881</th>\n      <td>4.129770e+15</td>\n      <td>fraud_Flatley Group</td>\n      <td>misc_pos</td>\n      <td>751.63</td>\n      <td>F</td>\n      <td>Halstad</td>\n      <td>MN</td>\n      <td>56548</td>\n      <td>47.3551</td>\n      <td>-96.7980</td>\n      <td>Scientist, audiological</td>\n      <td>14/06/1972</td>\n      <td>46.961592</td>\n      <td>-97.504919</td>\n      <td>1</td>\n    </tr>\n  </tbody>\n</table>\n<p>4290 rows × 15 columns</p>\n</div>"
     },
     "execution_count": 27,
     "metadata": {},
     "output_type": "execute_result"
    }
   ],
   "source": [
    "merged_card_data"
   ],
   "metadata": {
    "collapsed": false,
    "ExecuteTime": {
     "end_time": "2024-05-13T15:03:35.713117Z",
     "start_time": "2024-05-13T15:03:35.684116Z"
    }
   },
   "execution_count": 27
  },
  {
   "cell_type": "markdown",
   "source": [
    "### 4. Feature Engineering"
   ],
   "metadata": {
    "collapsed": false
   }
  },
  {
   "cell_type": "code",
   "outputs": [
    {
     "data": {
      "text/plain": "              cc_num                       merchant        category      amt  \\\n54045   3.024890e+13          fraud_Leffler-Goldner   personal_care     7.62   \n184963  2.512310e+15              fraud_Bode-Rempel       kids_pets    71.57   \n139741  2.288810e+15  fraud_Weber, Thiel and Hammes       kids_pets    59.39   \n6173    4.900630e+12             fraud_Schaefer Ltd       kids_pets   110.21   \n62953   3.040430e+13          fraud_VonRueden Group     grocery_net    38.00   \n...              ...                            ...             ...      ...   \n301402  5.456710e+15          fraud_Kirlin and Sons   personal_care    51.86   \n301528  3.853050e+13           fraud_Torphy-Goyette    shopping_pos  1030.78   \n301600  3.853050e+13            fraud_Romaguera Ltd  health_fitness    19.11   \n301866  4.129770e+15             fraud_Bednar Group        misc_net   898.83   \n301881  4.129770e+15            fraud_Flatley Group        misc_pos   751.63   \n\n       gender      lat      long                         job         dob  \\\n54045       M  32.1482  -99.1872     Chief Operating Officer  19/04/1953   \n184963      M  42.5164  -82.9832             Producer, radio  08/10/1956   \n139741      F  40.8265  -73.9383                   Herbalist  29/08/1981   \n6173        M  33.9056 -118.0818                 Firefighter  22/09/1973   \n62953       F  43.0498  -78.8510            Ambulance person  25/10/1993   \n...       ...      ...       ...                         ...         ...   \n301402      F  36.1486 -105.6648  Architectural technologist  24/10/1961   \n301528      F  34.9572  -81.9916         Animal technologist  14/05/1989   \n301600      F  34.9572  -81.9916         Animal technologist  14/05/1989   \n301866      F  47.3551  -96.7980     Scientist, audiological  14/06/1972   \n301881      F  47.3551  -96.7980     Scientist, audiological  14/06/1972   \n\n        merch_lat  merch_long  is_fraud                    location  \n54045   31.910447  -99.266128         0     Cross Plains, TX, 76443  \n184963  42.539658  -83.027475         0           Warren, MI, 48088  \n139741  41.727911  -74.250244         0    New York City, NY, 10039  \n6173    33.381859 -117.883768         0          Norwalk, CA, 90650  \n62953   42.176651  -78.544658         0  North Tonawanda, NY, 14120  \n...           ...         ...       ...                         ...  \n301402  35.672329 -106.219095         1            Llano, NM, 87543  \n301528  34.730612  -82.966095         1          Arcadia, SC, 29320  \n301600  35.052178  -81.245327         1          Arcadia, SC, 29320  \n301866  48.192149  -96.998591         1          Halstad, MN, 56548  \n301881  46.961592  -97.504919         1          Halstad, MN, 56548  \n\n[4290 rows x 13 columns]",
      "text/html": "<div>\n<style scoped>\n    .dataframe tbody tr th:only-of-type {\n        vertical-align: middle;\n    }\n\n    .dataframe tbody tr th {\n        vertical-align: top;\n    }\n\n    .dataframe thead th {\n        text-align: right;\n    }\n</style>\n<table border=\"1\" class=\"dataframe\">\n  <thead>\n    <tr style=\"text-align: right;\">\n      <th></th>\n      <th>cc_num</th>\n      <th>merchant</th>\n      <th>category</th>\n      <th>amt</th>\n      <th>gender</th>\n      <th>lat</th>\n      <th>long</th>\n      <th>job</th>\n      <th>dob</th>\n      <th>merch_lat</th>\n      <th>merch_long</th>\n      <th>is_fraud</th>\n      <th>location</th>\n    </tr>\n  </thead>\n  <tbody>\n    <tr>\n      <th>54045</th>\n      <td>3.024890e+13</td>\n      <td>fraud_Leffler-Goldner</td>\n      <td>personal_care</td>\n      <td>7.62</td>\n      <td>M</td>\n      <td>32.1482</td>\n      <td>-99.1872</td>\n      <td>Chief Operating Officer</td>\n      <td>19/04/1953</td>\n      <td>31.910447</td>\n      <td>-99.266128</td>\n      <td>0</td>\n      <td>Cross Plains, TX, 76443</td>\n    </tr>\n    <tr>\n      <th>184963</th>\n      <td>2.512310e+15</td>\n      <td>fraud_Bode-Rempel</td>\n      <td>kids_pets</td>\n      <td>71.57</td>\n      <td>M</td>\n      <td>42.5164</td>\n      <td>-82.9832</td>\n      <td>Producer, radio</td>\n      <td>08/10/1956</td>\n      <td>42.539658</td>\n      <td>-83.027475</td>\n      <td>0</td>\n      <td>Warren, MI, 48088</td>\n    </tr>\n    <tr>\n      <th>139741</th>\n      <td>2.288810e+15</td>\n      <td>fraud_Weber, Thiel and Hammes</td>\n      <td>kids_pets</td>\n      <td>59.39</td>\n      <td>F</td>\n      <td>40.8265</td>\n      <td>-73.9383</td>\n      <td>Herbalist</td>\n      <td>29/08/1981</td>\n      <td>41.727911</td>\n      <td>-74.250244</td>\n      <td>0</td>\n      <td>New York City, NY, 10039</td>\n    </tr>\n    <tr>\n      <th>6173</th>\n      <td>4.900630e+12</td>\n      <td>fraud_Schaefer Ltd</td>\n      <td>kids_pets</td>\n      <td>110.21</td>\n      <td>M</td>\n      <td>33.9056</td>\n      <td>-118.0818</td>\n      <td>Firefighter</td>\n      <td>22/09/1973</td>\n      <td>33.381859</td>\n      <td>-117.883768</td>\n      <td>0</td>\n      <td>Norwalk, CA, 90650</td>\n    </tr>\n    <tr>\n      <th>62953</th>\n      <td>3.040430e+13</td>\n      <td>fraud_VonRueden Group</td>\n      <td>grocery_net</td>\n      <td>38.00</td>\n      <td>F</td>\n      <td>43.0498</td>\n      <td>-78.8510</td>\n      <td>Ambulance person</td>\n      <td>25/10/1993</td>\n      <td>42.176651</td>\n      <td>-78.544658</td>\n      <td>0</td>\n      <td>North Tonawanda, NY, 14120</td>\n    </tr>\n    <tr>\n      <th>...</th>\n      <td>...</td>\n      <td>...</td>\n      <td>...</td>\n      <td>...</td>\n      <td>...</td>\n      <td>...</td>\n      <td>...</td>\n      <td>...</td>\n      <td>...</td>\n      <td>...</td>\n      <td>...</td>\n      <td>...</td>\n      <td>...</td>\n    </tr>\n    <tr>\n      <th>301402</th>\n      <td>5.456710e+15</td>\n      <td>fraud_Kirlin and Sons</td>\n      <td>personal_care</td>\n      <td>51.86</td>\n      <td>F</td>\n      <td>36.1486</td>\n      <td>-105.6648</td>\n      <td>Architectural technologist</td>\n      <td>24/10/1961</td>\n      <td>35.672329</td>\n      <td>-106.219095</td>\n      <td>1</td>\n      <td>Llano, NM, 87543</td>\n    </tr>\n    <tr>\n      <th>301528</th>\n      <td>3.853050e+13</td>\n      <td>fraud_Torphy-Goyette</td>\n      <td>shopping_pos</td>\n      <td>1030.78</td>\n      <td>F</td>\n      <td>34.9572</td>\n      <td>-81.9916</td>\n      <td>Animal technologist</td>\n      <td>14/05/1989</td>\n      <td>34.730612</td>\n      <td>-82.966095</td>\n      <td>1</td>\n      <td>Arcadia, SC, 29320</td>\n    </tr>\n    <tr>\n      <th>301600</th>\n      <td>3.853050e+13</td>\n      <td>fraud_Romaguera Ltd</td>\n      <td>health_fitness</td>\n      <td>19.11</td>\n      <td>F</td>\n      <td>34.9572</td>\n      <td>-81.9916</td>\n      <td>Animal technologist</td>\n      <td>14/05/1989</td>\n      <td>35.052178</td>\n      <td>-81.245327</td>\n      <td>1</td>\n      <td>Arcadia, SC, 29320</td>\n    </tr>\n    <tr>\n      <th>301866</th>\n      <td>4.129770e+15</td>\n      <td>fraud_Bednar Group</td>\n      <td>misc_net</td>\n      <td>898.83</td>\n      <td>F</td>\n      <td>47.3551</td>\n      <td>-96.7980</td>\n      <td>Scientist, audiological</td>\n      <td>14/06/1972</td>\n      <td>48.192149</td>\n      <td>-96.998591</td>\n      <td>1</td>\n      <td>Halstad, MN, 56548</td>\n    </tr>\n    <tr>\n      <th>301881</th>\n      <td>4.129770e+15</td>\n      <td>fraud_Flatley Group</td>\n      <td>misc_pos</td>\n      <td>751.63</td>\n      <td>F</td>\n      <td>47.3551</td>\n      <td>-96.7980</td>\n      <td>Scientist, audiological</td>\n      <td>14/06/1972</td>\n      <td>46.961592</td>\n      <td>-97.504919</td>\n      <td>1</td>\n      <td>Halstad, MN, 56548</td>\n    </tr>\n  </tbody>\n</table>\n<p>4290 rows × 13 columns</p>\n</div>"
     },
     "execution_count": 28,
     "metadata": {},
     "output_type": "execute_result"
    }
   ],
   "source": [
    "merged_card_data['location'] = merged_card_data['city'] + ', ' + merged_card_data['state'] + ', ' + merged_card_data['zip'].astype(str)\n",
    "merged_card_data = merged_card_data.drop(['city', 'state', 'zip'], axis=1)\n",
    "merged_card_data"
   ],
   "metadata": {
    "collapsed": false,
    "ExecuteTime": {
     "end_time": "2024-05-13T15:03:39.620318Z",
     "start_time": "2024-05-13T15:03:39.580318Z"
    }
   },
   "execution_count": 28
  },
  {
   "cell_type": "code",
   "outputs": [
    {
     "data": {
      "text/plain": "              cc_num                       merchant        category      amt  \\\n54045   3.024890e+13          fraud_Leffler-Goldner   personal_care     7.62   \n184963  2.512310e+15              fraud_Bode-Rempel       kids_pets    71.57   \n139741  2.288810e+15  fraud_Weber, Thiel and Hammes       kids_pets    59.39   \n6173    4.900630e+12             fraud_Schaefer Ltd       kids_pets   110.21   \n62953   3.040430e+13          fraud_VonRueden Group     grocery_net    38.00   \n...              ...                            ...             ...      ...   \n301402  5.456710e+15          fraud_Kirlin and Sons   personal_care    51.86   \n301528  3.853050e+13           fraud_Torphy-Goyette    shopping_pos  1030.78   \n301600  3.853050e+13            fraud_Romaguera Ltd  health_fitness    19.11   \n301866  4.129770e+15             fraud_Bednar Group        misc_net   898.83   \n301881  4.129770e+15            fraud_Flatley Group        misc_pos   751.63   \n\n       gender                         job         dob  merch_lat  merch_long  \\\n54045       M     Chief Operating Officer  19/04/1953  31.910447  -99.266128   \n184963      M             Producer, radio  08/10/1956  42.539658  -83.027475   \n139741      F                   Herbalist  29/08/1981  41.727911  -74.250244   \n6173        M                 Firefighter  22/09/1973  33.381859 -117.883768   \n62953       F            Ambulance person  25/10/1993  42.176651  -78.544658   \n...       ...                         ...         ...        ...         ...   \n301402      F  Architectural technologist  24/10/1961  35.672329 -106.219095   \n301528      F         Animal technologist  14/05/1989  34.730612  -82.966095   \n301600      F         Animal technologist  14/05/1989  35.052178  -81.245327   \n301866      F     Scientist, audiological  14/06/1972  48.192149  -96.998591   \n301881      F     Scientist, audiological  14/06/1972  46.961592  -97.504919   \n\n        is_fraud                    location            lat_long  \n54045          0     Cross Plains, TX, 76443   32.1482, -99.1872  \n184963         0           Warren, MI, 48088   42.5164, -82.9832  \n139741         0    New York City, NY, 10039   40.8265, -73.9383  \n6173           0          Norwalk, CA, 90650  33.9056, -118.0818  \n62953          0  North Tonawanda, NY, 14120    43.0498, -78.851  \n...          ...                         ...                 ...  \n301402         1            Llano, NM, 87543  36.1486, -105.6648  \n301528         1          Arcadia, SC, 29320   34.9572, -81.9916  \n301600         1          Arcadia, SC, 29320   34.9572, -81.9916  \n301866         1          Halstad, MN, 56548    47.3551, -96.798  \n301881         1          Halstad, MN, 56548    47.3551, -96.798  \n\n[4290 rows x 12 columns]",
      "text/html": "<div>\n<style scoped>\n    .dataframe tbody tr th:only-of-type {\n        vertical-align: middle;\n    }\n\n    .dataframe tbody tr th {\n        vertical-align: top;\n    }\n\n    .dataframe thead th {\n        text-align: right;\n    }\n</style>\n<table border=\"1\" class=\"dataframe\">\n  <thead>\n    <tr style=\"text-align: right;\">\n      <th></th>\n      <th>cc_num</th>\n      <th>merchant</th>\n      <th>category</th>\n      <th>amt</th>\n      <th>gender</th>\n      <th>job</th>\n      <th>dob</th>\n      <th>merch_lat</th>\n      <th>merch_long</th>\n      <th>is_fraud</th>\n      <th>location</th>\n      <th>lat_long</th>\n    </tr>\n  </thead>\n  <tbody>\n    <tr>\n      <th>54045</th>\n      <td>3.024890e+13</td>\n      <td>fraud_Leffler-Goldner</td>\n      <td>personal_care</td>\n      <td>7.62</td>\n      <td>M</td>\n      <td>Chief Operating Officer</td>\n      <td>19/04/1953</td>\n      <td>31.910447</td>\n      <td>-99.266128</td>\n      <td>0</td>\n      <td>Cross Plains, TX, 76443</td>\n      <td>32.1482, -99.1872</td>\n    </tr>\n    <tr>\n      <th>184963</th>\n      <td>2.512310e+15</td>\n      <td>fraud_Bode-Rempel</td>\n      <td>kids_pets</td>\n      <td>71.57</td>\n      <td>M</td>\n      <td>Producer, radio</td>\n      <td>08/10/1956</td>\n      <td>42.539658</td>\n      <td>-83.027475</td>\n      <td>0</td>\n      <td>Warren, MI, 48088</td>\n      <td>42.5164, -82.9832</td>\n    </tr>\n    <tr>\n      <th>139741</th>\n      <td>2.288810e+15</td>\n      <td>fraud_Weber, Thiel and Hammes</td>\n      <td>kids_pets</td>\n      <td>59.39</td>\n      <td>F</td>\n      <td>Herbalist</td>\n      <td>29/08/1981</td>\n      <td>41.727911</td>\n      <td>-74.250244</td>\n      <td>0</td>\n      <td>New York City, NY, 10039</td>\n      <td>40.8265, -73.9383</td>\n    </tr>\n    <tr>\n      <th>6173</th>\n      <td>4.900630e+12</td>\n      <td>fraud_Schaefer Ltd</td>\n      <td>kids_pets</td>\n      <td>110.21</td>\n      <td>M</td>\n      <td>Firefighter</td>\n      <td>22/09/1973</td>\n      <td>33.381859</td>\n      <td>-117.883768</td>\n      <td>0</td>\n      <td>Norwalk, CA, 90650</td>\n      <td>33.9056, -118.0818</td>\n    </tr>\n    <tr>\n      <th>62953</th>\n      <td>3.040430e+13</td>\n      <td>fraud_VonRueden Group</td>\n      <td>grocery_net</td>\n      <td>38.00</td>\n      <td>F</td>\n      <td>Ambulance person</td>\n      <td>25/10/1993</td>\n      <td>42.176651</td>\n      <td>-78.544658</td>\n      <td>0</td>\n      <td>North Tonawanda, NY, 14120</td>\n      <td>43.0498, -78.851</td>\n    </tr>\n    <tr>\n      <th>...</th>\n      <td>...</td>\n      <td>...</td>\n      <td>...</td>\n      <td>...</td>\n      <td>...</td>\n      <td>...</td>\n      <td>...</td>\n      <td>...</td>\n      <td>...</td>\n      <td>...</td>\n      <td>...</td>\n      <td>...</td>\n    </tr>\n    <tr>\n      <th>301402</th>\n      <td>5.456710e+15</td>\n      <td>fraud_Kirlin and Sons</td>\n      <td>personal_care</td>\n      <td>51.86</td>\n      <td>F</td>\n      <td>Architectural technologist</td>\n      <td>24/10/1961</td>\n      <td>35.672329</td>\n      <td>-106.219095</td>\n      <td>1</td>\n      <td>Llano, NM, 87543</td>\n      <td>36.1486, -105.6648</td>\n    </tr>\n    <tr>\n      <th>301528</th>\n      <td>3.853050e+13</td>\n      <td>fraud_Torphy-Goyette</td>\n      <td>shopping_pos</td>\n      <td>1030.78</td>\n      <td>F</td>\n      <td>Animal technologist</td>\n      <td>14/05/1989</td>\n      <td>34.730612</td>\n      <td>-82.966095</td>\n      <td>1</td>\n      <td>Arcadia, SC, 29320</td>\n      <td>34.9572, -81.9916</td>\n    </tr>\n    <tr>\n      <th>301600</th>\n      <td>3.853050e+13</td>\n      <td>fraud_Romaguera Ltd</td>\n      <td>health_fitness</td>\n      <td>19.11</td>\n      <td>F</td>\n      <td>Animal technologist</td>\n      <td>14/05/1989</td>\n      <td>35.052178</td>\n      <td>-81.245327</td>\n      <td>1</td>\n      <td>Arcadia, SC, 29320</td>\n      <td>34.9572, -81.9916</td>\n    </tr>\n    <tr>\n      <th>301866</th>\n      <td>4.129770e+15</td>\n      <td>fraud_Bednar Group</td>\n      <td>misc_net</td>\n      <td>898.83</td>\n      <td>F</td>\n      <td>Scientist, audiological</td>\n      <td>14/06/1972</td>\n      <td>48.192149</td>\n      <td>-96.998591</td>\n      <td>1</td>\n      <td>Halstad, MN, 56548</td>\n      <td>47.3551, -96.798</td>\n    </tr>\n    <tr>\n      <th>301881</th>\n      <td>4.129770e+15</td>\n      <td>fraud_Flatley Group</td>\n      <td>misc_pos</td>\n      <td>751.63</td>\n      <td>F</td>\n      <td>Scientist, audiological</td>\n      <td>14/06/1972</td>\n      <td>46.961592</td>\n      <td>-97.504919</td>\n      <td>1</td>\n      <td>Halstad, MN, 56548</td>\n      <td>47.3551, -96.798</td>\n    </tr>\n  </tbody>\n</table>\n<p>4290 rows × 12 columns</p>\n</div>"
     },
     "execution_count": 29,
     "metadata": {},
     "output_type": "execute_result"
    }
   ],
   "source": [
    "merged_card_data['lat_long'] = merged_card_data['lat'].astype(str) + ', ' + merged_card_data['long'].astype(str)\n",
    "merged_card_data = merged_card_data.drop(['lat', 'long'], axis=1)\n",
    "merged_card_data"
   ],
   "metadata": {
    "collapsed": false,
    "ExecuteTime": {
     "end_time": "2024-05-13T15:03:40.988399Z",
     "start_time": "2024-05-13T15:03:40.952399Z"
    }
   },
   "execution_count": 29
  },
  {
   "cell_type": "code",
   "outputs": [
    {
     "data": {
      "text/plain": "              cc_num                       merchant        category      amt  \\\n54045   3.024890e+13          fraud_Leffler-Goldner   personal_care     7.62   \n184963  2.512310e+15              fraud_Bode-Rempel       kids_pets    71.57   \n139741  2.288810e+15  fraud_Weber, Thiel and Hammes       kids_pets    59.39   \n6173    4.900630e+12             fraud_Schaefer Ltd       kids_pets   110.21   \n62953   3.040430e+13          fraud_VonRueden Group     grocery_net    38.00   \n...              ...                            ...             ...      ...   \n301402  5.456710e+15          fraud_Kirlin and Sons   personal_care    51.86   \n301528  3.853050e+13           fraud_Torphy-Goyette    shopping_pos  1030.78   \n301600  3.853050e+13            fraud_Romaguera Ltd  health_fitness    19.11   \n301866  4.129770e+15             fraud_Bednar Group        misc_net   898.83   \n301881  4.129770e+15            fraud_Flatley Group        misc_pos   751.63   \n\n       gender                         job         dob  is_fraud  \\\n54045       M     Chief Operating Officer  19/04/1953         0   \n184963      M             Producer, radio  08/10/1956         0   \n139741      F                   Herbalist  29/08/1981         0   \n6173        M                 Firefighter  22/09/1973         0   \n62953       F            Ambulance person  25/10/1993         0   \n...       ...                         ...         ...       ...   \n301402      F  Architectural technologist  24/10/1961         1   \n301528      F         Animal technologist  14/05/1989         1   \n301600      F         Animal technologist  14/05/1989         1   \n301866      F     Scientist, audiological  14/06/1972         1   \n301881      F     Scientist, audiological  14/06/1972         1   \n\n                          location            lat_long       merchant_lat_long  \n54045      Cross Plains, TX, 76443   32.1482, -99.1872   31.910447, -99.266128  \n184963           Warren, MI, 48088   42.5164, -82.9832   42.539658, -83.027475  \n139741    New York City, NY, 10039   40.8265, -73.9383   41.727911, -74.250244  \n6173            Norwalk, CA, 90650  33.9056, -118.0818  33.381859, -117.883768  \n62953   North Tonawanda, NY, 14120    43.0498, -78.851   42.176651, -78.544658  \n...                            ...                 ...                     ...  \n301402            Llano, NM, 87543  36.1486, -105.6648  35.672329, -106.219095  \n301528          Arcadia, SC, 29320   34.9572, -81.9916   34.730612, -82.966095  \n301600          Arcadia, SC, 29320   34.9572, -81.9916   35.052178, -81.245327  \n301866          Halstad, MN, 56548    47.3551, -96.798   48.192149, -96.998591  \n301881          Halstad, MN, 56548    47.3551, -96.798   46.961592, -97.504919  \n\n[4290 rows x 11 columns]",
      "text/html": "<div>\n<style scoped>\n    .dataframe tbody tr th:only-of-type {\n        vertical-align: middle;\n    }\n\n    .dataframe tbody tr th {\n        vertical-align: top;\n    }\n\n    .dataframe thead th {\n        text-align: right;\n    }\n</style>\n<table border=\"1\" class=\"dataframe\">\n  <thead>\n    <tr style=\"text-align: right;\">\n      <th></th>\n      <th>cc_num</th>\n      <th>merchant</th>\n      <th>category</th>\n      <th>amt</th>\n      <th>gender</th>\n      <th>job</th>\n      <th>dob</th>\n      <th>is_fraud</th>\n      <th>location</th>\n      <th>lat_long</th>\n      <th>merchant_lat_long</th>\n    </tr>\n  </thead>\n  <tbody>\n    <tr>\n      <th>54045</th>\n      <td>3.024890e+13</td>\n      <td>fraud_Leffler-Goldner</td>\n      <td>personal_care</td>\n      <td>7.62</td>\n      <td>M</td>\n      <td>Chief Operating Officer</td>\n      <td>19/04/1953</td>\n      <td>0</td>\n      <td>Cross Plains, TX, 76443</td>\n      <td>32.1482, -99.1872</td>\n      <td>31.910447, -99.266128</td>\n    </tr>\n    <tr>\n      <th>184963</th>\n      <td>2.512310e+15</td>\n      <td>fraud_Bode-Rempel</td>\n      <td>kids_pets</td>\n      <td>71.57</td>\n      <td>M</td>\n      <td>Producer, radio</td>\n      <td>08/10/1956</td>\n      <td>0</td>\n      <td>Warren, MI, 48088</td>\n      <td>42.5164, -82.9832</td>\n      <td>42.539658, -83.027475</td>\n    </tr>\n    <tr>\n      <th>139741</th>\n      <td>2.288810e+15</td>\n      <td>fraud_Weber, Thiel and Hammes</td>\n      <td>kids_pets</td>\n      <td>59.39</td>\n      <td>F</td>\n      <td>Herbalist</td>\n      <td>29/08/1981</td>\n      <td>0</td>\n      <td>New York City, NY, 10039</td>\n      <td>40.8265, -73.9383</td>\n      <td>41.727911, -74.250244</td>\n    </tr>\n    <tr>\n      <th>6173</th>\n      <td>4.900630e+12</td>\n      <td>fraud_Schaefer Ltd</td>\n      <td>kids_pets</td>\n      <td>110.21</td>\n      <td>M</td>\n      <td>Firefighter</td>\n      <td>22/09/1973</td>\n      <td>0</td>\n      <td>Norwalk, CA, 90650</td>\n      <td>33.9056, -118.0818</td>\n      <td>33.381859, -117.883768</td>\n    </tr>\n    <tr>\n      <th>62953</th>\n      <td>3.040430e+13</td>\n      <td>fraud_VonRueden Group</td>\n      <td>grocery_net</td>\n      <td>38.00</td>\n      <td>F</td>\n      <td>Ambulance person</td>\n      <td>25/10/1993</td>\n      <td>0</td>\n      <td>North Tonawanda, NY, 14120</td>\n      <td>43.0498, -78.851</td>\n      <td>42.176651, -78.544658</td>\n    </tr>\n    <tr>\n      <th>...</th>\n      <td>...</td>\n      <td>...</td>\n      <td>...</td>\n      <td>...</td>\n      <td>...</td>\n      <td>...</td>\n      <td>...</td>\n      <td>...</td>\n      <td>...</td>\n      <td>...</td>\n      <td>...</td>\n    </tr>\n    <tr>\n      <th>301402</th>\n      <td>5.456710e+15</td>\n      <td>fraud_Kirlin and Sons</td>\n      <td>personal_care</td>\n      <td>51.86</td>\n      <td>F</td>\n      <td>Architectural technologist</td>\n      <td>24/10/1961</td>\n      <td>1</td>\n      <td>Llano, NM, 87543</td>\n      <td>36.1486, -105.6648</td>\n      <td>35.672329, -106.219095</td>\n    </tr>\n    <tr>\n      <th>301528</th>\n      <td>3.853050e+13</td>\n      <td>fraud_Torphy-Goyette</td>\n      <td>shopping_pos</td>\n      <td>1030.78</td>\n      <td>F</td>\n      <td>Animal technologist</td>\n      <td>14/05/1989</td>\n      <td>1</td>\n      <td>Arcadia, SC, 29320</td>\n      <td>34.9572, -81.9916</td>\n      <td>34.730612, -82.966095</td>\n    </tr>\n    <tr>\n      <th>301600</th>\n      <td>3.853050e+13</td>\n      <td>fraud_Romaguera Ltd</td>\n      <td>health_fitness</td>\n      <td>19.11</td>\n      <td>F</td>\n      <td>Animal technologist</td>\n      <td>14/05/1989</td>\n      <td>1</td>\n      <td>Arcadia, SC, 29320</td>\n      <td>34.9572, -81.9916</td>\n      <td>35.052178, -81.245327</td>\n    </tr>\n    <tr>\n      <th>301866</th>\n      <td>4.129770e+15</td>\n      <td>fraud_Bednar Group</td>\n      <td>misc_net</td>\n      <td>898.83</td>\n      <td>F</td>\n      <td>Scientist, audiological</td>\n      <td>14/06/1972</td>\n      <td>1</td>\n      <td>Halstad, MN, 56548</td>\n      <td>47.3551, -96.798</td>\n      <td>48.192149, -96.998591</td>\n    </tr>\n    <tr>\n      <th>301881</th>\n      <td>4.129770e+15</td>\n      <td>fraud_Flatley Group</td>\n      <td>misc_pos</td>\n      <td>751.63</td>\n      <td>F</td>\n      <td>Scientist, audiological</td>\n      <td>14/06/1972</td>\n      <td>1</td>\n      <td>Halstad, MN, 56548</td>\n      <td>47.3551, -96.798</td>\n      <td>46.961592, -97.504919</td>\n    </tr>\n  </tbody>\n</table>\n<p>4290 rows × 11 columns</p>\n</div>"
     },
     "execution_count": 30,
     "metadata": {},
     "output_type": "execute_result"
    }
   ],
   "source": [
    "merged_card_data['merchant_lat_long'] = merged_card_data['merch_lat'].astype(str) + ', ' + merged_card_data['merch_long'].astype(str)\n",
    "merged_card_data = merged_card_data.drop(['merch_lat', 'merch_long'], axis=1)\n",
    "merged_card_data"
   ],
   "metadata": {
    "collapsed": false,
    "ExecuteTime": {
     "end_time": "2024-05-13T15:03:42.730975Z",
     "start_time": "2024-05-13T15:03:42.697967Z"
    }
   },
   "execution_count": 30
  },
  {
   "cell_type": "markdown",
   "source": [
    "### 5. Label Encoding"
   ],
   "metadata": {
    "collapsed": false
   }
  },
  {
   "cell_type": "code",
   "outputs": [
    {
     "data": {
      "text/plain": "        cc_num  merchant  category      amt  gender  job  dob  is_fraud  \\\n54045      149       376        10     7.62       1   68  477         0   \n184963     366        60         7    71.57       1  315  208         0   \n139741     354       650         7    59.39       0  197  740         0   \n6173       116       540         7   110.21       1  174  567         0   \n62953      161       642         3    38.00       0   19  638         0   \n...        ...       ...       ...      ...     ...  ...  ...       ...   \n301402     655       315        10    51.86       0   29  613         1   \n301528     192       621        12  1030.78       0   23  345         1   \n301600     192       520         5    19.11       0   23  345         1   \n301866     537        36         8   898.83       0  364  349         1   \n301881     537       176         9   751.63       0  364  349         1   \n\n        location  lat_long  merchant_lat_long  \n54045        172        88                424  \n184963       751       632               3358  \n139741       507       514               3084  \n6173         529       159                700  \n62953        526       667               3240  \n...          ...       ...                ...  \n301402       409       250               1230  \n301528        27       206               1031  \n301600        27       206               1112  \n301866       294       778               4202  \n301881       294       778               4108  \n\n[4290 rows x 11 columns]",
      "text/html": "<div>\n<style scoped>\n    .dataframe tbody tr th:only-of-type {\n        vertical-align: middle;\n    }\n\n    .dataframe tbody tr th {\n        vertical-align: top;\n    }\n\n    .dataframe thead th {\n        text-align: right;\n    }\n</style>\n<table border=\"1\" class=\"dataframe\">\n  <thead>\n    <tr style=\"text-align: right;\">\n      <th></th>\n      <th>cc_num</th>\n      <th>merchant</th>\n      <th>category</th>\n      <th>amt</th>\n      <th>gender</th>\n      <th>job</th>\n      <th>dob</th>\n      <th>is_fraud</th>\n      <th>location</th>\n      <th>lat_long</th>\n      <th>merchant_lat_long</th>\n    </tr>\n  </thead>\n  <tbody>\n    <tr>\n      <th>54045</th>\n      <td>149</td>\n      <td>376</td>\n      <td>10</td>\n      <td>7.62</td>\n      <td>1</td>\n      <td>68</td>\n      <td>477</td>\n      <td>0</td>\n      <td>172</td>\n      <td>88</td>\n      <td>424</td>\n    </tr>\n    <tr>\n      <th>184963</th>\n      <td>366</td>\n      <td>60</td>\n      <td>7</td>\n      <td>71.57</td>\n      <td>1</td>\n      <td>315</td>\n      <td>208</td>\n      <td>0</td>\n      <td>751</td>\n      <td>632</td>\n      <td>3358</td>\n    </tr>\n    <tr>\n      <th>139741</th>\n      <td>354</td>\n      <td>650</td>\n      <td>7</td>\n      <td>59.39</td>\n      <td>0</td>\n      <td>197</td>\n      <td>740</td>\n      <td>0</td>\n      <td>507</td>\n      <td>514</td>\n      <td>3084</td>\n    </tr>\n    <tr>\n      <th>6173</th>\n      <td>116</td>\n      <td>540</td>\n      <td>7</td>\n      <td>110.21</td>\n      <td>1</td>\n      <td>174</td>\n      <td>567</td>\n      <td>0</td>\n      <td>529</td>\n      <td>159</td>\n      <td>700</td>\n    </tr>\n    <tr>\n      <th>62953</th>\n      <td>161</td>\n      <td>642</td>\n      <td>3</td>\n      <td>38.00</td>\n      <td>0</td>\n      <td>19</td>\n      <td>638</td>\n      <td>0</td>\n      <td>526</td>\n      <td>667</td>\n      <td>3240</td>\n    </tr>\n    <tr>\n      <th>...</th>\n      <td>...</td>\n      <td>...</td>\n      <td>...</td>\n      <td>...</td>\n      <td>...</td>\n      <td>...</td>\n      <td>...</td>\n      <td>...</td>\n      <td>...</td>\n      <td>...</td>\n      <td>...</td>\n    </tr>\n    <tr>\n      <th>301402</th>\n      <td>655</td>\n      <td>315</td>\n      <td>10</td>\n      <td>51.86</td>\n      <td>0</td>\n      <td>29</td>\n      <td>613</td>\n      <td>1</td>\n      <td>409</td>\n      <td>250</td>\n      <td>1230</td>\n    </tr>\n    <tr>\n      <th>301528</th>\n      <td>192</td>\n      <td>621</td>\n      <td>12</td>\n      <td>1030.78</td>\n      <td>0</td>\n      <td>23</td>\n      <td>345</td>\n      <td>1</td>\n      <td>27</td>\n      <td>206</td>\n      <td>1031</td>\n    </tr>\n    <tr>\n      <th>301600</th>\n      <td>192</td>\n      <td>520</td>\n      <td>5</td>\n      <td>19.11</td>\n      <td>0</td>\n      <td>23</td>\n      <td>345</td>\n      <td>1</td>\n      <td>27</td>\n      <td>206</td>\n      <td>1112</td>\n    </tr>\n    <tr>\n      <th>301866</th>\n      <td>537</td>\n      <td>36</td>\n      <td>8</td>\n      <td>898.83</td>\n      <td>0</td>\n      <td>364</td>\n      <td>349</td>\n      <td>1</td>\n      <td>294</td>\n      <td>778</td>\n      <td>4202</td>\n    </tr>\n    <tr>\n      <th>301881</th>\n      <td>537</td>\n      <td>176</td>\n      <td>9</td>\n      <td>751.63</td>\n      <td>0</td>\n      <td>364</td>\n      <td>349</td>\n      <td>1</td>\n      <td>294</td>\n      <td>778</td>\n      <td>4108</td>\n    </tr>\n  </tbody>\n</table>\n<p>4290 rows × 11 columns</p>\n</div>"
     },
     "execution_count": 31,
     "metadata": {},
     "output_type": "execute_result"
    }
   ],
   "source": [
    "from sklearn.preprocessing import LabelEncoder\n",
    "\n",
    "# encoder = LabelEncoder()\n",
    "\n",
    "# merged_card_data['cc_num'] = encoder.fit_transform(merged_card_data['cc_num'])\n",
    "# merged_card_data['merchant'] = encoder.fit_transform(merged_card_data['merchant'])\n",
    "# merged_card_data['category'] = encoder.fit_transform(merged_card_data['category'])\n",
    "# merged_card_data['gender'] = encoder.fit_transform(merged_card_data['gender'])\n",
    "# merged_card_data['job'] = encoder.fit_transform(merged_card_data['job'])\n",
    "# merged_card_data['dob'] = encoder.fit_transform(merged_card_data['dob'])\n",
    "# merged_card_data['location'] = encoder.fit_transform(merged_card_data['location'])\n",
    "# merged_card_data['lat_long'] = encoder.fit_transform(merged_card_data['lat_long'])\n",
    "# merged_card_data['merchant_lat_long'] = encoder.fit_transform(merged_card_data['merchant_lat_long'])\n",
    "\n",
    "columns_to_encode = ['cc_num', 'merchant', 'category', 'gender', 'job', 'dob', 'location', 'lat_long', 'merchant_lat_long']\n",
    "\n",
    "label_encoders = {col: LabelEncoder() for col in columns_to_encode}\n",
    "\n",
    "# Apply label encoding to specified columns\n",
    "for col in columns_to_encode:\n",
    "    merged_card_data[col] = label_encoders[col].fit_transform(merged_card_data[col])\n",
    "\n",
    "merged_card_data"
   ],
   "metadata": {
    "collapsed": false,
    "ExecuteTime": {
     "end_time": "2024-05-13T15:03:46.527139Z",
     "start_time": "2024-05-13T15:03:46.476138Z"
    }
   },
   "execution_count": 31
  },
  {
   "cell_type": "markdown",
   "source": [
    "### 6. Machine Learning"
   ],
   "metadata": {
    "collapsed": false
   }
  },
  {
   "cell_type": "code",
   "outputs": [
    {
     "name": "stdout",
     "output_type": "stream",
     "text": [
      "(3432, 10) (858, 10) (3432,) (858,)\n"
     ]
    }
   ],
   "source": [
    "from sklearn.model_selection import train_test_split, StratifiedKFold\n",
    "\n",
    "X = merged_card_data.drop(columns = 'is_fraud', axis = 1)\n",
    "y = merged_card_data['is_fraud']\n",
    "\n",
    "X_train, X_test, y_train, y_test = train_test_split(X, y, random_state=42, test_size=.2)\n",
    "\n",
    "print(X_train.shape, X_test.shape, y_train.shape, y_test.shape)"
   ],
   "metadata": {
    "collapsed": false,
    "ExecuteTime": {
     "end_time": "2024-05-13T15:04:34.629894Z",
     "start_time": "2024-05-13T15:04:34.214813Z"
    }
   },
   "execution_count": 32
  },
  {
   "cell_type": "code",
   "outputs": [
    {
     "name": "stdout",
     "output_type": "stream",
     "text": [
      "(4290, 10) (3432, 10) (858, 10)\n"
     ]
    }
   ],
   "source": [
    "from sklearn.preprocessing import StandardScaler\n",
    "\n",
    "scaler = StandardScaler()\n",
    "\n",
    "X_train_scaled = scaler.fit_transform(X_train)\n",
    "X_test_scaled = scaler.transform(X_test)\n",
    "print(X.shape, X_train_scaled.shape, X_test_scaled.shape)"
   ],
   "metadata": {
    "collapsed": false,
    "ExecuteTime": {
     "end_time": "2024-05-13T15:06:09.395324Z",
     "start_time": "2024-05-13T15:06:09.375323Z"
    }
   },
   "execution_count": 34
  },
  {
   "cell_type": "markdown",
   "source": [
    "### Logistic Regression"
   ],
   "metadata": {
    "collapsed": false
   }
  },
  {
   "cell_type": "code",
   "outputs": [
    {
     "name": "stderr",
     "output_type": "stream",
     "text": [
      "C:\\Users\\milanszilveszter\\.conda\\envs\\ML_Projectwork\\lib\\site-packages\\sklearn\\model_selection\\_search.py:307: UserWarning: The total space of parameters 52 is smaller than n_iter=100. Running 52 iterations. For exhaustive searches, use GridSearchCV.\n",
      "  warnings.warn(\n"
     ]
    },
    {
     "name": "stdout",
     "output_type": "stream",
     "text": [
      "Logistic Regression Best Parameters (RandomizedSearchCV): {'solver': 'saga', 'penalty': 'l1', 'C': 0.01}\n",
      "Logistic Regression Best Parameters (GridSearchCV): {'C': 0.01, 'penalty': 'l1', 'solver': 'saga'}\n",
      "Logistic Regression Best Score: 85.11\n"
     ]
    }
   ],
   "source": [
    "from sklearn.linear_model import LogisticRegression\n",
    "from sklearn.model_selection import GridSearchCV\n",
    "\n",
    "logistic_param_grid = {\n",
    "    'penalty': ['l1', 'l2'],\n",
    "    'C': np.logspace(-6, 6, 13),\n",
    "    'solver': ['liblinear', 'saga']\n",
    "}\n",
    "\n",
    "# GridSearchCV for model using the full hyperparameter grid\n",
    "logistic_grid_search = GridSearchCV(LogisticRegression(), param_grid=logistic_param_grid, cv=5, n_jobs=-1)\n",
    "\n",
    "# Fit model using GridSearchCV\n",
    "logistic_grid_search.fit(X_train_scaled, y_train)\n",
    "\n",
    "print(\"Logistic Regression Best Parameters (GridSearchCV):\", logistic_grid_search.best_params_)\n",
    "\n",
    "logistic_cv_score = logistic_grid_search.best_score_\n",
    "print(f\"Logistic Regression Best Score: {round(logistic_cv_score * 100, 2)}\")\n",
    "\n",
    "# Logistic Regression Best Parameters (GridSearchCV): {'C': 0.01, 'penalty': 'l1', 'solver': 'saga'}\n",
    "# Logistic Regression Best Score: 85.11"
   ],
   "metadata": {
    "collapsed": false,
    "ExecuteTime": {
     "end_time": "2024-05-13T15:06:27.679055Z",
     "start_time": "2024-05-13T15:06:22.839592Z"
    }
   },
   "execution_count": 35
  },
  {
   "cell_type": "markdown",
   "source": [
    "### SVM"
   ],
   "metadata": {
    "collapsed": false
   }
  },
  {
   "cell_type": "code",
   "outputs": [],
   "source": [
    "from sklearn import svm\n",
    "\n",
    "svm = svm.SVC()\n",
    "\n",
    "svm_param_grid = {\n",
    "    'C': [0.1, 1, 10, 100],\n",
    "    'gamma': [0.01, 0.1, 1, 'scale', 'auto'],\n",
    "    'kernel': ['linear', 'rbf', 'poly', 'sigmoid']\n",
    "}\n",
    "\n",
    "svm_grid_search = GridSearchCV(svm, param_grid=svm_param_grid, cv=5, n_jobs=-1)\n",
    "svm_grid_search.fit(X_train_scaled, y_train)\n",
    "print(\"SVM Best Parameters (GridSearchCV):\", svm_grid_search.best_params_)\n",
    "\n",
    "svm_cv_score = svm_grid_search.best_score_\n",
    "print(f\"SVM Best Score: {round(svm_cv_score * 100, 2)}\")\n",
    "\n",
    "# 2h 27m\n",
    "# SVM Best Parameters (GridSearchCV): {'C': 100, 'gamma': 0.01, 'kernel': 'rbf'}\n",
    "# SVM Best Score: 85.2"
   ],
   "metadata": {
    "collapsed": false
   },
   "execution_count": null
  },
  {
   "cell_type": "markdown",
   "source": [
    "### Decision Tree"
   ],
   "metadata": {
    "collapsed": false
   }
  },
  {
   "cell_type": "code",
   "outputs": [
    {
     "name": "stdout",
     "output_type": "stream",
     "text": [
      "SVM Best Parameters (GridSearchCV): {'criterion': 'entropy', 'max_depth': 40, 'max_features': None, 'min_samples_leaf': 5, 'min_samples_split': 20}\n",
      "SVM Best Score: 94.38\n"
     ]
    }
   ],
   "source": [
    "from sklearn.tree import DecisionTreeClassifier \n",
    "\n",
    "dt = DecisionTreeClassifier()\n",
    "\n",
    "dt_param_grid = {\n",
    "    'criterion': ['gini', 'entropy'],\n",
    "    'max_depth': [None, 10, 20, 30, 40, 50],\n",
    "    'min_samples_split': [2, 5, 10, 20],\n",
    "    'min_samples_leaf': [1, 2, 5, 10],\n",
    "    'max_features': [None, 'sqrt', 'log2']\n",
    "}\n",
    "\n",
    "dt_grid_search = GridSearchCV(dt, param_grid=dt_param_grid, cv=5, n_jobs=-1)\n",
    "dt_grid_search.fit(X_train_scaled, y_train)\n",
    "print(\"Decision Tree Best Parameters (GridSearchCV):\", dt_grid_search.best_params_)\n",
    "\n",
    "dt_cv_score = dt_grid_search.best_score_\n",
    "print(f\"Decision Tree Best Score: {round(dt_cv_score * 100, 2)}\")\n",
    "\n",
    "# SVM Best Parameters (GridSearchCV): {'criterion': 'entropy', 'max_depth': 40, 'max_features': None, 'min_samples_leaf': 5, 'min_samples_split': 20}\n",
    "# SVM Best Score: 94.38"
   ],
   "metadata": {
    "collapsed": false,
    "ExecuteTime": {
     "end_time": "2024-05-13T19:53:56.663514Z",
     "start_time": "2024-05-13T19:53:49.827658Z"
    }
   },
   "execution_count": 72
  },
  {
   "cell_type": "markdown",
   "source": [
    "### Random Forest"
   ],
   "metadata": {
    "collapsed": false
   }
  },
  {
   "cell_type": "code",
   "outputs": [
    {
     "name": "stdout",
     "output_type": "stream",
     "text": [
      "Random Forest Best Parameters (RandomizedSearchCV): {'n_estimators': 300, 'min_samples_split': 5, 'min_samples_leaf': 1, 'max_features': None, 'max_depth': 10, 'bootstrap': True}\n",
      "Random Forest Best Parameters (GridSearchCV): {'bootstrap': True, 'max_depth': 20, 'max_features': None, 'min_samples_leaf': 1, 'min_samples_split': 5, 'n_estimators': 300}\n",
      "Random Forest Best Score: 95.45\n"
     ]
    }
   ],
   "source": [
    "from sklearn.ensemble import RandomForestClassifier\n",
    "from sklearn.model_selection import StratifiedKFold\n",
    "\n",
    "rf = RandomForestClassifier()\n",
    "\n",
    "s_kfold = StratifiedKFold(n_splits=5, shuffle=True, random_state=42)\n",
    "\n",
    "rf_param_grid = {\n",
    "    'n_estimators': [100, 200, 300],\n",
    "    'max_features': [None, 'sqrt', 'log2'], \n",
    "    'max_depth': [None, 10, 20, 30],  \n",
    "    'min_samples_split': [2, 5, 10],  \n",
    "    'min_samples_leaf': [1, 2, 4],  \n",
    "    'bootstrap': [True, False]  \n",
    "}\n",
    "\n",
    "rf_grid_search = GridSearchCV(rf, param_grid=rf_param_grid, cv=s_kfold, n_jobs=-1)\n",
    "rf_grid_search.fit(X_train_scaled, y_train)\n",
    "print(\"Random Forest Best Parameters (GridSearchCV):\", rf_grid_search.best_params_)\n",
    "\n",
    "rf_cv_score = rf_grid_search.best_score_\n",
    "print(f\"Random Forest Best Score: {round(rf_cv_score * 100, 2)}\")\n",
    "\n",
    "# Random Forest Best Parameters (GridSearchCV): {'bootstrap': True, 'max_depth': 20, 'max_features': None, 'min_samples_leaf': 1, 'min_samples_split': 5, 'n_estimators': 300}\n",
    "# Random Forest Best Score: 95.45"
   ],
   "metadata": {
    "collapsed": false,
    "ExecuteTime": {
     "end_time": "2024-05-13T15:56:09.651633Z",
     "start_time": "2024-05-13T15:34:41.862206Z"
    }
   },
   "execution_count": 42
  },
  {
   "cell_type": "code",
   "outputs": [
    {
     "name": "stdout",
     "output_type": "stream",
     "text": [
      "Accuracy: 95.0 %\n"
     ]
    }
   ],
   "source": [
    "from sklearn.ensemble import RandomForestClassifier\n",
    "\n",
    "rf = RandomForestClassifier(n_estimators=100, random_state=42)\n",
    "\n",
    "rf.fit(X_train_scaled, y_train)\n",
    "print(f'Accuracy: {round(rf.score(X_test_scaled, y_test),2)*100} %')"
   ],
   "metadata": {
    "collapsed": false,
    "ExecuteTime": {
     "end_time": "2024-05-13T19:49:36.286566Z",
     "start_time": "2024-05-13T19:49:35.023577Z"
    }
   },
   "execution_count": 70
  },
  {
   "cell_type": "markdown",
   "source": [
    "### KNN"
   ],
   "metadata": {
    "collapsed": false
   }
  },
  {
   "cell_type": "code",
   "outputs": [
    {
     "name": "stdout",
     "output_type": "stream",
     "text": [
      "KNN Best Parameters (GridSearchCV): {'metric': 'manhattan', 'n_neighbors': 15, 'weights': 'distance'}\n",
      "KNN Best Score: 85.08\n"
     ]
    }
   ],
   "source": [
    "from sklearn.neighbors import KNeighborsClassifier\n",
    "\n",
    "knn = KNeighborsClassifier()\n",
    "\n",
    "knn_param_grid = {\n",
    "    'n_neighbors': [3, 5, 7, 10, 15],\n",
    "    'weights': ['uniform', 'distance'],\n",
    "    'metric': ['euclidean', 'manhattan', 'chebyshev']\n",
    "}\n",
    "\n",
    "svm_grid_search = GridSearchCV(knn, param_grid=knn_param_grid, cv=5, n_jobs=-1)\n",
    "svm_grid_search.fit(X_train_scaled, y_train)\n",
    "\n",
    "print(\"KNN Best Parameters (GridSearchCV):\", svm_grid_search.best_params_)\n",
    "\n",
    "svm_cv_score = svm_grid_search.best_score_\n",
    "print(f\"KNN Best Score: {round(svm_cv_score * 100, 2)}\")"
   ],
   "metadata": {
    "collapsed": false,
    "ExecuteTime": {
     "end_time": "2024-05-13T19:34:15.510594Z",
     "start_time": "2024-05-13T19:34:10.543709Z"
    }
   },
   "execution_count": 44
  },
  {
   "cell_type": "code",
   "outputs": [
    {
     "name": "stdout",
     "output_type": "stream",
     "text": [
      "1. iteration accuracy: 78.09%\n",
      "2. iteration accuracy: 81.0%\n",
      "3. iteration accuracy: 79.72%\n",
      "4. iteration accuracy: 80.77%\n",
      "5. iteration accuracy: 80.3%\n",
      "6. iteration accuracy: 80.19%\n",
      "7. iteration accuracy: 80.65%\n",
      "8. iteration accuracy: 80.89%\n",
      "9. iteration accuracy: 80.65%\n",
      "10. iteration accuracy: 81.24%\n",
      "11. iteration accuracy: 81.59%\n",
      "12. iteration accuracy: 81.47%\n",
      "13. iteration accuracy: 81.12%\n",
      "14. iteration accuracy: 80.77%\n",
      "15. iteration accuracy: 80.65%\n",
      "16. iteration accuracy: 80.42%\n",
      "17. iteration accuracy: 80.65%\n",
      "18. iteration accuracy: 82.17%\n",
      "19. iteration accuracy: 81.24%\n",
      "20. iteration accuracy: 81.7%\n",
      "21. iteration accuracy: 80.3%\n",
      "22. iteration accuracy: 81.0%\n",
      "23. iteration accuracy: 80.65%\n",
      "24. iteration accuracy: 81.82%\n",
      "25. iteration accuracy: 81.47%\n",
      "26. iteration accuracy: 81.59%\n",
      "27. iteration accuracy: 81.35%\n",
      "28. iteration accuracy: 82.17%\n",
      "29. iteration accuracy: 81.12%\n",
      "30. iteration accuracy: 81.0%\n",
      "31. iteration accuracy: 79.95%\n",
      "32. iteration accuracy: 79.95%\n",
      "33. iteration accuracy: 79.25%\n",
      "34. iteration accuracy: 79.6%\n",
      "35. iteration accuracy: 79.84%\n",
      "36. iteration accuracy: 80.07%\n",
      "37. iteration accuracy: 80.19%\n",
      "38. iteration accuracy: 80.77%\n",
      "39. iteration accuracy: 80.54%\n",
      "40. iteration accuracy: 80.19%\n",
      "41. iteration accuracy: 79.95%\n",
      "42. iteration accuracy: 79.95%\n",
      "43. iteration accuracy: 79.72%\n",
      "44. iteration accuracy: 79.72%\n",
      "45. iteration accuracy: 79.95%\n",
      "46. iteration accuracy: 80.07%\n",
      "47. iteration accuracy: 79.95%\n",
      "48. iteration accuracy: 79.72%\n",
      "49. iteration accuracy: 80.42%\n",
      "50. iteration accuracy: 80.3%\n",
      "51. iteration accuracy: 79.95%\n",
      "52. iteration accuracy: 79.72%\n",
      "53. iteration accuracy: 80.07%\n",
      "54. iteration accuracy: 80.65%\n",
      "55. iteration accuracy: 80.07%\n",
      "56. iteration accuracy: 80.42%\n",
      "57. iteration accuracy: 80.54%\n",
      "58. iteration accuracy: 80.42%\n",
      "59. iteration accuracy: 80.42%\n",
      "60. iteration accuracy: 80.42%\n",
      "61. iteration accuracy: 80.54%\n",
      "62. iteration accuracy: 79.84%\n",
      "63. iteration accuracy: 80.07%\n",
      "64. iteration accuracy: 79.72%\n",
      "65. iteration accuracy: 80.07%\n",
      "66. iteration accuracy: 79.6%\n",
      "67. iteration accuracy: 80.42%\n",
      "68. iteration accuracy: 79.49%\n",
      "69. iteration accuracy: 79.84%\n",
      "70. iteration accuracy: 79.49%\n",
      "71. iteration accuracy: 79.72%\n",
      "72. iteration accuracy: 79.14%\n",
      "73. iteration accuracy: 79.72%\n",
      "74. iteration accuracy: 79.72%\n",
      "75. iteration accuracy: 79.6%\n",
      "76. iteration accuracy: 79.37%\n",
      "77. iteration accuracy: 79.95%\n",
      "78. iteration accuracy: 79.6%\n",
      "79. iteration accuracy: 79.84%\n",
      "80. iteration accuracy: 79.95%\n",
      "81. iteration accuracy: 79.95%\n",
      "82. iteration accuracy: 80.07%\n",
      "83. iteration accuracy: 80.19%\n",
      "84. iteration accuracy: 79.84%\n",
      "85. iteration accuracy: 80.19%\n",
      "86. iteration accuracy: 79.25%\n",
      "87. iteration accuracy: 79.72%\n",
      "88. iteration accuracy: 79.25%\n",
      "89. iteration accuracy: 79.49%\n",
      "90. iteration accuracy: 79.49%\n",
      "91. iteration accuracy: 80.07%\n",
      "92. iteration accuracy: 79.72%\n",
      "93. iteration accuracy: 80.19%\n",
      "94. iteration accuracy: 79.6%\n",
      "95. iteration accuracy: 79.49%\n",
      "96. iteration accuracy: 79.14%\n",
      "97. iteration accuracy: 79.6%\n",
      "98. iteration accuracy: 79.49%\n",
      "99. iteration accuracy: 79.49%\n",
      "\n",
      "Best KNN Value: 18\n",
      "Accuracy: 82.17%\n"
     ]
    }
   ],
   "source": [
    "best_K_value = 0\n",
    "best_score=0\n",
    "for i in range(1,100):\n",
    "    knn = KNeighborsClassifier(n_neighbors=i)\n",
    "    knn.fit(X_train_scaled, y_train)\n",
    "\n",
    "    score = knn.score(X_test_scaled, y_test)\n",
    "    print(f\"{i}. iteration accuracy: {round(score*100, 2)}%\")\n",
    "\n",
    "    if score > best_score:\n",
    "        best_score = score\n",
    "        best_K_value = i\n",
    "\n",
    "print(f\"\\nBest KNN Value: {best_K_value}\")\n",
    "print(f\"Accuracy: {round(best_score * 100, 2)}%\")"
   ],
   "metadata": {
    "collapsed": false,
    "ExecuteTime": {
     "end_time": "2024-05-13T19:39:32.404764Z",
     "start_time": "2024-05-13T19:39:23.371090Z"
    }
   },
   "execution_count": 53
  },
  {
   "cell_type": "markdown",
   "source": [
    "### Naive Bayes"
   ],
   "metadata": {
    "collapsed": false
   }
  },
  {
   "cell_type": "code",
   "outputs": [
    {
     "name": "stdout",
     "output_type": "stream",
     "text": [
      "Naive Bayes Best Parameters (GridSearchCV): {'var_smoothing': 5.336699231206313e-06}\n",
      "Naive Bayes Best Score: 84.41\n"
     ]
    }
   ],
   "source": [
    "from sklearn.naive_bayes import GaussianNB\n",
    "\n",
    "nb = GaussianNB()\n",
    "\n",
    "nb_param_grid = {\n",
    "    'var_smoothing': np.logspace(0, -9, num=100)\n",
    "}\n",
    "\n",
    "nb_grid_search = GridSearchCV(nb, param_grid=nb_param_grid, cv=s_kfold, n_jobs=-1)\n",
    "nb_grid_search.fit(X_train_scaled, y_train)\n",
    "print(\"Naive Bayes Best Parameters (GridSearchCV):\", nb_grid_search.best_params_)\n",
    "\n",
    "nb_cv_score = nb_grid_search.best_score_\n",
    "print(f\"Naive Bayes Best Score: {round(nb_cv_score * 100, 2)}\")"
   ],
   "metadata": {
    "collapsed": false,
    "ExecuteTime": {
     "end_time": "2024-05-13T19:58:52.204952Z",
     "start_time": "2024-05-13T19:58:48.118183Z"
    }
   },
   "execution_count": 74
  },
  {
   "cell_type": "code",
   "outputs": [],
   "source": [],
   "metadata": {
    "collapsed": false
   }
  }
 ],
 "metadata": {
  "kernelspec": {
   "display_name": "Python 3",
   "language": "python",
   "name": "python3"
  },
  "language_info": {
   "codemirror_mode": {
    "name": "ipython",
    "version": 3
   },
   "file_extension": ".py",
   "mimetype": "text/x-python",
   "name": "python",
   "nbconvert_exporter": "python",
   "pygments_lexer": "ipython3",
   "version": "3.12.1"
  }
 },
 "nbformat": 4,
 "nbformat_minor": 2
}
