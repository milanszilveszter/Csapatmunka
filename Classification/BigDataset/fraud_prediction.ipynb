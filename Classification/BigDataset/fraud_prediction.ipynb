{
 "cells": [
  {
   "cell_type": "markdown",
   "source": [
    "### 1. Importing packages"
   ],
   "metadata": {
    "collapsed": false
   }
  },
  {
   "cell_type": "code",
   "execution_count": 24,
   "metadata": {
    "collapsed": false,
    "ExecuteTime": {
     "end_time": "2024-04-23T11:44:56.675682Z",
     "start_time": "2024-04-23T11:44:56.658673Z"
    }
   },
   "outputs": [],
   "source": [
    "import pandas as pd\n",
    "import numpy as np"
   ]
  },
  {
   "cell_type": "markdown",
   "source": [
    "### Reading data from CSV"
   ],
   "metadata": {
    "collapsed": false
   }
  },
  {
   "cell_type": "code",
   "outputs": [],
   "source": [
    "df1 = pd.read_csv('fraud1.csv')\n",
    "df2 = pd.read_csv('fraud2.csv')\n",
    "\n",
    "df = pd.concat([df1, df2], axis=0)"
   ],
   "metadata": {
    "collapsed": false,
    "ExecuteTime": {
     "end_time": "2024-04-23T11:44:59.275682Z",
     "start_time": "2024-04-23T11:44:56.830673Z"
    }
   },
   "execution_count": 25
  },
  {
   "cell_type": "markdown",
   "source": [
    "### 3. Explanitory data analysis"
   ],
   "metadata": {
    "collapsed": false
   }
  },
  {
   "cell_type": "code",
   "outputs": [
    {
     "data": {
      "text/plain": "   Unnamed: 0 trans_date_trans_time        cc_num  \\\n0      303314      13/10/2020 15:20  4.040100e+18   \n1      303315      13/10/2020 15:20  6.759460e+11   \n2      303316      13/10/2020 15:21  3.590740e+15   \n3      303317      13/10/2020 15:21  3.560730e+15   \n4      303318      13/10/2020 15:22  3.598220e+15   \n5      303319      13/10/2020 15:22  4.783230e+12   \n6      303320      13/10/2020 15:23  2.254800e+15   \n7      303321      13/10/2020 15:24  3.599240e+15   \n8      303322      13/10/2020 15:24  3.725090e+14   \n9      303323      13/10/2020 15:24  4.839620e+15   \n\n                         merchant        category     amt     first  \\\n0  fraud_O'Reilly, Mohr and Purdy            home   73.87   Jeffrey   \n1                fraud_Little Ltd       kids_pets   33.58     Ellen   \n2  fraud_Witting, Beer and Ernser            home   81.54  Kimberly   \n3              fraud_Botsford PLC            home    2.11    Brooke   \n4                fraud_Feil-Morar  health_fitness  108.87    Ashley   \n5         fraud_Botsford and Sons            home   49.18   Jessica   \n6         fraud_Gaylord-Powlowski            home   23.57   Barbara   \n7    fraud_Runte, Green and Emard  health_fitness   17.54   Jessica   \n8             fraud_Daugherty LLC       kids_pets   21.47   Kristen   \n9   fraud_Weber, Thiel and Hammes       kids_pets   13.08   Phillip   \n\n        last gender                         street  ...      lat      long  \\\n0      Lewis      M             24255 Bryan Square  ...  48.3396 -102.2400   \n1      Smith      F                285 George Lake  ...  40.7687  -80.3592   \n2   Gonzalez      F    72966 Shannon Pass Apt. 391  ...  34.5091  -92.4828   \n3      Smith      F      63542 Luna Brook Apt. 012  ...  31.8599 -102.7413   \n4      Lopez      F           9333 Valentine Point  ...  40.6729  -73.5365   \n5     Garcia      F         13108 Jennifer Passage  ...  38.5957  -99.5540   \n6     Nelson      F  7337 Browning Falls Suite 027  ...  30.9460  -83.2474   \n7      Smith      F             06808 Ryan Valleys  ...  36.8421  -85.5396   \n8     Hanson      F              26544 Andrea Glen  ...  42.9147  -83.4845   \n9  Robertson      M   85344 Smith Gateway Apt. 280  ...  39.0130  -86.5457   \n\n   city_pop                        job         dob  \\\n0       229              Administrator  20/03/1983   \n1     28425                 Podiatrist  09/06/2000   \n2      4074    Scientist, audiological  20/12/1975   \n3        23             Cytogeneticist  15/09/1969   \n4     34496          Librarian, public  21/10/1970   \n5       320          Film/video editor  22/04/1961   \n6     94325   Educational psychologist  08/09/1987   \n7       341    Insurance risk surveyor  19/11/1932   \n8      6951  Learning disability nurse  18/06/1985   \n9        76          Social researcher  06/05/1955   \n\n                          trans_num   unix_time  merch_lat  merch_long  \\\n0  9a8814bcec9b307013104e228d5db947  1381677631  48.255785 -101.922094   \n1  079f264af629e4b9a0182a76cc6b15e4  1381677638  41.518135  -80.197989   \n2  cdb416d7083cce6f33a73d9762a40565  1381677681  35.131969  -93.427484   \n3  5805fe539d3c922eabd6154f2c6ecc13  1381677692  32.478239 -103.531981   \n4  1ef42a2020fb9c04150276c11e54c11c  1381677731  41.611123  -73.144977   \n5  5748ce2b36bd110fa64b9f00d37d8582  1381677761  38.859725  -99.899165   \n6  afd29eea2911771eb4b02936bdd420d8  1381677783  31.687506  -83.318579   \n7  c4ba006087c0d1344e1bb50a22ca544f  1381677857  37.262278  -85.324015   \n8  5ef1b9a42d8f43283b719ec011a760e4  1381677861  43.798307  -83.859396   \n9  90e4d80eaac22700fbad7f31c6896d26  1381677873  38.537302  -86.666665   \n\n   is_fraud  \n0         0  \n1         0  \n2         0  \n3         0  \n4         0  \n5         0  \n6         0  \n7         0  \n8         0  \n9         0  \n\n[10 rows x 23 columns]",
      "text/html": "<div>\n<style scoped>\n    .dataframe tbody tr th:only-of-type {\n        vertical-align: middle;\n    }\n\n    .dataframe tbody tr th {\n        vertical-align: top;\n    }\n\n    .dataframe thead th {\n        text-align: right;\n    }\n</style>\n<table border=\"1\" class=\"dataframe\">\n  <thead>\n    <tr style=\"text-align: right;\">\n      <th></th>\n      <th>Unnamed: 0</th>\n      <th>trans_date_trans_time</th>\n      <th>cc_num</th>\n      <th>merchant</th>\n      <th>category</th>\n      <th>amt</th>\n      <th>first</th>\n      <th>last</th>\n      <th>gender</th>\n      <th>street</th>\n      <th>...</th>\n      <th>lat</th>\n      <th>long</th>\n      <th>city_pop</th>\n      <th>job</th>\n      <th>dob</th>\n      <th>trans_num</th>\n      <th>unix_time</th>\n      <th>merch_lat</th>\n      <th>merch_long</th>\n      <th>is_fraud</th>\n    </tr>\n  </thead>\n  <tbody>\n    <tr>\n      <th>0</th>\n      <td>303314</td>\n      <td>13/10/2020 15:20</td>\n      <td>4.040100e+18</td>\n      <td>fraud_O'Reilly, Mohr and Purdy</td>\n      <td>home</td>\n      <td>73.87</td>\n      <td>Jeffrey</td>\n      <td>Lewis</td>\n      <td>M</td>\n      <td>24255 Bryan Square</td>\n      <td>...</td>\n      <td>48.3396</td>\n      <td>-102.2400</td>\n      <td>229</td>\n      <td>Administrator</td>\n      <td>20/03/1983</td>\n      <td>9a8814bcec9b307013104e228d5db947</td>\n      <td>1381677631</td>\n      <td>48.255785</td>\n      <td>-101.922094</td>\n      <td>0</td>\n    </tr>\n    <tr>\n      <th>1</th>\n      <td>303315</td>\n      <td>13/10/2020 15:20</td>\n      <td>6.759460e+11</td>\n      <td>fraud_Little Ltd</td>\n      <td>kids_pets</td>\n      <td>33.58</td>\n      <td>Ellen</td>\n      <td>Smith</td>\n      <td>F</td>\n      <td>285 George Lake</td>\n      <td>...</td>\n      <td>40.7687</td>\n      <td>-80.3592</td>\n      <td>28425</td>\n      <td>Podiatrist</td>\n      <td>09/06/2000</td>\n      <td>079f264af629e4b9a0182a76cc6b15e4</td>\n      <td>1381677638</td>\n      <td>41.518135</td>\n      <td>-80.197989</td>\n      <td>0</td>\n    </tr>\n    <tr>\n      <th>2</th>\n      <td>303316</td>\n      <td>13/10/2020 15:21</td>\n      <td>3.590740e+15</td>\n      <td>fraud_Witting, Beer and Ernser</td>\n      <td>home</td>\n      <td>81.54</td>\n      <td>Kimberly</td>\n      <td>Gonzalez</td>\n      <td>F</td>\n      <td>72966 Shannon Pass Apt. 391</td>\n      <td>...</td>\n      <td>34.5091</td>\n      <td>-92.4828</td>\n      <td>4074</td>\n      <td>Scientist, audiological</td>\n      <td>20/12/1975</td>\n      <td>cdb416d7083cce6f33a73d9762a40565</td>\n      <td>1381677681</td>\n      <td>35.131969</td>\n      <td>-93.427484</td>\n      <td>0</td>\n    </tr>\n    <tr>\n      <th>3</th>\n      <td>303317</td>\n      <td>13/10/2020 15:21</td>\n      <td>3.560730e+15</td>\n      <td>fraud_Botsford PLC</td>\n      <td>home</td>\n      <td>2.11</td>\n      <td>Brooke</td>\n      <td>Smith</td>\n      <td>F</td>\n      <td>63542 Luna Brook Apt. 012</td>\n      <td>...</td>\n      <td>31.8599</td>\n      <td>-102.7413</td>\n      <td>23</td>\n      <td>Cytogeneticist</td>\n      <td>15/09/1969</td>\n      <td>5805fe539d3c922eabd6154f2c6ecc13</td>\n      <td>1381677692</td>\n      <td>32.478239</td>\n      <td>-103.531981</td>\n      <td>0</td>\n    </tr>\n    <tr>\n      <th>4</th>\n      <td>303318</td>\n      <td>13/10/2020 15:22</td>\n      <td>3.598220e+15</td>\n      <td>fraud_Feil-Morar</td>\n      <td>health_fitness</td>\n      <td>108.87</td>\n      <td>Ashley</td>\n      <td>Lopez</td>\n      <td>F</td>\n      <td>9333 Valentine Point</td>\n      <td>...</td>\n      <td>40.6729</td>\n      <td>-73.5365</td>\n      <td>34496</td>\n      <td>Librarian, public</td>\n      <td>21/10/1970</td>\n      <td>1ef42a2020fb9c04150276c11e54c11c</td>\n      <td>1381677731</td>\n      <td>41.611123</td>\n      <td>-73.144977</td>\n      <td>0</td>\n    </tr>\n    <tr>\n      <th>5</th>\n      <td>303319</td>\n      <td>13/10/2020 15:22</td>\n      <td>4.783230e+12</td>\n      <td>fraud_Botsford and Sons</td>\n      <td>home</td>\n      <td>49.18</td>\n      <td>Jessica</td>\n      <td>Garcia</td>\n      <td>F</td>\n      <td>13108 Jennifer Passage</td>\n      <td>...</td>\n      <td>38.5957</td>\n      <td>-99.5540</td>\n      <td>320</td>\n      <td>Film/video editor</td>\n      <td>22/04/1961</td>\n      <td>5748ce2b36bd110fa64b9f00d37d8582</td>\n      <td>1381677761</td>\n      <td>38.859725</td>\n      <td>-99.899165</td>\n      <td>0</td>\n    </tr>\n    <tr>\n      <th>6</th>\n      <td>303320</td>\n      <td>13/10/2020 15:23</td>\n      <td>2.254800e+15</td>\n      <td>fraud_Gaylord-Powlowski</td>\n      <td>home</td>\n      <td>23.57</td>\n      <td>Barbara</td>\n      <td>Nelson</td>\n      <td>F</td>\n      <td>7337 Browning Falls Suite 027</td>\n      <td>...</td>\n      <td>30.9460</td>\n      <td>-83.2474</td>\n      <td>94325</td>\n      <td>Educational psychologist</td>\n      <td>08/09/1987</td>\n      <td>afd29eea2911771eb4b02936bdd420d8</td>\n      <td>1381677783</td>\n      <td>31.687506</td>\n      <td>-83.318579</td>\n      <td>0</td>\n    </tr>\n    <tr>\n      <th>7</th>\n      <td>303321</td>\n      <td>13/10/2020 15:24</td>\n      <td>3.599240e+15</td>\n      <td>fraud_Runte, Green and Emard</td>\n      <td>health_fitness</td>\n      <td>17.54</td>\n      <td>Jessica</td>\n      <td>Smith</td>\n      <td>F</td>\n      <td>06808 Ryan Valleys</td>\n      <td>...</td>\n      <td>36.8421</td>\n      <td>-85.5396</td>\n      <td>341</td>\n      <td>Insurance risk surveyor</td>\n      <td>19/11/1932</td>\n      <td>c4ba006087c0d1344e1bb50a22ca544f</td>\n      <td>1381677857</td>\n      <td>37.262278</td>\n      <td>-85.324015</td>\n      <td>0</td>\n    </tr>\n    <tr>\n      <th>8</th>\n      <td>303322</td>\n      <td>13/10/2020 15:24</td>\n      <td>3.725090e+14</td>\n      <td>fraud_Daugherty LLC</td>\n      <td>kids_pets</td>\n      <td>21.47</td>\n      <td>Kristen</td>\n      <td>Hanson</td>\n      <td>F</td>\n      <td>26544 Andrea Glen</td>\n      <td>...</td>\n      <td>42.9147</td>\n      <td>-83.4845</td>\n      <td>6951</td>\n      <td>Learning disability nurse</td>\n      <td>18/06/1985</td>\n      <td>5ef1b9a42d8f43283b719ec011a760e4</td>\n      <td>1381677861</td>\n      <td>43.798307</td>\n      <td>-83.859396</td>\n      <td>0</td>\n    </tr>\n    <tr>\n      <th>9</th>\n      <td>303323</td>\n      <td>13/10/2020 15:24</td>\n      <td>4.839620e+15</td>\n      <td>fraud_Weber, Thiel and Hammes</td>\n      <td>kids_pets</td>\n      <td>13.08</td>\n      <td>Phillip</td>\n      <td>Robertson</td>\n      <td>M</td>\n      <td>85344 Smith Gateway Apt. 280</td>\n      <td>...</td>\n      <td>39.0130</td>\n      <td>-86.5457</td>\n      <td>76</td>\n      <td>Social researcher</td>\n      <td>06/05/1955</td>\n      <td>90e4d80eaac22700fbad7f31c6896d26</td>\n      <td>1381677873</td>\n      <td>38.537302</td>\n      <td>-86.666665</td>\n      <td>0</td>\n    </tr>\n  </tbody>\n</table>\n<p>10 rows × 23 columns</p>\n</div>"
     },
     "execution_count": 26,
     "metadata": {},
     "output_type": "execute_result"
    }
   ],
   "source": [
    "df.head(10)"
   ],
   "metadata": {
    "collapsed": false,
    "ExecuteTime": {
     "end_time": "2024-04-23T11:44:59.306674Z",
     "start_time": "2024-04-23T11:44:59.278672Z"
    }
   },
   "execution_count": 26
  },
  {
   "cell_type": "code",
   "outputs": [],
   "source": [
    "df = df.drop('Unnamed: 0', axis='columns')"
   ],
   "metadata": {
    "collapsed": false,
    "ExecuteTime": {
     "end_time": "2024-04-23T11:44:59.397672Z",
     "start_time": "2024-04-23T11:44:59.308672Z"
    }
   },
   "execution_count": 27
  },
  {
   "cell_type": "code",
   "outputs": [
    {
     "data": {
      "text/plain": "trans_date_trans_time    0\ncc_num                   0\nmerchant                 0\ncategory                 0\namt                      0\nfirst                    0\nlast                     0\ngender                   0\nstreet                   0\ncity                     0\nstate                    0\nzip                      0\nlat                      0\nlong                     0\ncity_pop                 0\njob                      0\ndob                      0\ntrans_num                0\nunix_time                0\nmerch_lat                0\nmerch_long               0\nis_fraud                 0\ndtype: int64"
     },
     "execution_count": 28,
     "metadata": {},
     "output_type": "execute_result"
    }
   ],
   "source": [
    "df.isna().sum()"
   ],
   "metadata": {
    "collapsed": false,
    "ExecuteTime": {
     "end_time": "2024-04-23T11:44:59.602673Z",
     "start_time": "2024-04-23T11:44:59.400690Z"
    }
   },
   "execution_count": 28
  },
  {
   "cell_type": "code",
   "outputs": [
    {
     "data": {
      "text/plain": "trans_date_trans_time    0\ncc_num                   0\nmerchant                 0\ncategory                 0\namt                      0\nfirst                    0\nlast                     0\ngender                   0\nstreet                   0\ncity                     0\nstate                    0\nzip                      0\nlat                      0\nlong                     0\ncity_pop                 0\njob                      0\ndob                      0\ntrans_num                0\nunix_time                0\nmerch_lat                0\nmerch_long               0\nis_fraud                 0\ndtype: int64"
     },
     "execution_count": 29,
     "metadata": {},
     "output_type": "execute_result"
    }
   ],
   "source": [
    "df.isnull().sum()"
   ],
   "metadata": {
    "collapsed": false,
    "ExecuteTime": {
     "end_time": "2024-04-23T11:44:59.804682Z",
     "start_time": "2024-04-23T11:44:59.606672Z"
    }
   },
   "execution_count": 29
  },
  {
   "cell_type": "code",
   "outputs": [
    {
     "name": "stdout",
     "output_type": "stream",
     "text": [
      "<class 'pandas.core.frame.DataFrame'>\n",
      "Index: 555719 entries, 0 to 303313\n",
      "Data columns (total 22 columns):\n",
      " #   Column                 Non-Null Count   Dtype  \n",
      "---  ------                 --------------   -----  \n",
      " 0   trans_date_trans_time  555719 non-null  object \n",
      " 1   cc_num                 555719 non-null  float64\n",
      " 2   merchant               555719 non-null  object \n",
      " 3   category               555719 non-null  object \n",
      " 4   amt                    555719 non-null  float64\n",
      " 5   first                  555719 non-null  object \n",
      " 6   last                   555719 non-null  object \n",
      " 7   gender                 555719 non-null  object \n",
      " 8   street                 555719 non-null  object \n",
      " 9   city                   555719 non-null  object \n",
      " 10  state                  555719 non-null  object \n",
      " 11  zip                    555719 non-null  int64  \n",
      " 12  lat                    555719 non-null  float64\n",
      " 13  long                   555719 non-null  float64\n",
      " 14  city_pop               555719 non-null  int64  \n",
      " 15  job                    555719 non-null  object \n",
      " 16  dob                    555719 non-null  object \n",
      " 17  trans_num              555719 non-null  object \n",
      " 18  unix_time              555719 non-null  int64  \n",
      " 19  merch_lat              555719 non-null  float64\n",
      " 20  merch_long             555719 non-null  float64\n",
      " 21  is_fraud               555719 non-null  int64  \n",
      "dtypes: float64(6), int64(4), object(12)\n",
      "memory usage: 97.5+ MB\n"
     ]
    }
   ],
   "source": [
    "df.info()"
   ],
   "metadata": {
    "collapsed": false,
    "ExecuteTime": {
     "end_time": "2024-04-23T11:45:00.006682Z",
     "start_time": "2024-04-23T11:44:59.806671Z"
    }
   },
   "execution_count": 30
  },
  {
   "cell_type": "code",
   "outputs": [
    {
     "data": {
      "text/plain": "is_fraud\n0    553574\n1      2145\nName: count, dtype: int64"
     },
     "execution_count": 31,
     "metadata": {},
     "output_type": "execute_result"
    }
   ],
   "source": [
    "df['is_fraud'].value_counts()"
   ],
   "metadata": {
    "collapsed": false,
    "ExecuteTime": {
     "end_time": "2024-04-23T11:45:00.022673Z",
     "start_time": "2024-04-23T11:45:00.010672Z"
    }
   },
   "execution_count": 31
  },
  {
   "cell_type": "code",
   "outputs": [],
   "source": [
    "legit = df[df.is_fraud == 0]\n",
    "fraud = df[df.is_fraud == 1]"
   ],
   "metadata": {
    "collapsed": false,
    "ExecuteTime": {
     "end_time": "2024-04-23T11:45:00.161806Z",
     "start_time": "2024-04-23T11:45:00.025677Z"
    }
   },
   "execution_count": 32
  },
  {
   "cell_type": "code",
   "outputs": [],
   "source": [
    "legit_sample = legit.sample(n=2145)"
   ],
   "metadata": {
    "collapsed": false,
    "ExecuteTime": {
     "end_time": "2024-04-23T11:45:00.192807Z",
     "start_time": "2024-04-23T11:45:00.164797Z"
    }
   },
   "execution_count": 33
  },
  {
   "cell_type": "code",
   "outputs": [
    {
     "data": {
      "text/plain": "       trans_date_trans_time        cc_num  \\\n97028       25/07/2020 11:11  2.131610e+14   \n78533       18/07/2020 23:50  3.575790e+15   \n280506      04/10/2020 08:40  3.755340e+14   \n265367      27/09/2020 16:20  2.131910e+14   \n148587      11/08/2020 19:16  4.026220e+12   \n...                      ...           ...   \n301402      12/10/2020 22:41  5.456710e+15   \n301528      12/10/2020 23:28  3.853050e+13   \n301600      12/10/2020 23:57  3.853050e+13   \n301866      13/10/2020 02:57  4.129770e+15   \n301881      13/10/2020 03:07  4.129770e+15   \n\n                                     merchant        category      amt  \\\n97028                   fraud_Rodriguez Group   gas_transport    91.75   \n78533   fraud_Bahringer, Bergnaum and Quitzon            home     8.67   \n280506                fraud_Bartoletti-Wunsch   gas_transport    65.37   \n265367                         fraud_Kuhn LLC    shopping_pos     1.89   \n148587                      fraud_Dare-Marvin   entertainment   148.37   \n...                                       ...             ...      ...   \n301402                  fraud_Kirlin and Sons   personal_care    51.86   \n301528                   fraud_Torphy-Goyette    shopping_pos  1030.78   \n301600                    fraud_Romaguera Ltd  health_fitness    19.11   \n301866                     fraud_Bednar Group        misc_net   898.83   \n301881                    fraud_Flatley Group        misc_pos   751.63   \n\n            first      last gender                            street  \\\n97028   Catherine     Weber      F  74890 Rodriguez Springs Apt. 540   \n78533     Lindsay    Wilson      F             7618 Gonzales Mission   \n280506      Tyler    Garcia      M                  408 Bradley Rest   \n265367     Thomas  Sullivan      M              464 Newman Crossroad   \n148587     Debbie     Payne      F          204 Ashley Neck Apt. 169   \n...           ...       ...    ...                               ...   \n301402     Pamela  Matthews      F         36659 Smith Club Apt. 080   \n301528      Laura     Johns      F                  95835 Garcia Rue   \n301600      Laura     Johns      F                  95835 Garcia Rue   \n301866     Cheryl   Ballard      F        248 James Squares Apt. 838   \n301881     Cheryl   Ballard      F        248 James Squares Apt. 838   \n\n                  city  ...      lat      long  city_pop  \\\n97028   West Henrietta  ...  43.0397  -77.6871     10256   \n78533       Centerview  ...  38.7897  -93.8702      2368   \n280506        Doe Hill  ...  38.4207  -79.4629        99   \n265367       Milwaukee  ...  42.9676  -88.0434    817312   \n148587         Preston  ...  41.5224  -71.9934      4720   \n...                ...  ...      ...       ...       ...   \n301402           Llano  ...  36.1486 -105.6648       247   \n301528         Arcadia  ...  34.9572  -81.9916       530   \n301600         Arcadia  ...  34.9572  -81.9916       530   \n301866         Halstad  ...  47.3551  -96.7980       771   \n301881         Halstad  ...  47.3551  -96.7980       771   \n\n                                         job         dob  \\\n97028                Teacher, primary school  24/06/1968   \n78533                   Electronics engineer  17/07/1989   \n280506        Dance movement psychotherapist  28/03/1986   \n265367  Accountant, chartered public finance  18/03/2004   \n148587                   Broadcast presenter  18/05/1977   \n...                                      ...         ...   \n301402            Architectural technologist  24/10/1961   \n301528                   Animal technologist  14/05/1989   \n301600                   Animal technologist  14/05/1989   \n301866               Scientist, audiological  14/06/1972   \n301881               Scientist, audiological  14/06/1972   \n\n                               trans_num   unix_time  merch_lat  merch_long  \\\n97028   c0e0cb7771d2eb2b17d9aadd5443aadb  1374750702  43.430410  -77.891348   \n78533   82fbb5d23b9166354bfc8946f8ef229f  1374191448  39.171559  -94.143015   \n280506  fd608f72556144a42fad50afc8ebe21b  1380876019  37.483108  -78.647533   \n265367  8daea37b534139f39c5bac7d35fb50e6  1380298846  42.153345  -88.481495   \n148587  567c7d1a73ac2807c6a8541d39e000f2  1376248613  42.196635  -71.938198   \n...                                  ...         ...        ...         ...   \n301402  1189ac7889edcffbdaf1da0f44056d73  1381617712  35.672329 -106.219095   \n301528  1faa1c90ecf2f5419c4f838fc420139d  1381620495  34.730612  -82.966095   \n301600  3c0c836563618c8a40857d8d714cabd3  1381622278  35.052178  -81.245327   \n301866  2bf5044c1b44ba912cd3700755b4eac2  1381633026  48.192149  -96.998591   \n301881  69fd58dc601de4598d514848395463b9  1381633626  46.961592  -97.504919   \n\n        is_fraud  \n97028          0  \n78533          0  \n280506         0  \n265367         0  \n148587         0  \n...          ...  \n301402         1  \n301528         1  \n301600         1  \n301866         1  \n301881         1  \n\n[4290 rows x 22 columns]",
      "text/html": "<div>\n<style scoped>\n    .dataframe tbody tr th:only-of-type {\n        vertical-align: middle;\n    }\n\n    .dataframe tbody tr th {\n        vertical-align: top;\n    }\n\n    .dataframe thead th {\n        text-align: right;\n    }\n</style>\n<table border=\"1\" class=\"dataframe\">\n  <thead>\n    <tr style=\"text-align: right;\">\n      <th></th>\n      <th>trans_date_trans_time</th>\n      <th>cc_num</th>\n      <th>merchant</th>\n      <th>category</th>\n      <th>amt</th>\n      <th>first</th>\n      <th>last</th>\n      <th>gender</th>\n      <th>street</th>\n      <th>city</th>\n      <th>...</th>\n      <th>lat</th>\n      <th>long</th>\n      <th>city_pop</th>\n      <th>job</th>\n      <th>dob</th>\n      <th>trans_num</th>\n      <th>unix_time</th>\n      <th>merch_lat</th>\n      <th>merch_long</th>\n      <th>is_fraud</th>\n    </tr>\n  </thead>\n  <tbody>\n    <tr>\n      <th>97028</th>\n      <td>25/07/2020 11:11</td>\n      <td>2.131610e+14</td>\n      <td>fraud_Rodriguez Group</td>\n      <td>gas_transport</td>\n      <td>91.75</td>\n      <td>Catherine</td>\n      <td>Weber</td>\n      <td>F</td>\n      <td>74890 Rodriguez Springs Apt. 540</td>\n      <td>West Henrietta</td>\n      <td>...</td>\n      <td>43.0397</td>\n      <td>-77.6871</td>\n      <td>10256</td>\n      <td>Teacher, primary school</td>\n      <td>24/06/1968</td>\n      <td>c0e0cb7771d2eb2b17d9aadd5443aadb</td>\n      <td>1374750702</td>\n      <td>43.430410</td>\n      <td>-77.891348</td>\n      <td>0</td>\n    </tr>\n    <tr>\n      <th>78533</th>\n      <td>18/07/2020 23:50</td>\n      <td>3.575790e+15</td>\n      <td>fraud_Bahringer, Bergnaum and Quitzon</td>\n      <td>home</td>\n      <td>8.67</td>\n      <td>Lindsay</td>\n      <td>Wilson</td>\n      <td>F</td>\n      <td>7618 Gonzales Mission</td>\n      <td>Centerview</td>\n      <td>...</td>\n      <td>38.7897</td>\n      <td>-93.8702</td>\n      <td>2368</td>\n      <td>Electronics engineer</td>\n      <td>17/07/1989</td>\n      <td>82fbb5d23b9166354bfc8946f8ef229f</td>\n      <td>1374191448</td>\n      <td>39.171559</td>\n      <td>-94.143015</td>\n      <td>0</td>\n    </tr>\n    <tr>\n      <th>280506</th>\n      <td>04/10/2020 08:40</td>\n      <td>3.755340e+14</td>\n      <td>fraud_Bartoletti-Wunsch</td>\n      <td>gas_transport</td>\n      <td>65.37</td>\n      <td>Tyler</td>\n      <td>Garcia</td>\n      <td>M</td>\n      <td>408 Bradley Rest</td>\n      <td>Doe Hill</td>\n      <td>...</td>\n      <td>38.4207</td>\n      <td>-79.4629</td>\n      <td>99</td>\n      <td>Dance movement psychotherapist</td>\n      <td>28/03/1986</td>\n      <td>fd608f72556144a42fad50afc8ebe21b</td>\n      <td>1380876019</td>\n      <td>37.483108</td>\n      <td>-78.647533</td>\n      <td>0</td>\n    </tr>\n    <tr>\n      <th>265367</th>\n      <td>27/09/2020 16:20</td>\n      <td>2.131910e+14</td>\n      <td>fraud_Kuhn LLC</td>\n      <td>shopping_pos</td>\n      <td>1.89</td>\n      <td>Thomas</td>\n      <td>Sullivan</td>\n      <td>M</td>\n      <td>464 Newman Crossroad</td>\n      <td>Milwaukee</td>\n      <td>...</td>\n      <td>42.9676</td>\n      <td>-88.0434</td>\n      <td>817312</td>\n      <td>Accountant, chartered public finance</td>\n      <td>18/03/2004</td>\n      <td>8daea37b534139f39c5bac7d35fb50e6</td>\n      <td>1380298846</td>\n      <td>42.153345</td>\n      <td>-88.481495</td>\n      <td>0</td>\n    </tr>\n    <tr>\n      <th>148587</th>\n      <td>11/08/2020 19:16</td>\n      <td>4.026220e+12</td>\n      <td>fraud_Dare-Marvin</td>\n      <td>entertainment</td>\n      <td>148.37</td>\n      <td>Debbie</td>\n      <td>Payne</td>\n      <td>F</td>\n      <td>204 Ashley Neck Apt. 169</td>\n      <td>Preston</td>\n      <td>...</td>\n      <td>41.5224</td>\n      <td>-71.9934</td>\n      <td>4720</td>\n      <td>Broadcast presenter</td>\n      <td>18/05/1977</td>\n      <td>567c7d1a73ac2807c6a8541d39e000f2</td>\n      <td>1376248613</td>\n      <td>42.196635</td>\n      <td>-71.938198</td>\n      <td>0</td>\n    </tr>\n    <tr>\n      <th>...</th>\n      <td>...</td>\n      <td>...</td>\n      <td>...</td>\n      <td>...</td>\n      <td>...</td>\n      <td>...</td>\n      <td>...</td>\n      <td>...</td>\n      <td>...</td>\n      <td>...</td>\n      <td>...</td>\n      <td>...</td>\n      <td>...</td>\n      <td>...</td>\n      <td>...</td>\n      <td>...</td>\n      <td>...</td>\n      <td>...</td>\n      <td>...</td>\n      <td>...</td>\n      <td>...</td>\n    </tr>\n    <tr>\n      <th>301402</th>\n      <td>12/10/2020 22:41</td>\n      <td>5.456710e+15</td>\n      <td>fraud_Kirlin and Sons</td>\n      <td>personal_care</td>\n      <td>51.86</td>\n      <td>Pamela</td>\n      <td>Matthews</td>\n      <td>F</td>\n      <td>36659 Smith Club Apt. 080</td>\n      <td>Llano</td>\n      <td>...</td>\n      <td>36.1486</td>\n      <td>-105.6648</td>\n      <td>247</td>\n      <td>Architectural technologist</td>\n      <td>24/10/1961</td>\n      <td>1189ac7889edcffbdaf1da0f44056d73</td>\n      <td>1381617712</td>\n      <td>35.672329</td>\n      <td>-106.219095</td>\n      <td>1</td>\n    </tr>\n    <tr>\n      <th>301528</th>\n      <td>12/10/2020 23:28</td>\n      <td>3.853050e+13</td>\n      <td>fraud_Torphy-Goyette</td>\n      <td>shopping_pos</td>\n      <td>1030.78</td>\n      <td>Laura</td>\n      <td>Johns</td>\n      <td>F</td>\n      <td>95835 Garcia Rue</td>\n      <td>Arcadia</td>\n      <td>...</td>\n      <td>34.9572</td>\n      <td>-81.9916</td>\n      <td>530</td>\n      <td>Animal technologist</td>\n      <td>14/05/1989</td>\n      <td>1faa1c90ecf2f5419c4f838fc420139d</td>\n      <td>1381620495</td>\n      <td>34.730612</td>\n      <td>-82.966095</td>\n      <td>1</td>\n    </tr>\n    <tr>\n      <th>301600</th>\n      <td>12/10/2020 23:57</td>\n      <td>3.853050e+13</td>\n      <td>fraud_Romaguera Ltd</td>\n      <td>health_fitness</td>\n      <td>19.11</td>\n      <td>Laura</td>\n      <td>Johns</td>\n      <td>F</td>\n      <td>95835 Garcia Rue</td>\n      <td>Arcadia</td>\n      <td>...</td>\n      <td>34.9572</td>\n      <td>-81.9916</td>\n      <td>530</td>\n      <td>Animal technologist</td>\n      <td>14/05/1989</td>\n      <td>3c0c836563618c8a40857d8d714cabd3</td>\n      <td>1381622278</td>\n      <td>35.052178</td>\n      <td>-81.245327</td>\n      <td>1</td>\n    </tr>\n    <tr>\n      <th>301866</th>\n      <td>13/10/2020 02:57</td>\n      <td>4.129770e+15</td>\n      <td>fraud_Bednar Group</td>\n      <td>misc_net</td>\n      <td>898.83</td>\n      <td>Cheryl</td>\n      <td>Ballard</td>\n      <td>F</td>\n      <td>248 James Squares Apt. 838</td>\n      <td>Halstad</td>\n      <td>...</td>\n      <td>47.3551</td>\n      <td>-96.7980</td>\n      <td>771</td>\n      <td>Scientist, audiological</td>\n      <td>14/06/1972</td>\n      <td>2bf5044c1b44ba912cd3700755b4eac2</td>\n      <td>1381633026</td>\n      <td>48.192149</td>\n      <td>-96.998591</td>\n      <td>1</td>\n    </tr>\n    <tr>\n      <th>301881</th>\n      <td>13/10/2020 03:07</td>\n      <td>4.129770e+15</td>\n      <td>fraud_Flatley Group</td>\n      <td>misc_pos</td>\n      <td>751.63</td>\n      <td>Cheryl</td>\n      <td>Ballard</td>\n      <td>F</td>\n      <td>248 James Squares Apt. 838</td>\n      <td>Halstad</td>\n      <td>...</td>\n      <td>47.3551</td>\n      <td>-96.7980</td>\n      <td>771</td>\n      <td>Scientist, audiological</td>\n      <td>14/06/1972</td>\n      <td>69fd58dc601de4598d514848395463b9</td>\n      <td>1381633626</td>\n      <td>46.961592</td>\n      <td>-97.504919</td>\n      <td>1</td>\n    </tr>\n  </tbody>\n</table>\n<p>4290 rows × 22 columns</p>\n</div>"
     },
     "execution_count": 34,
     "metadata": {},
     "output_type": "execute_result"
    }
   ],
   "source": [
    "merged_card_data = pd.concat([legit_sample, fraud], axis=0)\n",
    "merged_card_data"
   ],
   "metadata": {
    "collapsed": false,
    "ExecuteTime": {
     "end_time": "2024-04-23T11:45:00.239807Z",
     "start_time": "2024-04-23T11:45:00.194796Z"
    }
   },
   "execution_count": 34
  },
  {
   "cell_type": "code",
   "outputs": [
    {
     "data": {
      "text/plain": "is_fraud\n0    2145\n1    2145\nName: count, dtype: int64"
     },
     "execution_count": 35,
     "metadata": {},
     "output_type": "execute_result"
    }
   ],
   "source": [
    "merged_card_data['is_fraud'].value_counts()"
   ],
   "metadata": {
    "collapsed": false,
    "ExecuteTime": {
     "end_time": "2024-04-23T11:45:00.254797Z",
     "start_time": "2024-04-23T11:45:00.241795Z"
    }
   },
   "execution_count": 35
  },
  {
   "cell_type": "code",
   "outputs": [
    {
     "data": {
      "text/plain": "gender\nF    2362\nM    1928\nName: count, dtype: int64"
     },
     "execution_count": 36,
     "metadata": {},
     "output_type": "execute_result"
    }
   ],
   "source": [
    "merged_card_data['gender'].value_counts()"
   ],
   "metadata": {
    "collapsed": false,
    "ExecuteTime": {
     "end_time": "2024-04-23T11:45:00.270796Z",
     "start_time": "2024-04-23T11:45:00.256796Z"
    }
   },
   "execution_count": 36
  },
  {
   "cell_type": "code",
   "outputs": [],
   "source": [
    "merged_card_data.drop(columns = ['trans_date_trans_time', 'first', 'last', 'street', 'city_pop', 'unix_time', 'trans_num'], axis = 1, inplace = True)"
   ],
   "metadata": {
    "collapsed": false,
    "ExecuteTime": {
     "end_time": "2024-04-23T11:45:00.285794Z",
     "start_time": "2024-04-23T11:45:00.272794Z"
    }
   },
   "execution_count": 37
  },
  {
   "cell_type": "code",
   "outputs": [
    {
     "data": {
      "text/plain": "(4290, 15)"
     },
     "execution_count": 38,
     "metadata": {},
     "output_type": "execute_result"
    }
   ],
   "source": [
    "merged_card_data.shape"
   ],
   "metadata": {
    "collapsed": false,
    "ExecuteTime": {
     "end_time": "2024-04-23T11:45:00.300795Z",
     "start_time": "2024-04-23T11:45:00.289798Z"
    }
   },
   "execution_count": 38
  },
  {
   "cell_type": "code",
   "outputs": [
    {
     "data": {
      "text/plain": "              cc_num                               merchant        category  \\\n97028   2.131610e+14                  fraud_Rodriguez Group   gas_transport   \n78533   3.575790e+15  fraud_Bahringer, Bergnaum and Quitzon            home   \n280506  3.755340e+14                fraud_Bartoletti-Wunsch   gas_transport   \n265367  2.131910e+14                         fraud_Kuhn LLC    shopping_pos   \n148587  4.026220e+12                      fraud_Dare-Marvin   entertainment   \n...              ...                                    ...             ...   \n301402  5.456710e+15                  fraud_Kirlin and Sons   personal_care   \n301528  3.853050e+13                   fraud_Torphy-Goyette    shopping_pos   \n301600  3.853050e+13                    fraud_Romaguera Ltd  health_fitness   \n301866  4.129770e+15                     fraud_Bednar Group        misc_net   \n301881  4.129770e+15                    fraud_Flatley Group        misc_pos   \n\n            amt gender            city state    zip      lat      long  \\\n97028     91.75      F  West Henrietta    NY  14586  43.0397  -77.6871   \n78533      8.67      F      Centerview    MO  64019  38.7897  -93.8702   \n280506    65.37      M        Doe Hill    VA  24433  38.4207  -79.4629   \n265367     1.89      M       Milwaukee    WI  53228  42.9676  -88.0434   \n148587   148.37      F         Preston    CT   6365  41.5224  -71.9934   \n...         ...    ...             ...   ...    ...      ...       ...   \n301402    51.86      F           Llano    NM  87543  36.1486 -105.6648   \n301528  1030.78      F         Arcadia    SC  29320  34.9572  -81.9916   \n301600    19.11      F         Arcadia    SC  29320  34.9572  -81.9916   \n301866   898.83      F         Halstad    MN  56548  47.3551  -96.7980   \n301881   751.63      F         Halstad    MN  56548  47.3551  -96.7980   \n\n                                         job         dob  merch_lat  \\\n97028                Teacher, primary school  24/06/1968  43.430410   \n78533                   Electronics engineer  17/07/1989  39.171559   \n280506        Dance movement psychotherapist  28/03/1986  37.483108   \n265367  Accountant, chartered public finance  18/03/2004  42.153345   \n148587                   Broadcast presenter  18/05/1977  42.196635   \n...                                      ...         ...        ...   \n301402            Architectural technologist  24/10/1961  35.672329   \n301528                   Animal technologist  14/05/1989  34.730612   \n301600                   Animal technologist  14/05/1989  35.052178   \n301866               Scientist, audiological  14/06/1972  48.192149   \n301881               Scientist, audiological  14/06/1972  46.961592   \n\n        merch_long  is_fraud  \n97028   -77.891348         0  \n78533   -94.143015         0  \n280506  -78.647533         0  \n265367  -88.481495         0  \n148587  -71.938198         0  \n...            ...       ...  \n301402 -106.219095         1  \n301528  -82.966095         1  \n301600  -81.245327         1  \n301866  -96.998591         1  \n301881  -97.504919         1  \n\n[4290 rows x 15 columns]",
      "text/html": "<div>\n<style scoped>\n    .dataframe tbody tr th:only-of-type {\n        vertical-align: middle;\n    }\n\n    .dataframe tbody tr th {\n        vertical-align: top;\n    }\n\n    .dataframe thead th {\n        text-align: right;\n    }\n</style>\n<table border=\"1\" class=\"dataframe\">\n  <thead>\n    <tr style=\"text-align: right;\">\n      <th></th>\n      <th>cc_num</th>\n      <th>merchant</th>\n      <th>category</th>\n      <th>amt</th>\n      <th>gender</th>\n      <th>city</th>\n      <th>state</th>\n      <th>zip</th>\n      <th>lat</th>\n      <th>long</th>\n      <th>job</th>\n      <th>dob</th>\n      <th>merch_lat</th>\n      <th>merch_long</th>\n      <th>is_fraud</th>\n    </tr>\n  </thead>\n  <tbody>\n    <tr>\n      <th>97028</th>\n      <td>2.131610e+14</td>\n      <td>fraud_Rodriguez Group</td>\n      <td>gas_transport</td>\n      <td>91.75</td>\n      <td>F</td>\n      <td>West Henrietta</td>\n      <td>NY</td>\n      <td>14586</td>\n      <td>43.0397</td>\n      <td>-77.6871</td>\n      <td>Teacher, primary school</td>\n      <td>24/06/1968</td>\n      <td>43.430410</td>\n      <td>-77.891348</td>\n      <td>0</td>\n    </tr>\n    <tr>\n      <th>78533</th>\n      <td>3.575790e+15</td>\n      <td>fraud_Bahringer, Bergnaum and Quitzon</td>\n      <td>home</td>\n      <td>8.67</td>\n      <td>F</td>\n      <td>Centerview</td>\n      <td>MO</td>\n      <td>64019</td>\n      <td>38.7897</td>\n      <td>-93.8702</td>\n      <td>Electronics engineer</td>\n      <td>17/07/1989</td>\n      <td>39.171559</td>\n      <td>-94.143015</td>\n      <td>0</td>\n    </tr>\n    <tr>\n      <th>280506</th>\n      <td>3.755340e+14</td>\n      <td>fraud_Bartoletti-Wunsch</td>\n      <td>gas_transport</td>\n      <td>65.37</td>\n      <td>M</td>\n      <td>Doe Hill</td>\n      <td>VA</td>\n      <td>24433</td>\n      <td>38.4207</td>\n      <td>-79.4629</td>\n      <td>Dance movement psychotherapist</td>\n      <td>28/03/1986</td>\n      <td>37.483108</td>\n      <td>-78.647533</td>\n      <td>0</td>\n    </tr>\n    <tr>\n      <th>265367</th>\n      <td>2.131910e+14</td>\n      <td>fraud_Kuhn LLC</td>\n      <td>shopping_pos</td>\n      <td>1.89</td>\n      <td>M</td>\n      <td>Milwaukee</td>\n      <td>WI</td>\n      <td>53228</td>\n      <td>42.9676</td>\n      <td>-88.0434</td>\n      <td>Accountant, chartered public finance</td>\n      <td>18/03/2004</td>\n      <td>42.153345</td>\n      <td>-88.481495</td>\n      <td>0</td>\n    </tr>\n    <tr>\n      <th>148587</th>\n      <td>4.026220e+12</td>\n      <td>fraud_Dare-Marvin</td>\n      <td>entertainment</td>\n      <td>148.37</td>\n      <td>F</td>\n      <td>Preston</td>\n      <td>CT</td>\n      <td>6365</td>\n      <td>41.5224</td>\n      <td>-71.9934</td>\n      <td>Broadcast presenter</td>\n      <td>18/05/1977</td>\n      <td>42.196635</td>\n      <td>-71.938198</td>\n      <td>0</td>\n    </tr>\n    <tr>\n      <th>...</th>\n      <td>...</td>\n      <td>...</td>\n      <td>...</td>\n      <td>...</td>\n      <td>...</td>\n      <td>...</td>\n      <td>...</td>\n      <td>...</td>\n      <td>...</td>\n      <td>...</td>\n      <td>...</td>\n      <td>...</td>\n      <td>...</td>\n      <td>...</td>\n      <td>...</td>\n    </tr>\n    <tr>\n      <th>301402</th>\n      <td>5.456710e+15</td>\n      <td>fraud_Kirlin and Sons</td>\n      <td>personal_care</td>\n      <td>51.86</td>\n      <td>F</td>\n      <td>Llano</td>\n      <td>NM</td>\n      <td>87543</td>\n      <td>36.1486</td>\n      <td>-105.6648</td>\n      <td>Architectural technologist</td>\n      <td>24/10/1961</td>\n      <td>35.672329</td>\n      <td>-106.219095</td>\n      <td>1</td>\n    </tr>\n    <tr>\n      <th>301528</th>\n      <td>3.853050e+13</td>\n      <td>fraud_Torphy-Goyette</td>\n      <td>shopping_pos</td>\n      <td>1030.78</td>\n      <td>F</td>\n      <td>Arcadia</td>\n      <td>SC</td>\n      <td>29320</td>\n      <td>34.9572</td>\n      <td>-81.9916</td>\n      <td>Animal technologist</td>\n      <td>14/05/1989</td>\n      <td>34.730612</td>\n      <td>-82.966095</td>\n      <td>1</td>\n    </tr>\n    <tr>\n      <th>301600</th>\n      <td>3.853050e+13</td>\n      <td>fraud_Romaguera Ltd</td>\n      <td>health_fitness</td>\n      <td>19.11</td>\n      <td>F</td>\n      <td>Arcadia</td>\n      <td>SC</td>\n      <td>29320</td>\n      <td>34.9572</td>\n      <td>-81.9916</td>\n      <td>Animal technologist</td>\n      <td>14/05/1989</td>\n      <td>35.052178</td>\n      <td>-81.245327</td>\n      <td>1</td>\n    </tr>\n    <tr>\n      <th>301866</th>\n      <td>4.129770e+15</td>\n      <td>fraud_Bednar Group</td>\n      <td>misc_net</td>\n      <td>898.83</td>\n      <td>F</td>\n      <td>Halstad</td>\n      <td>MN</td>\n      <td>56548</td>\n      <td>47.3551</td>\n      <td>-96.7980</td>\n      <td>Scientist, audiological</td>\n      <td>14/06/1972</td>\n      <td>48.192149</td>\n      <td>-96.998591</td>\n      <td>1</td>\n    </tr>\n    <tr>\n      <th>301881</th>\n      <td>4.129770e+15</td>\n      <td>fraud_Flatley Group</td>\n      <td>misc_pos</td>\n      <td>751.63</td>\n      <td>F</td>\n      <td>Halstad</td>\n      <td>MN</td>\n      <td>56548</td>\n      <td>47.3551</td>\n      <td>-96.7980</td>\n      <td>Scientist, audiological</td>\n      <td>14/06/1972</td>\n      <td>46.961592</td>\n      <td>-97.504919</td>\n      <td>1</td>\n    </tr>\n  </tbody>\n</table>\n<p>4290 rows × 15 columns</p>\n</div>"
     },
     "execution_count": 39,
     "metadata": {},
     "output_type": "execute_result"
    }
   ],
   "source": [
    "merged_card_data"
   ],
   "metadata": {
    "collapsed": false,
    "ExecuteTime": {
     "end_time": "2024-04-23T11:45:00.331806Z",
     "start_time": "2024-04-23T11:45:00.302796Z"
    }
   },
   "execution_count": 39
  },
  {
   "cell_type": "markdown",
   "source": [
    "### 4. Feature Engineering"
   ],
   "metadata": {
    "collapsed": false
   }
  },
  {
   "cell_type": "code",
   "outputs": [
    {
     "data": {
      "text/plain": "              cc_num                               merchant        category  \\\n97028   2.131610e+14                  fraud_Rodriguez Group   gas_transport   \n78533   3.575790e+15  fraud_Bahringer, Bergnaum and Quitzon            home   \n280506  3.755340e+14                fraud_Bartoletti-Wunsch   gas_transport   \n265367  2.131910e+14                         fraud_Kuhn LLC    shopping_pos   \n148587  4.026220e+12                      fraud_Dare-Marvin   entertainment   \n...              ...                                    ...             ...   \n301402  5.456710e+15                  fraud_Kirlin and Sons   personal_care   \n301528  3.853050e+13                   fraud_Torphy-Goyette    shopping_pos   \n301600  3.853050e+13                    fraud_Romaguera Ltd  health_fitness   \n301866  4.129770e+15                     fraud_Bednar Group        misc_net   \n301881  4.129770e+15                    fraud_Flatley Group        misc_pos   \n\n            amt gender      lat      long  \\\n97028     91.75      F  43.0397  -77.6871   \n78533      8.67      F  38.7897  -93.8702   \n280506    65.37      M  38.4207  -79.4629   \n265367     1.89      M  42.9676  -88.0434   \n148587   148.37      F  41.5224  -71.9934   \n...         ...    ...      ...       ...   \n301402    51.86      F  36.1486 -105.6648   \n301528  1030.78      F  34.9572  -81.9916   \n301600    19.11      F  34.9572  -81.9916   \n301866   898.83      F  47.3551  -96.7980   \n301881   751.63      F  47.3551  -96.7980   \n\n                                         job         dob  merch_lat  \\\n97028                Teacher, primary school  24/06/1968  43.430410   \n78533                   Electronics engineer  17/07/1989  39.171559   \n280506        Dance movement psychotherapist  28/03/1986  37.483108   \n265367  Accountant, chartered public finance  18/03/2004  42.153345   \n148587                   Broadcast presenter  18/05/1977  42.196635   \n...                                      ...         ...        ...   \n301402            Architectural technologist  24/10/1961  35.672329   \n301528                   Animal technologist  14/05/1989  34.730612   \n301600                   Animal technologist  14/05/1989  35.052178   \n301866               Scientist, audiological  14/06/1972  48.192149   \n301881               Scientist, audiological  14/06/1972  46.961592   \n\n        merch_long  is_fraud                   location  \n97028   -77.891348         0  West Henrietta, NY, 14586  \n78533   -94.143015         0      Centerview, MO, 64019  \n280506  -78.647533         0        Doe Hill, VA, 24433  \n265367  -88.481495         0       Milwaukee, WI, 53228  \n148587  -71.938198         0          Preston, CT, 6365  \n...            ...       ...                        ...  \n301402 -106.219095         1           Llano, NM, 87543  \n301528  -82.966095         1         Arcadia, SC, 29320  \n301600  -81.245327         1         Arcadia, SC, 29320  \n301866  -96.998591         1         Halstad, MN, 56548  \n301881  -97.504919         1         Halstad, MN, 56548  \n\n[4290 rows x 13 columns]",
      "text/html": "<div>\n<style scoped>\n    .dataframe tbody tr th:only-of-type {\n        vertical-align: middle;\n    }\n\n    .dataframe tbody tr th {\n        vertical-align: top;\n    }\n\n    .dataframe thead th {\n        text-align: right;\n    }\n</style>\n<table border=\"1\" class=\"dataframe\">\n  <thead>\n    <tr style=\"text-align: right;\">\n      <th></th>\n      <th>cc_num</th>\n      <th>merchant</th>\n      <th>category</th>\n      <th>amt</th>\n      <th>gender</th>\n      <th>lat</th>\n      <th>long</th>\n      <th>job</th>\n      <th>dob</th>\n      <th>merch_lat</th>\n      <th>merch_long</th>\n      <th>is_fraud</th>\n      <th>location</th>\n    </tr>\n  </thead>\n  <tbody>\n    <tr>\n      <th>97028</th>\n      <td>2.131610e+14</td>\n      <td>fraud_Rodriguez Group</td>\n      <td>gas_transport</td>\n      <td>91.75</td>\n      <td>F</td>\n      <td>43.0397</td>\n      <td>-77.6871</td>\n      <td>Teacher, primary school</td>\n      <td>24/06/1968</td>\n      <td>43.430410</td>\n      <td>-77.891348</td>\n      <td>0</td>\n      <td>West Henrietta, NY, 14586</td>\n    </tr>\n    <tr>\n      <th>78533</th>\n      <td>3.575790e+15</td>\n      <td>fraud_Bahringer, Bergnaum and Quitzon</td>\n      <td>home</td>\n      <td>8.67</td>\n      <td>F</td>\n      <td>38.7897</td>\n      <td>-93.8702</td>\n      <td>Electronics engineer</td>\n      <td>17/07/1989</td>\n      <td>39.171559</td>\n      <td>-94.143015</td>\n      <td>0</td>\n      <td>Centerview, MO, 64019</td>\n    </tr>\n    <tr>\n      <th>280506</th>\n      <td>3.755340e+14</td>\n      <td>fraud_Bartoletti-Wunsch</td>\n      <td>gas_transport</td>\n      <td>65.37</td>\n      <td>M</td>\n      <td>38.4207</td>\n      <td>-79.4629</td>\n      <td>Dance movement psychotherapist</td>\n      <td>28/03/1986</td>\n      <td>37.483108</td>\n      <td>-78.647533</td>\n      <td>0</td>\n      <td>Doe Hill, VA, 24433</td>\n    </tr>\n    <tr>\n      <th>265367</th>\n      <td>2.131910e+14</td>\n      <td>fraud_Kuhn LLC</td>\n      <td>shopping_pos</td>\n      <td>1.89</td>\n      <td>M</td>\n      <td>42.9676</td>\n      <td>-88.0434</td>\n      <td>Accountant, chartered public finance</td>\n      <td>18/03/2004</td>\n      <td>42.153345</td>\n      <td>-88.481495</td>\n      <td>0</td>\n      <td>Milwaukee, WI, 53228</td>\n    </tr>\n    <tr>\n      <th>148587</th>\n      <td>4.026220e+12</td>\n      <td>fraud_Dare-Marvin</td>\n      <td>entertainment</td>\n      <td>148.37</td>\n      <td>F</td>\n      <td>41.5224</td>\n      <td>-71.9934</td>\n      <td>Broadcast presenter</td>\n      <td>18/05/1977</td>\n      <td>42.196635</td>\n      <td>-71.938198</td>\n      <td>0</td>\n      <td>Preston, CT, 6365</td>\n    </tr>\n    <tr>\n      <th>...</th>\n      <td>...</td>\n      <td>...</td>\n      <td>...</td>\n      <td>...</td>\n      <td>...</td>\n      <td>...</td>\n      <td>...</td>\n      <td>...</td>\n      <td>...</td>\n      <td>...</td>\n      <td>...</td>\n      <td>...</td>\n      <td>...</td>\n    </tr>\n    <tr>\n      <th>301402</th>\n      <td>5.456710e+15</td>\n      <td>fraud_Kirlin and Sons</td>\n      <td>personal_care</td>\n      <td>51.86</td>\n      <td>F</td>\n      <td>36.1486</td>\n      <td>-105.6648</td>\n      <td>Architectural technologist</td>\n      <td>24/10/1961</td>\n      <td>35.672329</td>\n      <td>-106.219095</td>\n      <td>1</td>\n      <td>Llano, NM, 87543</td>\n    </tr>\n    <tr>\n      <th>301528</th>\n      <td>3.853050e+13</td>\n      <td>fraud_Torphy-Goyette</td>\n      <td>shopping_pos</td>\n      <td>1030.78</td>\n      <td>F</td>\n      <td>34.9572</td>\n      <td>-81.9916</td>\n      <td>Animal technologist</td>\n      <td>14/05/1989</td>\n      <td>34.730612</td>\n      <td>-82.966095</td>\n      <td>1</td>\n      <td>Arcadia, SC, 29320</td>\n    </tr>\n    <tr>\n      <th>301600</th>\n      <td>3.853050e+13</td>\n      <td>fraud_Romaguera Ltd</td>\n      <td>health_fitness</td>\n      <td>19.11</td>\n      <td>F</td>\n      <td>34.9572</td>\n      <td>-81.9916</td>\n      <td>Animal technologist</td>\n      <td>14/05/1989</td>\n      <td>35.052178</td>\n      <td>-81.245327</td>\n      <td>1</td>\n      <td>Arcadia, SC, 29320</td>\n    </tr>\n    <tr>\n      <th>301866</th>\n      <td>4.129770e+15</td>\n      <td>fraud_Bednar Group</td>\n      <td>misc_net</td>\n      <td>898.83</td>\n      <td>F</td>\n      <td>47.3551</td>\n      <td>-96.7980</td>\n      <td>Scientist, audiological</td>\n      <td>14/06/1972</td>\n      <td>48.192149</td>\n      <td>-96.998591</td>\n      <td>1</td>\n      <td>Halstad, MN, 56548</td>\n    </tr>\n    <tr>\n      <th>301881</th>\n      <td>4.129770e+15</td>\n      <td>fraud_Flatley Group</td>\n      <td>misc_pos</td>\n      <td>751.63</td>\n      <td>F</td>\n      <td>47.3551</td>\n      <td>-96.7980</td>\n      <td>Scientist, audiological</td>\n      <td>14/06/1972</td>\n      <td>46.961592</td>\n      <td>-97.504919</td>\n      <td>1</td>\n      <td>Halstad, MN, 56548</td>\n    </tr>\n  </tbody>\n</table>\n<p>4290 rows × 13 columns</p>\n</div>"
     },
     "execution_count": 40,
     "metadata": {},
     "output_type": "execute_result"
    }
   ],
   "source": [
    "merged_card_data['location'] = merged_card_data['city'] + ', ' + merged_card_data['state'] + ', ' + merged_card_data['zip'].astype(str)\n",
    "merged_card_data = merged_card_data.drop(['city', 'state', 'zip'], axis=1)\n",
    "merged_card_data"
   ],
   "metadata": {
    "collapsed": false,
    "ExecuteTime": {
     "end_time": "2024-04-23T11:45:00.378795Z",
     "start_time": "2024-04-23T11:45:00.333798Z"
    }
   },
   "execution_count": 40
  },
  {
   "cell_type": "code",
   "outputs": [
    {
     "data": {
      "text/plain": "              cc_num                               merchant        category  \\\n97028   2.131610e+14                  fraud_Rodriguez Group   gas_transport   \n78533   3.575790e+15  fraud_Bahringer, Bergnaum and Quitzon            home   \n280506  3.755340e+14                fraud_Bartoletti-Wunsch   gas_transport   \n265367  2.131910e+14                         fraud_Kuhn LLC    shopping_pos   \n148587  4.026220e+12                      fraud_Dare-Marvin   entertainment   \n...              ...                                    ...             ...   \n301402  5.456710e+15                  fraud_Kirlin and Sons   personal_care   \n301528  3.853050e+13                   fraud_Torphy-Goyette    shopping_pos   \n301600  3.853050e+13                    fraud_Romaguera Ltd  health_fitness   \n301866  4.129770e+15                     fraud_Bednar Group        misc_net   \n301881  4.129770e+15                    fraud_Flatley Group        misc_pos   \n\n            amt gender                                   job         dob  \\\n97028     91.75      F               Teacher, primary school  24/06/1968   \n78533      8.67      F                  Electronics engineer  17/07/1989   \n280506    65.37      M        Dance movement psychotherapist  28/03/1986   \n265367     1.89      M  Accountant, chartered public finance  18/03/2004   \n148587   148.37      F                   Broadcast presenter  18/05/1977   \n...         ...    ...                                   ...         ...   \n301402    51.86      F            Architectural technologist  24/10/1961   \n301528  1030.78      F                   Animal technologist  14/05/1989   \n301600    19.11      F                   Animal technologist  14/05/1989   \n301866   898.83      F               Scientist, audiological  14/06/1972   \n301881   751.63      F               Scientist, audiological  14/06/1972   \n\n        merch_lat  merch_long  is_fraud                   location  \\\n97028   43.430410  -77.891348         0  West Henrietta, NY, 14586   \n78533   39.171559  -94.143015         0      Centerview, MO, 64019   \n280506  37.483108  -78.647533         0        Doe Hill, VA, 24433   \n265367  42.153345  -88.481495         0       Milwaukee, WI, 53228   \n148587  42.196635  -71.938198         0          Preston, CT, 6365   \n...           ...         ...       ...                        ...   \n301402  35.672329 -106.219095         1           Llano, NM, 87543   \n301528  34.730612  -82.966095         1         Arcadia, SC, 29320   \n301600  35.052178  -81.245327         1         Arcadia, SC, 29320   \n301866  48.192149  -96.998591         1         Halstad, MN, 56548   \n301881  46.961592  -97.504919         1         Halstad, MN, 56548   \n\n                  lat_long  \n97028    43.0397, -77.6871  \n78533    38.7897, -93.8702  \n280506   38.4207, -79.4629  \n265367   42.9676, -88.0434  \n148587   41.5224, -71.9934  \n...                    ...  \n301402  36.1486, -105.6648  \n301528   34.9572, -81.9916  \n301600   34.9572, -81.9916  \n301866    47.3551, -96.798  \n301881    47.3551, -96.798  \n\n[4290 rows x 12 columns]",
      "text/html": "<div>\n<style scoped>\n    .dataframe tbody tr th:only-of-type {\n        vertical-align: middle;\n    }\n\n    .dataframe tbody tr th {\n        vertical-align: top;\n    }\n\n    .dataframe thead th {\n        text-align: right;\n    }\n</style>\n<table border=\"1\" class=\"dataframe\">\n  <thead>\n    <tr style=\"text-align: right;\">\n      <th></th>\n      <th>cc_num</th>\n      <th>merchant</th>\n      <th>category</th>\n      <th>amt</th>\n      <th>gender</th>\n      <th>job</th>\n      <th>dob</th>\n      <th>merch_lat</th>\n      <th>merch_long</th>\n      <th>is_fraud</th>\n      <th>location</th>\n      <th>lat_long</th>\n    </tr>\n  </thead>\n  <tbody>\n    <tr>\n      <th>97028</th>\n      <td>2.131610e+14</td>\n      <td>fraud_Rodriguez Group</td>\n      <td>gas_transport</td>\n      <td>91.75</td>\n      <td>F</td>\n      <td>Teacher, primary school</td>\n      <td>24/06/1968</td>\n      <td>43.430410</td>\n      <td>-77.891348</td>\n      <td>0</td>\n      <td>West Henrietta, NY, 14586</td>\n      <td>43.0397, -77.6871</td>\n    </tr>\n    <tr>\n      <th>78533</th>\n      <td>3.575790e+15</td>\n      <td>fraud_Bahringer, Bergnaum and Quitzon</td>\n      <td>home</td>\n      <td>8.67</td>\n      <td>F</td>\n      <td>Electronics engineer</td>\n      <td>17/07/1989</td>\n      <td>39.171559</td>\n      <td>-94.143015</td>\n      <td>0</td>\n      <td>Centerview, MO, 64019</td>\n      <td>38.7897, -93.8702</td>\n    </tr>\n    <tr>\n      <th>280506</th>\n      <td>3.755340e+14</td>\n      <td>fraud_Bartoletti-Wunsch</td>\n      <td>gas_transport</td>\n      <td>65.37</td>\n      <td>M</td>\n      <td>Dance movement psychotherapist</td>\n      <td>28/03/1986</td>\n      <td>37.483108</td>\n      <td>-78.647533</td>\n      <td>0</td>\n      <td>Doe Hill, VA, 24433</td>\n      <td>38.4207, -79.4629</td>\n    </tr>\n    <tr>\n      <th>265367</th>\n      <td>2.131910e+14</td>\n      <td>fraud_Kuhn LLC</td>\n      <td>shopping_pos</td>\n      <td>1.89</td>\n      <td>M</td>\n      <td>Accountant, chartered public finance</td>\n      <td>18/03/2004</td>\n      <td>42.153345</td>\n      <td>-88.481495</td>\n      <td>0</td>\n      <td>Milwaukee, WI, 53228</td>\n      <td>42.9676, -88.0434</td>\n    </tr>\n    <tr>\n      <th>148587</th>\n      <td>4.026220e+12</td>\n      <td>fraud_Dare-Marvin</td>\n      <td>entertainment</td>\n      <td>148.37</td>\n      <td>F</td>\n      <td>Broadcast presenter</td>\n      <td>18/05/1977</td>\n      <td>42.196635</td>\n      <td>-71.938198</td>\n      <td>0</td>\n      <td>Preston, CT, 6365</td>\n      <td>41.5224, -71.9934</td>\n    </tr>\n    <tr>\n      <th>...</th>\n      <td>...</td>\n      <td>...</td>\n      <td>...</td>\n      <td>...</td>\n      <td>...</td>\n      <td>...</td>\n      <td>...</td>\n      <td>...</td>\n      <td>...</td>\n      <td>...</td>\n      <td>...</td>\n      <td>...</td>\n    </tr>\n    <tr>\n      <th>301402</th>\n      <td>5.456710e+15</td>\n      <td>fraud_Kirlin and Sons</td>\n      <td>personal_care</td>\n      <td>51.86</td>\n      <td>F</td>\n      <td>Architectural technologist</td>\n      <td>24/10/1961</td>\n      <td>35.672329</td>\n      <td>-106.219095</td>\n      <td>1</td>\n      <td>Llano, NM, 87543</td>\n      <td>36.1486, -105.6648</td>\n    </tr>\n    <tr>\n      <th>301528</th>\n      <td>3.853050e+13</td>\n      <td>fraud_Torphy-Goyette</td>\n      <td>shopping_pos</td>\n      <td>1030.78</td>\n      <td>F</td>\n      <td>Animal technologist</td>\n      <td>14/05/1989</td>\n      <td>34.730612</td>\n      <td>-82.966095</td>\n      <td>1</td>\n      <td>Arcadia, SC, 29320</td>\n      <td>34.9572, -81.9916</td>\n    </tr>\n    <tr>\n      <th>301600</th>\n      <td>3.853050e+13</td>\n      <td>fraud_Romaguera Ltd</td>\n      <td>health_fitness</td>\n      <td>19.11</td>\n      <td>F</td>\n      <td>Animal technologist</td>\n      <td>14/05/1989</td>\n      <td>35.052178</td>\n      <td>-81.245327</td>\n      <td>1</td>\n      <td>Arcadia, SC, 29320</td>\n      <td>34.9572, -81.9916</td>\n    </tr>\n    <tr>\n      <th>301866</th>\n      <td>4.129770e+15</td>\n      <td>fraud_Bednar Group</td>\n      <td>misc_net</td>\n      <td>898.83</td>\n      <td>F</td>\n      <td>Scientist, audiological</td>\n      <td>14/06/1972</td>\n      <td>48.192149</td>\n      <td>-96.998591</td>\n      <td>1</td>\n      <td>Halstad, MN, 56548</td>\n      <td>47.3551, -96.798</td>\n    </tr>\n    <tr>\n      <th>301881</th>\n      <td>4.129770e+15</td>\n      <td>fraud_Flatley Group</td>\n      <td>misc_pos</td>\n      <td>751.63</td>\n      <td>F</td>\n      <td>Scientist, audiological</td>\n      <td>14/06/1972</td>\n      <td>46.961592</td>\n      <td>-97.504919</td>\n      <td>1</td>\n      <td>Halstad, MN, 56548</td>\n      <td>47.3551, -96.798</td>\n    </tr>\n  </tbody>\n</table>\n<p>4290 rows × 12 columns</p>\n</div>"
     },
     "execution_count": 41,
     "metadata": {},
     "output_type": "execute_result"
    }
   ],
   "source": [
    "merged_card_data['lat_long'] = merged_card_data['lat'].astype(str) + ', ' + merged_card_data['long'].astype(str)\n",
    "merged_card_data = merged_card_data.drop(['lat', 'long'], axis=1)\n",
    "merged_card_data"
   ],
   "metadata": {
    "collapsed": false,
    "ExecuteTime": {
     "end_time": "2024-04-23T11:45:00.425808Z",
     "start_time": "2024-04-23T11:45:00.380795Z"
    }
   },
   "execution_count": 41
  },
  {
   "cell_type": "code",
   "outputs": [
    {
     "data": {
      "text/plain": "              cc_num                               merchant        category  \\\n97028   2.131610e+14                  fraud_Rodriguez Group   gas_transport   \n78533   3.575790e+15  fraud_Bahringer, Bergnaum and Quitzon            home   \n280506  3.755340e+14                fraud_Bartoletti-Wunsch   gas_transport   \n265367  2.131910e+14                         fraud_Kuhn LLC    shopping_pos   \n148587  4.026220e+12                      fraud_Dare-Marvin   entertainment   \n...              ...                                    ...             ...   \n301402  5.456710e+15                  fraud_Kirlin and Sons   personal_care   \n301528  3.853050e+13                   fraud_Torphy-Goyette    shopping_pos   \n301600  3.853050e+13                    fraud_Romaguera Ltd  health_fitness   \n301866  4.129770e+15                     fraud_Bednar Group        misc_net   \n301881  4.129770e+15                    fraud_Flatley Group        misc_pos   \n\n            amt gender                                   job         dob  \\\n97028     91.75      F               Teacher, primary school  24/06/1968   \n78533      8.67      F                  Electronics engineer  17/07/1989   \n280506    65.37      M        Dance movement psychotherapist  28/03/1986   \n265367     1.89      M  Accountant, chartered public finance  18/03/2004   \n148587   148.37      F                   Broadcast presenter  18/05/1977   \n...         ...    ...                                   ...         ...   \n301402    51.86      F            Architectural technologist  24/10/1961   \n301528  1030.78      F                   Animal technologist  14/05/1989   \n301600    19.11      F                   Animal technologist  14/05/1989   \n301866   898.83      F               Scientist, audiological  14/06/1972   \n301881   751.63      F               Scientist, audiological  14/06/1972   \n\n        is_fraud                   location            lat_long  \\\n97028          0  West Henrietta, NY, 14586   43.0397, -77.6871   \n78533          0      Centerview, MO, 64019   38.7897, -93.8702   \n280506         0        Doe Hill, VA, 24433   38.4207, -79.4629   \n265367         0       Milwaukee, WI, 53228   42.9676, -88.0434   \n148587         0          Preston, CT, 6365   41.5224, -71.9934   \n...          ...                        ...                 ...   \n301402         1           Llano, NM, 87543  36.1486, -105.6648   \n301528         1         Arcadia, SC, 29320   34.9572, -81.9916   \n301600         1         Arcadia, SC, 29320   34.9572, -81.9916   \n301866         1         Halstad, MN, 56548    47.3551, -96.798   \n301881         1         Halstad, MN, 56548    47.3551, -96.798   \n\n             merchant_lat_long  \n97028     43.43041, -77.891348  \n78533    39.171559, -94.143015  \n280506   37.483108, -78.647533  \n265367   42.153345, -88.481495  \n148587   42.196635, -71.938198  \n...                        ...  \n301402  35.672329, -106.219095  \n301528   34.730612, -82.966095  \n301600   35.052178, -81.245327  \n301866   48.192149, -96.998591  \n301881   46.961592, -97.504919  \n\n[4290 rows x 11 columns]",
      "text/html": "<div>\n<style scoped>\n    .dataframe tbody tr th:only-of-type {\n        vertical-align: middle;\n    }\n\n    .dataframe tbody tr th {\n        vertical-align: top;\n    }\n\n    .dataframe thead th {\n        text-align: right;\n    }\n</style>\n<table border=\"1\" class=\"dataframe\">\n  <thead>\n    <tr style=\"text-align: right;\">\n      <th></th>\n      <th>cc_num</th>\n      <th>merchant</th>\n      <th>category</th>\n      <th>amt</th>\n      <th>gender</th>\n      <th>job</th>\n      <th>dob</th>\n      <th>is_fraud</th>\n      <th>location</th>\n      <th>lat_long</th>\n      <th>merchant_lat_long</th>\n    </tr>\n  </thead>\n  <tbody>\n    <tr>\n      <th>97028</th>\n      <td>2.131610e+14</td>\n      <td>fraud_Rodriguez Group</td>\n      <td>gas_transport</td>\n      <td>91.75</td>\n      <td>F</td>\n      <td>Teacher, primary school</td>\n      <td>24/06/1968</td>\n      <td>0</td>\n      <td>West Henrietta, NY, 14586</td>\n      <td>43.0397, -77.6871</td>\n      <td>43.43041, -77.891348</td>\n    </tr>\n    <tr>\n      <th>78533</th>\n      <td>3.575790e+15</td>\n      <td>fraud_Bahringer, Bergnaum and Quitzon</td>\n      <td>home</td>\n      <td>8.67</td>\n      <td>F</td>\n      <td>Electronics engineer</td>\n      <td>17/07/1989</td>\n      <td>0</td>\n      <td>Centerview, MO, 64019</td>\n      <td>38.7897, -93.8702</td>\n      <td>39.171559, -94.143015</td>\n    </tr>\n    <tr>\n      <th>280506</th>\n      <td>3.755340e+14</td>\n      <td>fraud_Bartoletti-Wunsch</td>\n      <td>gas_transport</td>\n      <td>65.37</td>\n      <td>M</td>\n      <td>Dance movement psychotherapist</td>\n      <td>28/03/1986</td>\n      <td>0</td>\n      <td>Doe Hill, VA, 24433</td>\n      <td>38.4207, -79.4629</td>\n      <td>37.483108, -78.647533</td>\n    </tr>\n    <tr>\n      <th>265367</th>\n      <td>2.131910e+14</td>\n      <td>fraud_Kuhn LLC</td>\n      <td>shopping_pos</td>\n      <td>1.89</td>\n      <td>M</td>\n      <td>Accountant, chartered public finance</td>\n      <td>18/03/2004</td>\n      <td>0</td>\n      <td>Milwaukee, WI, 53228</td>\n      <td>42.9676, -88.0434</td>\n      <td>42.153345, -88.481495</td>\n    </tr>\n    <tr>\n      <th>148587</th>\n      <td>4.026220e+12</td>\n      <td>fraud_Dare-Marvin</td>\n      <td>entertainment</td>\n      <td>148.37</td>\n      <td>F</td>\n      <td>Broadcast presenter</td>\n      <td>18/05/1977</td>\n      <td>0</td>\n      <td>Preston, CT, 6365</td>\n      <td>41.5224, -71.9934</td>\n      <td>42.196635, -71.938198</td>\n    </tr>\n    <tr>\n      <th>...</th>\n      <td>...</td>\n      <td>...</td>\n      <td>...</td>\n      <td>...</td>\n      <td>...</td>\n      <td>...</td>\n      <td>...</td>\n      <td>...</td>\n      <td>...</td>\n      <td>...</td>\n      <td>...</td>\n    </tr>\n    <tr>\n      <th>301402</th>\n      <td>5.456710e+15</td>\n      <td>fraud_Kirlin and Sons</td>\n      <td>personal_care</td>\n      <td>51.86</td>\n      <td>F</td>\n      <td>Architectural technologist</td>\n      <td>24/10/1961</td>\n      <td>1</td>\n      <td>Llano, NM, 87543</td>\n      <td>36.1486, -105.6648</td>\n      <td>35.672329, -106.219095</td>\n    </tr>\n    <tr>\n      <th>301528</th>\n      <td>3.853050e+13</td>\n      <td>fraud_Torphy-Goyette</td>\n      <td>shopping_pos</td>\n      <td>1030.78</td>\n      <td>F</td>\n      <td>Animal technologist</td>\n      <td>14/05/1989</td>\n      <td>1</td>\n      <td>Arcadia, SC, 29320</td>\n      <td>34.9572, -81.9916</td>\n      <td>34.730612, -82.966095</td>\n    </tr>\n    <tr>\n      <th>301600</th>\n      <td>3.853050e+13</td>\n      <td>fraud_Romaguera Ltd</td>\n      <td>health_fitness</td>\n      <td>19.11</td>\n      <td>F</td>\n      <td>Animal technologist</td>\n      <td>14/05/1989</td>\n      <td>1</td>\n      <td>Arcadia, SC, 29320</td>\n      <td>34.9572, -81.9916</td>\n      <td>35.052178, -81.245327</td>\n    </tr>\n    <tr>\n      <th>301866</th>\n      <td>4.129770e+15</td>\n      <td>fraud_Bednar Group</td>\n      <td>misc_net</td>\n      <td>898.83</td>\n      <td>F</td>\n      <td>Scientist, audiological</td>\n      <td>14/06/1972</td>\n      <td>1</td>\n      <td>Halstad, MN, 56548</td>\n      <td>47.3551, -96.798</td>\n      <td>48.192149, -96.998591</td>\n    </tr>\n    <tr>\n      <th>301881</th>\n      <td>4.129770e+15</td>\n      <td>fraud_Flatley Group</td>\n      <td>misc_pos</td>\n      <td>751.63</td>\n      <td>F</td>\n      <td>Scientist, audiological</td>\n      <td>14/06/1972</td>\n      <td>1</td>\n      <td>Halstad, MN, 56548</td>\n      <td>47.3551, -96.798</td>\n      <td>46.961592, -97.504919</td>\n    </tr>\n  </tbody>\n</table>\n<p>4290 rows × 11 columns</p>\n</div>"
     },
     "execution_count": 42,
     "metadata": {},
     "output_type": "execute_result"
    }
   ],
   "source": [
    "merged_card_data['merchant_lat_long'] = merged_card_data['merch_lat'].astype(str) + ', ' + merged_card_data['merch_long'].astype(str)\n",
    "merged_card_data = merged_card_data.drop(['merch_lat', 'merch_long'], axis=1)\n",
    "merged_card_data"
   ],
   "metadata": {
    "collapsed": false,
    "ExecuteTime": {
     "end_time": "2024-04-23T11:45:00.472795Z",
     "start_time": "2024-04-23T11:45:00.427796Z"
    }
   },
   "execution_count": 42
  },
  {
   "cell_type": "markdown",
   "source": [
    "### 5. Label Encoding"
   ],
   "metadata": {
    "collapsed": false
   }
  },
  {
   "cell_type": "code",
   "outputs": [
    {
     "data": {
      "text/plain": "        cc_num  merchant  category      amt  gender  job  dob  is_fraud  \\\n97028      236       512         2    91.75       0  412  601         0   \n78533      469        15         6     8.67       0  133  432         0   \n280506     304        24         2    65.37       1  104  699         0   \n265367     245       344        12     1.89       1    2  448         0   \n148587      68       123         0   148.37       0   45  451         0   \n...        ...       ...       ...      ...     ...  ...  ...       ...   \n301402     650       314        10    51.86       0   27  610         1   \n301528     191       613        12  1030.78       0   21  344         1   \n301600     191       516         5    19.11       0   21  344         1   \n301866     527        36         8   898.83       0  371  348         1   \n301881     527       174         9   751.63       0  371  348         1   \n\n        location  lat_long  merchant_lat_long  \n97028        765       666               3606  \n78533        124       339               1983  \n280506       197       320               1522  \n265367       460       657               3268  \n148587       587       567               3280  \n...          ...       ...                ...  \n301402       405       240               1206  \n301528        24       196               1017  \n301600        24       196               1085  \n301866       287       774               4205  \n301881       287       774               4114  \n\n[4290 rows x 11 columns]",
      "text/html": "<div>\n<style scoped>\n    .dataframe tbody tr th:only-of-type {\n        vertical-align: middle;\n    }\n\n    .dataframe tbody tr th {\n        vertical-align: top;\n    }\n\n    .dataframe thead th {\n        text-align: right;\n    }\n</style>\n<table border=\"1\" class=\"dataframe\">\n  <thead>\n    <tr style=\"text-align: right;\">\n      <th></th>\n      <th>cc_num</th>\n      <th>merchant</th>\n      <th>category</th>\n      <th>amt</th>\n      <th>gender</th>\n      <th>job</th>\n      <th>dob</th>\n      <th>is_fraud</th>\n      <th>location</th>\n      <th>lat_long</th>\n      <th>merchant_lat_long</th>\n    </tr>\n  </thead>\n  <tbody>\n    <tr>\n      <th>97028</th>\n      <td>236</td>\n      <td>512</td>\n      <td>2</td>\n      <td>91.75</td>\n      <td>0</td>\n      <td>412</td>\n      <td>601</td>\n      <td>0</td>\n      <td>765</td>\n      <td>666</td>\n      <td>3606</td>\n    </tr>\n    <tr>\n      <th>78533</th>\n      <td>469</td>\n      <td>15</td>\n      <td>6</td>\n      <td>8.67</td>\n      <td>0</td>\n      <td>133</td>\n      <td>432</td>\n      <td>0</td>\n      <td>124</td>\n      <td>339</td>\n      <td>1983</td>\n    </tr>\n    <tr>\n      <th>280506</th>\n      <td>304</td>\n      <td>24</td>\n      <td>2</td>\n      <td>65.37</td>\n      <td>1</td>\n      <td>104</td>\n      <td>699</td>\n      <td>0</td>\n      <td>197</td>\n      <td>320</td>\n      <td>1522</td>\n    </tr>\n    <tr>\n      <th>265367</th>\n      <td>245</td>\n      <td>344</td>\n      <td>12</td>\n      <td>1.89</td>\n      <td>1</td>\n      <td>2</td>\n      <td>448</td>\n      <td>0</td>\n      <td>460</td>\n      <td>657</td>\n      <td>3268</td>\n    </tr>\n    <tr>\n      <th>148587</th>\n      <td>68</td>\n      <td>123</td>\n      <td>0</td>\n      <td>148.37</td>\n      <td>0</td>\n      <td>45</td>\n      <td>451</td>\n      <td>0</td>\n      <td>587</td>\n      <td>567</td>\n      <td>3280</td>\n    </tr>\n    <tr>\n      <th>...</th>\n      <td>...</td>\n      <td>...</td>\n      <td>...</td>\n      <td>...</td>\n      <td>...</td>\n      <td>...</td>\n      <td>...</td>\n      <td>...</td>\n      <td>...</td>\n      <td>...</td>\n      <td>...</td>\n    </tr>\n    <tr>\n      <th>301402</th>\n      <td>650</td>\n      <td>314</td>\n      <td>10</td>\n      <td>51.86</td>\n      <td>0</td>\n      <td>27</td>\n      <td>610</td>\n      <td>1</td>\n      <td>405</td>\n      <td>240</td>\n      <td>1206</td>\n    </tr>\n    <tr>\n      <th>301528</th>\n      <td>191</td>\n      <td>613</td>\n      <td>12</td>\n      <td>1030.78</td>\n      <td>0</td>\n      <td>21</td>\n      <td>344</td>\n      <td>1</td>\n      <td>24</td>\n      <td>196</td>\n      <td>1017</td>\n    </tr>\n    <tr>\n      <th>301600</th>\n      <td>191</td>\n      <td>516</td>\n      <td>5</td>\n      <td>19.11</td>\n      <td>0</td>\n      <td>21</td>\n      <td>344</td>\n      <td>1</td>\n      <td>24</td>\n      <td>196</td>\n      <td>1085</td>\n    </tr>\n    <tr>\n      <th>301866</th>\n      <td>527</td>\n      <td>36</td>\n      <td>8</td>\n      <td>898.83</td>\n      <td>0</td>\n      <td>371</td>\n      <td>348</td>\n      <td>1</td>\n      <td>287</td>\n      <td>774</td>\n      <td>4205</td>\n    </tr>\n    <tr>\n      <th>301881</th>\n      <td>527</td>\n      <td>174</td>\n      <td>9</td>\n      <td>751.63</td>\n      <td>0</td>\n      <td>371</td>\n      <td>348</td>\n      <td>1</td>\n      <td>287</td>\n      <td>774</td>\n      <td>4114</td>\n    </tr>\n  </tbody>\n</table>\n<p>4290 rows × 11 columns</p>\n</div>"
     },
     "execution_count": 43,
     "metadata": {},
     "output_type": "execute_result"
    }
   ],
   "source": [
    "from sklearn.preprocessing import LabelEncoder\n",
    "\n",
    "encoder = LabelEncoder()\n",
    "\n",
    "merged_card_data['cc_num'] = encoder.fit_transform(merged_card_data['cc_num'])\n",
    "merged_card_data['merchant'] = encoder.fit_transform(merged_card_data['merchant'])\n",
    "merged_card_data['category'] = encoder.fit_transform(merged_card_data['category'])\n",
    "merged_card_data['gender'] = encoder.fit_transform(merged_card_data['gender'])\n",
    "merged_card_data['job'] = encoder.fit_transform(merged_card_data['job'])\n",
    "merged_card_data['dob'] = encoder.fit_transform(merged_card_data['dob'])\n",
    "merged_card_data['location'] = encoder.fit_transform(merged_card_data['location'])\n",
    "merged_card_data['lat_long'] = encoder.fit_transform(merged_card_data['lat_long'])\n",
    "merged_card_data['merchant_lat_long'] = encoder.fit_transform(merged_card_data['merchant_lat_long'])\n",
    "\n",
    "merged_card_data"
   ],
   "metadata": {
    "collapsed": false,
    "ExecuteTime": {
     "end_time": "2024-04-23T11:47:44.350560Z",
     "start_time": "2024-04-23T11:47:43.923562Z"
    }
   },
   "execution_count": 43
  },
  {
   "cell_type": "markdown",
   "source": [
    "### 6. Machine Learning"
   ],
   "metadata": {
    "collapsed": false
   }
  },
  {
   "cell_type": "code",
   "outputs": [
    {
     "name": "stdout",
     "output_type": "stream",
     "text": [
      "(3432, 10) (858, 10) (3432,) (858,)\n"
     ]
    }
   ],
   "source": [
    "from sklearn.model_selection import train_test_split\n",
    "\n",
    "X = merged_card_data.drop(columns = 'is_fraud', axis = 1)\n",
    "y = merged_card_data['is_fraud']\n",
    "\n",
    "X_train, X_test, y_train, y_test = train_test_split(X, y, random_state=42, test_size=.2)\n",
    "\n",
    "print(X_train.shape, X_test.shape, y_train.shape, y_test.shape)"
   ],
   "metadata": {
    "collapsed": false,
    "ExecuteTime": {
     "end_time": "2024-04-23T11:50:46.530074Z",
     "start_time": "2024-04-23T11:50:46.515077Z"
    }
   },
   "execution_count": 45
  },
  {
   "cell_type": "markdown",
   "source": [
    "### Logistic Regression"
   ],
   "metadata": {
    "collapsed": false
   }
  },
  {
   "cell_type": "code",
   "outputs": [
    {
     "name": "stderr",
     "output_type": "stream",
     "text": [
      "C:\\Users\\milanszilveszter\\.conda\\envs\\ML_Projectwork\\lib\\site-packages\\sklearn\\model_selection\\_search.py:307: UserWarning: The total space of parameters 52 is smaller than n_iter=100. Running 52 iterations. For exhaustive searches, use GridSearchCV.\n",
      "  warnings.warn(\n"
     ]
    },
    {
     "name": "stdout",
     "output_type": "stream",
     "text": [
      "Logistic Regression Best Parameters (RandomizedSearchCV): {'solver': 'saga', 'penalty': 'l1', 'C': 0.01}\n",
      "Logistic Regression Best Parameters (GridSearchCV): {'C': 0.01, 'penalty': 'l1', 'solver': 'saga'}\n",
      "Logistic Regression Best Score: 85.08\n",
      "Logistic Regression Best Score: 85.08\n"
     ]
    }
   ],
   "source": [
    "from sklearn.linear_model import LogisticRegression\n",
    "from sklearn.model_selection import GridSearchCV, RandomizedSearchCV\n",
    "\n",
    "logistic_param_grid = {\n",
    "    'penalty': ['l1', 'l2'],\n",
    "    'C': np.logspace(-6, 6, 13),\n",
    "    'solver': ['liblinear', 'saga']\n",
    "}\n",
    "\n",
    "# RandomizedSearchCV for model\n",
    "logistic_random_search = RandomizedSearchCV(LogisticRegression(), logistic_param_grid, n_iter=100, cv=5, n_jobs=-1)\n",
    "\n",
    "# Fit model using RandomizedSearchCV\n",
    "logistic_random_search.fit(X_train_scaled, y_train)\n",
    "\n",
    "print(\"Logistic Regression Best Parameters (RandomizedSearchCV):\", logistic_random_search.best_params_)\n",
    "\n",
    "# GridSearchCV for model using the full hyperparameter grid\n",
    "logistic_grid_search = GridSearchCV(LogisticRegression(), param_grid=logistic_param_grid, cv=5, n_jobs=-1)\n",
    "\n",
    "# Fit model using GridSearchCV\n",
    "logistic_grid_search.fit(X_train_scaled, y_train)\n",
    "\n",
    "print(\"Logistic Regression Best Parameters (GridSearchCV):\", logistic_grid_search.best_params_)\n",
    "\n",
    "logistic_cv_score = logistic_grid_search.best_score_\n",
    "print(f\"Logistic Regression Best Score: {round(logistic_cv_score * 100, 2)}\")"
   ],
   "metadata": {
    "collapsed": false,
    "ExecuteTime": {
     "end_time": "2024-04-23T12:12:33.850862Z",
     "start_time": "2024-04-23T12:12:32.600349Z"
    }
   },
   "execution_count": 67
  },
  {
   "cell_type": "markdown",
   "source": [
    "### SVM"
   ],
   "metadata": {
    "collapsed": false
   }
  },
  {
   "cell_type": "code",
   "outputs": [
    {
     "name": "stderr",
     "output_type": "stream",
     "text": [
      "C:\\Users\\milanszilveszter\\.conda\\envs\\ML_Projectwork\\lib\\site-packages\\sklearn\\model_selection\\_search.py:307: UserWarning: The total space of parameters 80 is smaller than n_iter=100. Running 80 iterations. For exhaustive searches, use GridSearchCV.\n",
      "  warnings.warn(\n"
     ]
    },
    {
     "name": "stdout",
     "output_type": "stream",
     "text": [
      "SVM Best Parameters (RandomizedSearchCV): {'kernel': 'rbf', 'gamma': 0.01, 'C': 1}\n",
      "SVM Best Score: 85.05\n"
     ]
    }
   ],
   "source": [
    "from sklearn import svm\n",
    "\n",
    "svm_param_grid = {\n",
    "    'C': [0.1, 1, 10, 100],\n",
    "    'gamma': [0.01, 0.1, 1, 'scale', 'auto'],\n",
    "    'kernel': ['linear', 'rbf', 'poly', 'sigmoid']\n",
    "}\n",
    "\n",
    "svm_random_search = RandomizedSearchCV(svm.SVC(), svm_param_grid, n_iter=100, cv=5, n_jobs=-1)\n",
    "svm_random_search.fit(X_train_scaled, y_train)\n",
    "print(\"SVM Best Parameters (RandomizedSearchCV):\", svm_random_search.best_params_)\n",
    "\n",
    "#svm_grid_search = GridSearchCV(svm.SVC(), param_grid=svm_param_grid, cv=5, n_jobs=-1)\n",
    "#svm_grid_search.fit(X_train_scaled, y_train)\n",
    "#print(\"SVM Best Parameters (GridSearchCV):\", svm_grid_search.best_params_)\n",
    "\n",
    "svm_cv_score = svm_random_search.best_score_\n",
    "print(f\"SVM Best Score: {round(svm_cv_score * 100, 2)}\")\n",
    "\n",
    "# Executed at 2024.04.23 15:50:10 in 1h 27m 51s\n",
    "#SVM Best Parameters (RandomizedSearchCV): {'kernel': 'rbf', 'gamma': 0.01, 'C': 1}\n",
    "#SVM Best Score: 85.05"
   ],
   "metadata": {
    "collapsed": false,
    "ExecuteTime": {
     "end_time": "2024-04-23T13:50:10.153822Z",
     "start_time": "2024-04-23T12:22:18.481761Z"
    }
   },
   "execution_count": 69
  },
  {
   "cell_type": "code",
   "outputs": [],
   "source": [],
   "metadata": {
    "collapsed": false
   }
  }
 ],
 "metadata": {
  "kernelspec": {
   "display_name": "Python 3",
   "language": "python",
   "name": "python3"
  },
  "language_info": {
   "codemirror_mode": {
    "name": "ipython",
    "version": 3
   },
   "file_extension": ".py",
   "mimetype": "text/x-python",
   "name": "python",
   "nbconvert_exporter": "python",
   "pygments_lexer": "ipython3",
   "version": "3.12.1"
  }
 },
 "nbformat": 4,
 "nbformat_minor": 2
}
